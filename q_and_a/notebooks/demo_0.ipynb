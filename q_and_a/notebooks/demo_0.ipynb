{
 "cells": [
  {
   "cell_type": "markdown",
   "metadata": {},
   "source": [
    "# Getting started with using Doc2Vec ( genism Model )\n",
    "\n",
    "## Imports\n",
    "\n",
    "These are the neccessary libs that we are going to use in this session."
   ]
  },
  {
   "cell_type": "code",
   "execution_count": 41,
   "metadata": {},
   "outputs": [],
   "source": [
    "import nltk\n",
    "import pandas as pd\n",
    "\n",
    "from nltk.corpus import stopwords\n",
    "from nltk.stem import SnowballStemmer\n",
    "\n",
    "import re\n",
    "from gensim import utils\n",
    "from gensim.models.doc2vec import LabeledSentence\n",
    "from gensim.models.doc2vec import Doc2Vec, TaggedDocument"
   ]
  },
  {
   "cell_type": "markdown",
   "metadata": {},
   "source": [
    "Downloading the neccessay packaages for data-preprocessing"
   ]
  },
  {
   "cell_type": "code",
   "execution_count": 2,
   "metadata": {},
   "outputs": [
    {
     "name": "stderr",
     "output_type": "stream",
     "text": [
      "[nltk_data] Downloading package punkt to /home/buckaroo/nltk_data...\n",
      "[nltk_data]   Package punkt is already up-to-date!\n",
      "[nltk_data] Downloading package stopwords to\n",
      "[nltk_data]     /home/buckaroo/nltk_data...\n",
      "[nltk_data]   Package stopwords is already up-to-date!\n"
     ]
    },
    {
     "data": {
      "text/plain": [
       "True"
      ]
     },
     "execution_count": 2,
     "metadata": {},
     "output_type": "execute_result"
    }
   ],
   "source": [
    "#stopwords like the at a an, unnecesasry\n",
    "#tokenization into sentences, punkt \n",
    "#http://www.nltk.org/\n",
    "nltk.download(\"punkt\")\n",
    "nltk.download(\"stopwords\")"
   ]
  },
  {
   "cell_type": "markdown",
   "metadata": {},
   "source": [
    "# Reading CSV\n",
    "\n",
    "We are importing the CSV containing the Question , Answering maping. Let's visualize it and check it out"
   ]
  },
  {
   "cell_type": "code",
   "execution_count": 6,
   "metadata": {},
   "outputs": [
    {
     "data": {
      "text/html": [
       "<div>\n",
       "<style scoped>\n",
       "    .dataframe tbody tr th:only-of-type {\n",
       "        vertical-align: middle;\n",
       "    }\n",
       "\n",
       "    .dataframe tbody tr th {\n",
       "        vertical-align: top;\n",
       "    }\n",
       "\n",
       "    .dataframe thead th {\n",
       "        text-align: right;\n",
       "    }\n",
       "</style>\n",
       "<table border=\"1\" class=\"dataframe\">\n",
       "  <thead>\n",
       "    <tr style=\"text-align: right;\">\n",
       "      <th></th>\n",
       "      <th>Question</th>\n",
       "      <th>Answer</th>\n",
       "    </tr>\n",
       "  </thead>\n",
       "  <tbody>\n",
       "    <tr>\n",
       "      <th>0</th>\n",
       "      <td>Does the Zeamed provide 24/7 customer support?</td>\n",
       "      <td>Yes</td>\n",
       "    </tr>\n",
       "    <tr>\n",
       "      <th>1</th>\n",
       "      <td>Is it a free service?</td>\n",
       "      <td>yes</td>\n",
       "    </tr>\n",
       "    <tr>\n",
       "      <th>2</th>\n",
       "      <td>Why is Zeamed providing a free service?</td>\n",
       "      <td>ZeaMed is absolutely free for consumers.Our a...</td>\n",
       "    </tr>\n",
       "    <tr>\n",
       "      <th>3</th>\n",
       "      <td>Where do I find zeamed doctor Profile on this ...</td>\n",
       "      <td>Select the test name and location and click on...</td>\n",
       "    </tr>\n",
       "    <tr>\n",
       "      <th>4</th>\n",
       "      <td>Will the patient info be secured?</td>\n",
       "      <td>Yes patient information/data is secured as per...</td>\n",
       "    </tr>\n",
       "  </tbody>\n",
       "</table>\n",
       "</div>"
      ],
      "text/plain": [
       "                                            Question  \\\n",
       "0     Does the Zeamed provide 24/7 customer support?   \n",
       "1                              Is it a free service?   \n",
       "2            Why is Zeamed providing a free service?   \n",
       "3  Where do I find zeamed doctor Profile on this ...   \n",
       "4                 Will the patient info be secured?    \n",
       "\n",
       "                                              Answer  \n",
       "0                                                Yes  \n",
       "1                                                yes  \n",
       "2   ZeaMed is absolutely free for consumers.Our a...  \n",
       "3  Select the test name and location and click on...  \n",
       "4  Yes patient information/data is secured as per...  "
      ]
     },
     "execution_count": 6,
     "metadata": {},
     "output_type": "execute_result"
    }
   ],
   "source": [
    "df = pd.read_csv(\"../data/zeamed-web/zeamed-faq.csv\")\n",
    "df.head(5)"
   ]
  },
  {
   "cell_type": "markdown",
   "metadata": {},
   "source": [
    "# Pre-processing\n",
    "\n",
    "This utility is used for preprocessing the sentences/words that is removing the unneccessary things that doesnot contribute any **meaning or value**"
   ]
  },
  {
   "cell_type": "code",
   "execution_count": 9,
   "metadata": {},
   "outputs": [],
   "source": [
    "def review_to_wordlist(review, remove_stopwords=True):\n",
    "    # Clean the text, with the option to remove stopwords.\n",
    "    \n",
    "    # Convert words to lower case and split them\n",
    "    words = review.lower().split()\n",
    "\n",
    "    # Optionally remove stop words (true by default)\n",
    "    if remove_stopwords:\n",
    "        stops = set(stopwords.words(\"english\"))\n",
    "        words = [w for w in words if not w in stops]\n",
    "    \n",
    "    review_text = \" \".join(words)\n",
    "\n",
    "    # Clean the text\n",
    "    review_text = re.sub(r\"[^A-Za-z0-9(),!.?\\'\\`]\", \" \", review_text)\n",
    "    review_text = re.sub(r\"\\'s\", \" 's \", review_text)\n",
    "    review_text = re.sub(r\"\\'ve\", \" 've \", review_text)\n",
    "    review_text = re.sub(r\"n\\'t\", \" 't \", review_text)\n",
    "    review_text = re.sub(r\"\\'re\", \" 're \", review_text)\n",
    "    review_text = re.sub(r\"\\'d\", \" 'd \", review_text)\n",
    "    review_text = re.sub(r\"\\'ll\", \" 'll \", review_text)\n",
    "    review_text = re.sub(r\",\", \" \", review_text)\n",
    "    review_text = re.sub(r\"\\.\", \" \", review_text)\n",
    "    review_text = re.sub(r\"!\", \" \", review_text)\n",
    "    review_text = re.sub(r\"\\(\", \" ( \", review_text)\n",
    "    review_text = re.sub(r\"\\)\", \" ) \", review_text)\n",
    "    review_text = re.sub(r\"\\?\", \" \", review_text)\n",
    "    review_text = re.sub(r\"\\s{2,}\", \" \", review_text)\n",
    "    \n",
    "    words = review_text.split()\n",
    "    \n",
    "    # Shorten words to their stems\n",
    "    stemmer = SnowballStemmer('english')\n",
    "    stemmed_words = [stemmer.stem(word) for word in words]\n",
    "    \n",
    "    review_text = \" \".join(stemmed_words)\n",
    "    \n",
    "    # Return a list of words\n",
    "    return(review_text)"
   ]
  },
  {
   "cell_type": "markdown",
   "metadata": {},
   "source": [
    "This utility is for clean the sentences in the array and append them into the `question_list` array which will use later for training the `Doc2Vec` model"
   ]
  },
  {
   "cell_type": "code",
   "execution_count": 22,
   "metadata": {},
   "outputs": [],
   "source": [
    "def process_questions(question_list, questions, question_list_name):\n",
    "# function to transform questions and display progress\n",
    "    for question in questions:\n",
    "        question_list.append(review_to_wordlist(question,False))\n",
    "        if len(question_list) % 5 == 0:\n",
    "            progress = len(question_list)/len(df) * 100\n",
    "            print(\"{} is {}% complete.\".format(question_list_name, round(progress, 1)))"
   ]
  },
  {
   "cell_type": "code",
   "execution_count": 25,
   "metadata": {},
   "outputs": [
    {
     "name": "stdout",
     "output_type": "stream",
     "text": [
      "Questions is 22.7% complete.\n",
      "Questions is 45.5% complete.\n",
      "Questions is 68.2% complete.\n",
      "Questions is 90.9% complete.\n"
     ]
    },
    {
     "data": {
      "text/plain": [
       "['doe the zeam provid 24 7 custom support',\n",
       " 'is it a free servic',\n",
       " 'whi is zeam provid a free servic',\n",
       " 'where do i find zeam doctor profil on this app',\n",
       " 'will the patient info be secur',\n",
       " 'who are zeam s user',\n",
       " 'what is zeam',\n",
       " 'if we book an appoint through you ( zeam com ) do i stand a better chanc of get an appoint',\n",
       " 'are there ani addit featur i have access to with this app',\n",
       " 'how do i instal the zeam app for doctor',\n",
       " 'is it free to use',\n",
       " 'i book an appoint through you with a doctor will i have to be there on time what if i arriv late',\n",
       " 'is it a free servic whi is zeam provid a free servic',\n",
       " 'do i have to show the zeam appoint id when visit a clinic hospit for my appoint',\n",
       " 'some doctor clinic hospit in my area are not list on zeam com what do i do about it',\n",
       " 'is zeam safe to approach',\n",
       " 'what if a patient has ani issu schedul an appoint onlin',\n",
       " 'how can patient search for appoint',\n",
       " 'if a patient has an appoint book at a particular time can the patient book anoth appoint at the same time via zeam',\n",
       " 'is onlin schedul avail in multipl languag',\n",
       " 'what should patient do if a specif reason for visit isn t list',\n",
       " 'what internet browser provid patient with the best onlin schedul experi']"
      ]
     },
     "execution_count": 25,
     "metadata": {},
     "output_type": "execute_result"
    }
   ],
   "source": [
    "questions = []\n",
    "process_questions(questions,df.Question,'Questions')\n",
    "questions"
   ]
  },
  {
   "cell_type": "markdown",
   "metadata": {},
   "source": [
    "`query` is out input and we pre-processing , storing it in a `question` which we will use it for testing the `Doc2Vec` Model."
   ]
  },
  {
   "cell_type": "code",
   "execution_count": 97,
   "metadata": {},
   "outputs": [
    {
     "data": {
      "text/plain": [
       "'who are you'"
      ]
     },
     "execution_count": 97,
     "metadata": {},
     "output_type": "execute_result"
    }
   ],
   "source": [
    "query=\"who are you ?\"\n",
    "question = review_to_wordlist(query,False)\n",
    "question"
   ]
  },
  {
   "cell_type": "markdown",
   "metadata": {},
   "source": [
    "`labeled_questions` will be an array containing the sentences in form of `LabeledSentence` object , which we'll inject into `Doc2Vec` model."
   ]
  },
  {
   "cell_type": "code",
   "execution_count": 70,
   "metadata": {},
   "outputs": [
    {
     "name": "stderr",
     "output_type": "stream",
     "text": [
      "/home/buckaroo/.local/lib/python3.7/site-packages/ipykernel_launcher.py:5: DeprecationWarning: Call to deprecated `LabeledSentence` (Class will be removed in 4.0.0, use TaggedDocument instead).\n",
      "  \"\"\"\n"
     ]
    },
    {
     "data": {
      "text/plain": [
       "[LabeledSentence(words=['doe', 'the', 'zeam', 'provid', '24', '7', 'custom', 'support'], tags=[1]),\n",
       " LabeledSentence(words=['is', 'it', 'a', 'free', 'servic'], tags=[2]),\n",
       " LabeledSentence(words=['whi', 'is', 'zeam', 'provid', 'a', 'free', 'servic'], tags=[3]),\n",
       " LabeledSentence(words=['where', 'do', 'i', 'find', 'zeam', 'doctor', 'profil', 'on', 'this', 'app'], tags=[4]),\n",
       " LabeledSentence(words=['will', 'the', 'patient', 'info', 'be', 'secur'], tags=[5]),\n",
       " LabeledSentence(words=['who', 'are', 'zeam', 's', 'user'], tags=[6]),\n",
       " LabeledSentence(words=['what', 'is', 'zeam'], tags=[7]),\n",
       " LabeledSentence(words=['if', 'we', 'book', 'an', 'appoint', 'through', 'you', '(', 'zeam', 'com', ')', 'do', 'i', 'stand', 'a', 'better', 'chanc', 'of', 'get', 'an', 'appoint'], tags=[8]),\n",
       " LabeledSentence(words=['are', 'there', 'ani', 'addit', 'featur', 'i', 'have', 'access', 'to', 'with', 'this', 'app'], tags=[9]),\n",
       " LabeledSentence(words=['how', 'do', 'i', 'instal', 'the', 'zeam', 'app', 'for', 'doctor'], tags=[10]),\n",
       " LabeledSentence(words=['is', 'it', 'free', 'to', 'use'], tags=[11]),\n",
       " LabeledSentence(words=['i', 'book', 'an', 'appoint', 'through', 'you', 'with', 'a', 'doctor', 'will', 'i', 'have', 'to', 'be', 'there', 'on', 'time', 'what', 'if', 'i', 'arriv', 'late'], tags=[12]),\n",
       " LabeledSentence(words=['is', 'it', 'a', 'free', 'servic', 'whi', 'is', 'zeam', 'provid', 'a', 'free', 'servic'], tags=[13]),\n",
       " LabeledSentence(words=['do', 'i', 'have', 'to', 'show', 'the', 'zeam', 'appoint', 'id', 'when', 'visit', 'a', 'clinic', 'hospit', 'for', 'my', 'appoint'], tags=[14]),\n",
       " LabeledSentence(words=['some', 'doctor', 'clinic', 'hospit', 'in', 'my', 'area', 'are', 'not', 'list', 'on', 'zeam', 'com', 'what', 'do', 'i', 'do', 'about', 'it'], tags=[15]),\n",
       " LabeledSentence(words=['is', 'zeam', 'safe', 'to', 'approach'], tags=[16]),\n",
       " LabeledSentence(words=['what', 'if', 'a', 'patient', 'has', 'ani', 'issu', 'schedul', 'an', 'appoint', 'onlin'], tags=[17]),\n",
       " LabeledSentence(words=['how', 'can', 'patient', 'search', 'for', 'appoint'], tags=[18]),\n",
       " LabeledSentence(words=['if', 'a', 'patient', 'has', 'an', 'appoint', 'book', 'at', 'a', 'particular', 'time', 'can', 'the', 'patient', 'book', 'anoth', 'appoint', 'at', 'the', 'same', 'time', 'via', 'zeam'], tags=[19]),\n",
       " LabeledSentence(words=['is', 'onlin', 'schedul', 'avail', 'in', 'multipl', 'languag'], tags=[20]),\n",
       " LabeledSentence(words=['what', 'should', 'patient', 'do', 'if', 'a', 'specif', 'reason', 'for', 'visit', 'isn', 't', 'list'], tags=[21]),\n",
       " LabeledSentence(words=['what', 'internet', 'browser', 'provid', 'patient', 'with', 'the', 'best', 'onlin', 'schedul', 'experi'], tags=[22])]"
      ]
     },
     "execution_count": 70,
     "metadata": {},
     "output_type": "execute_result"
    }
   ],
   "source": [
    "labeled_questions = []\n",
    "\n",
    "for i,sentence in enumerate(questions):\n",
    "    #print(i,sentence)\n",
    "    labeled_questions.append( LabeledSentence( sentence.split() , [(i+1)] ) )\n",
    "\n",
    "labeled_questions"
   ]
  },
  {
   "cell_type": "markdown",
   "metadata": {},
   "source": [
    "Converting the `string` into `LabeledSentence` Object for testing purpose"
   ]
  },
  {
   "cell_type": "code",
   "execution_count": 82,
   "metadata": {},
   "outputs": [
    {
     "name": "stderr",
     "output_type": "stream",
     "text": [
      "/home/buckaroo/.local/lib/python3.7/site-packages/ipykernel_launcher.py:1: DeprecationWarning: Call to deprecated `LabeledSentence` (Class will be removed in 4.0.0, use TaggedDocument instead).\n",
      "  \"\"\"Entry point for launching an IPython kernel.\n"
     ]
    }
   ],
   "source": [
    "query_label = LabeledSentence(question,[0])"
   ]
  },
  {
   "cell_type": "markdown",
   "metadata": {},
   "source": [
    "# Building\n",
    "We are building the model with the array `labeled_questions` our list of questionaires , and vocabulary."
   ]
  },
  {
   "cell_type": "code",
   "execution_count": 91,
   "metadata": {},
   "outputs": [],
   "source": [
    "# Build the model\n",
    "\n",
    "model = Doc2Vec(labeled_questions ,vector_size=50, window=2, min_count=1, workers=4)\n",
    "model.build_vocab(labeled_questions ,update=True)"
   ]
  },
  {
   "cell_type": "markdown",
   "metadata": {},
   "source": [
    "# Training \n",
    "\n",
    "Training the model for `epochs=20` "
   ]
  },
  {
   "cell_type": "code",
   "execution_count": 102,
   "metadata": {},
   "outputs": [],
   "source": [
    "# Train the model\n",
    "# 20 epochs performs a bit better, but timed out when uploading\n",
    "\n",
    "model.train(labeled_questions, total_examples=model.corpus_count, epochs=20 )"
   ]
  },
  {
   "cell_type": "markdown",
   "metadata": {},
   "source": [
    "# Testing\n",
    "\n",
    "We are testing the input `question` with all the list of questions that we have gathered."
   ]
  },
  {
   "cell_type": "code",
   "execution_count": 100,
   "metadata": {},
   "outputs": [
    {
     "name": "stdout",
     "output_type": "stream",
     "text": [
      "0 doe the zeam provid 24 7 custom support => 0.88\n",
      "1 is it a free servic => 0.83\n",
      "2 whi is zeam provid a free servic => 0.85\n",
      "3 where do i find zeam doctor profil on this app => 0.94\n",
      "4 will the patient info be secur => 0.93\n",
      "5 who are zeam s user => 0.97\n",
      "6 what is zeam => 0.94\n",
      "7 if we book an appoint through you ( zeam com ) do i stand a better chanc of get an appoint => 0.93\n",
      "8 are there ani addit featur i have access to with this app => 0.94\n",
      "9 how do i instal the zeam app for doctor => 0.97\n",
      "10 is it free to use => 0.87\n",
      "11 i book an appoint through you with a doctor will i have to be there on time what if i arriv late => 0.98\n",
      "12 is it a free servic whi is zeam provid a free servic => 0.84\n",
      "13 do i have to show the zeam appoint id when visit a clinic hospit for my appoint => 0.96\n",
      "14 some doctor clinic hospit in my area are not list on zeam com what do i do about it => 0.94\n",
      "15 is zeam safe to approach => 0.93\n",
      "16 what if a patient has ani issu schedul an appoint onlin => 0.92\n",
      "17 how can patient search for appoint => 0.91\n",
      "18 if a patient has an appoint book at a particular time can the patient book anoth appoint at the same time via zeam => 0.87\n",
      "19 is onlin schedul avail in multipl languag => 0.88\n",
      "20 what should patient do if a specif reason for visit isn t list => 0.91\n",
      "21 what internet browser provid patient with the best onlin schedul experi => 0.89\n"
     ]
    }
   ],
   "source": [
    "for i , ques in enumerate(questions):\n",
    "    score = model.wv.n_similarity(ques.lower().split() ,question.lower().split() )\n",
    "    print(i,ques,'=>',round(score,2))"
   ]
  },
  {
   "cell_type": "markdown",
   "metadata": {},
   "source": [
    "# Reference :\n",
    "\n",
    "https://rare-technologies.com/doc2vec-tutorial/ <br>\n",
    "https://radimrehurek.com/gensim/models/doc2vec.html"
   ]
  }
 ],
 "metadata": {
  "kernelspec": {
   "display_name": "Python 3",
   "language": "python",
   "name": "python3"
  },
  "language_info": {
   "codemirror_mode": {
    "name": "ipython",
    "version": 3
   },
   "file_extension": ".py",
   "mimetype": "text/x-python",
   "name": "python",
   "nbconvert_exporter": "python",
   "pygments_lexer": "ipython3",
   "version": "3.7.3"
  }
 },
 "nbformat": 4,
 "nbformat_minor": 4
}
