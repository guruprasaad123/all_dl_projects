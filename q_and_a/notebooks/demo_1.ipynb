{
 "cells": [
  {
   "cell_type": "markdown",
   "metadata": {},
   "source": [
    "# Tensorflow Implementation\n",
    "\n",
    "## Imports\n",
    "\n",
    "We are importing all the neccessary libraries that we are gonna use."
   ]
  },
  {
   "cell_type": "code",
   "execution_count": 1,
   "metadata": {},
   "outputs": [
    {
     "name": "stderr",
     "output_type": "stream",
     "text": [
      "/home/buckaroo/nlp/lib/python3.7/site-packages/tensorflow/python/framework/dtypes.py:516: FutureWarning: Passing (type, 1) or '1type' as a synonym of type is deprecated; in a future version of numpy, it will be understood as (type, (1,)) / '(1,)type'.\n",
      "  _np_qint8 = np.dtype([(\"qint8\", np.int8, 1)])\n",
      "/home/buckaroo/nlp/lib/python3.7/site-packages/tensorflow/python/framework/dtypes.py:517: FutureWarning: Passing (type, 1) or '1type' as a synonym of type is deprecated; in a future version of numpy, it will be understood as (type, (1,)) / '(1,)type'.\n",
      "  _np_quint8 = np.dtype([(\"quint8\", np.uint8, 1)])\n",
      "/home/buckaroo/nlp/lib/python3.7/site-packages/tensorflow/python/framework/dtypes.py:518: FutureWarning: Passing (type, 1) or '1type' as a synonym of type is deprecated; in a future version of numpy, it will be understood as (type, (1,)) / '(1,)type'.\n",
      "  _np_qint16 = np.dtype([(\"qint16\", np.int16, 1)])\n",
      "/home/buckaroo/nlp/lib/python3.7/site-packages/tensorflow/python/framework/dtypes.py:519: FutureWarning: Passing (type, 1) or '1type' as a synonym of type is deprecated; in a future version of numpy, it will be understood as (type, (1,)) / '(1,)type'.\n",
      "  _np_quint16 = np.dtype([(\"quint16\", np.uint16, 1)])\n",
      "/home/buckaroo/nlp/lib/python3.7/site-packages/tensorflow/python/framework/dtypes.py:520: FutureWarning: Passing (type, 1) or '1type' as a synonym of type is deprecated; in a future version of numpy, it will be understood as (type, (1,)) / '(1,)type'.\n",
      "  _np_qint32 = np.dtype([(\"qint32\", np.int32, 1)])\n",
      "/home/buckaroo/nlp/lib/python3.7/site-packages/tensorflow/python/framework/dtypes.py:525: FutureWarning: Passing (type, 1) or '1type' as a synonym of type is deprecated; in a future version of numpy, it will be understood as (type, (1,)) / '(1,)type'.\n",
      "  np_resource = np.dtype([(\"resource\", np.ubyte, 1)])\n",
      "/home/buckaroo/nlp/lib/python3.7/site-packages/tensorboard/compat/tensorflow_stub/dtypes.py:541: FutureWarning: Passing (type, 1) or '1type' as a synonym of type is deprecated; in a future version of numpy, it will be understood as (type, (1,)) / '(1,)type'.\n",
      "  _np_qint8 = np.dtype([(\"qint8\", np.int8, 1)])\n",
      "/home/buckaroo/nlp/lib/python3.7/site-packages/tensorboard/compat/tensorflow_stub/dtypes.py:542: FutureWarning: Passing (type, 1) or '1type' as a synonym of type is deprecated; in a future version of numpy, it will be understood as (type, (1,)) / '(1,)type'.\n",
      "  _np_quint8 = np.dtype([(\"quint8\", np.uint8, 1)])\n",
      "/home/buckaroo/nlp/lib/python3.7/site-packages/tensorboard/compat/tensorflow_stub/dtypes.py:543: FutureWarning: Passing (type, 1) or '1type' as a synonym of type is deprecated; in a future version of numpy, it will be understood as (type, (1,)) / '(1,)type'.\n",
      "  _np_qint16 = np.dtype([(\"qint16\", np.int16, 1)])\n",
      "/home/buckaroo/nlp/lib/python3.7/site-packages/tensorboard/compat/tensorflow_stub/dtypes.py:544: FutureWarning: Passing (type, 1) or '1type' as a synonym of type is deprecated; in a future version of numpy, it will be understood as (type, (1,)) / '(1,)type'.\n",
      "  _np_quint16 = np.dtype([(\"quint16\", np.uint16, 1)])\n",
      "/home/buckaroo/nlp/lib/python3.7/site-packages/tensorboard/compat/tensorflow_stub/dtypes.py:545: FutureWarning: Passing (type, 1) or '1type' as a synonym of type is deprecated; in a future version of numpy, it will be understood as (type, (1,)) / '(1,)type'.\n",
      "  _np_qint32 = np.dtype([(\"qint32\", np.int32, 1)])\n",
      "/home/buckaroo/nlp/lib/python3.7/site-packages/tensorboard/compat/tensorflow_stub/dtypes.py:550: FutureWarning: Passing (type, 1) or '1type' as a synonym of type is deprecated; in a future version of numpy, it will be understood as (type, (1,)) / '(1,)type'.\n",
      "  np_resource = np.dtype([(\"resource\", np.ubyte, 1)])\n"
     ]
    }
   ],
   "source": [
    "import tensorflow as tf\n",
    "import tensorflow_hub as hub\n",
    "import matplotlib.pyplot as plt\n",
    "import numpy as np\n",
    "import os\n",
    "import pandas as pd\n",
    "import re\n",
    "# import seaborn as sns"
   ]
  },
  {
   "cell_type": "markdown",
   "metadata": {},
   "source": [
    "We are using [tensorflow hub](https://tfhub.dev/google/universal-sentence-encoder/4) which encodes text into high-dimensional vectors that can be used for text classification, semantic similarity, clustering and other natural language tasks. <br>\n",
    "\n",
    "we are intializing the the model with this enocder below."
   ]
  },
  {
   "cell_type": "code",
   "execution_count": 2,
   "metadata": {},
   "outputs": [
    {
     "name": "stdout",
     "output_type": "stream",
     "text": [
      "module https://tfhub.dev/google/universal-sentence-encoder/4 loaded\n"
     ]
    }
   ],
   "source": [
    "module_url = \"https://tfhub.dev/google/universal-sentence-encoder/4\" #@param [\"https://tfhub.dev/google/universal-sentence-encoder/4\", \"https://tfhub.dev/google/universal-sentence-encoder-large/5\"]\n",
    "# module_url = \"../data\"\n",
    "model = hub.load(module_url)\n",
    "print (\"module %s loaded\" % module_url)\n",
    "def embed(input):\n",
    "  return model(input)"
   ]
  },
  {
   "cell_type": "markdown",
   "metadata": {},
   "source": [
    "Below in this small example , we are trying to compare the semantic similarity between these two sentences : <br>\n",
    "\n",
    "Sentence 1 : `Python is a good language` <br>\n",
    "\n",
    "Sentence 2 : `Language a good python is` <br>\n",
    "\n",
    "As we know content-wise they contribute the same meaning. So we are expecting a cosine-angle score close to `1` "
   ]
  },
  {
   "cell_type": "code",
   "execution_count": 3,
   "metadata": {},
   "outputs": [
    {
     "name": "stdout",
     "output_type": "stream",
     "text": [
      "Similarity is 0.80158687\n"
     ]
    }
   ],
   "source": [
    "sentences = [\"what is your age ?\",\"how old are you ?\"]\n",
    "\n",
    "similarity_input_placeholder = tf.placeholder(tf.string, shape=(None))\n",
    "similarity_sentences_encodings = model(similarity_input_placeholder)\n",
    "\n",
    "with tf.Session() as session:\n",
    "    session.run(tf.global_variables_initializer())\n",
    "    session.run(tf.tables_initializer())\n",
    "  \n",
    "    sentences_embeddings = session.run( similarity_sentences_encodings, feed_dict={\n",
    "        similarity_input_placeholder: sentences\n",
    "    })\n",
    "  \n",
    "    similarity = np.inner(sentences_embeddings[0], sentences_embeddings[1])\n",
    "  \n",
    "    print(\"Similarity is %s\" % similarity)"
   ]
  },
  {
   "cell_type": "markdown",
   "metadata": {},
   "source": [
    "# Importing Dataset\n",
    "\n",
    "We are importing the dataset containing the key-value pair of Question and Answering and visualizing the contents."
   ]
  },
  {
   "cell_type": "code",
   "execution_count": 4,
   "metadata": {},
   "outputs": [
    {
     "data": {
      "text/html": [
       "<div>\n",
       "<style scoped>\n",
       "    .dataframe tbody tr th:only-of-type {\n",
       "        vertical-align: middle;\n",
       "    }\n",
       "\n",
       "    .dataframe tbody tr th {\n",
       "        vertical-align: top;\n",
       "    }\n",
       "\n",
       "    .dataframe thead th {\n",
       "        text-align: right;\n",
       "    }\n",
       "</style>\n",
       "<table border=\"1\" class=\"dataframe\">\n",
       "  <thead>\n",
       "    <tr style=\"text-align: right;\">\n",
       "      <th></th>\n",
       "      <th>Question</th>\n",
       "      <th>Answer</th>\n",
       "    </tr>\n",
       "  </thead>\n",
       "  <tbody>\n",
       "    <tr>\n",
       "      <th>0</th>\n",
       "      <td>Does the Zeamed provide 24/7 customer support?</td>\n",
       "      <td>Yes</td>\n",
       "    </tr>\n",
       "    <tr>\n",
       "      <th>1</th>\n",
       "      <td>Is it a free service?</td>\n",
       "      <td>yes</td>\n",
       "    </tr>\n",
       "    <tr>\n",
       "      <th>2</th>\n",
       "      <td>Why is Zeamed providing a free service?</td>\n",
       "      <td>ZeaMed is absolutely free for consumers.Our a...</td>\n",
       "    </tr>\n",
       "    <tr>\n",
       "      <th>3</th>\n",
       "      <td>Where do I find zeamed doctor Profile on this ...</td>\n",
       "      <td>Select the test name and location and click on...</td>\n",
       "    </tr>\n",
       "    <tr>\n",
       "      <th>4</th>\n",
       "      <td>Will the patient info be secured?</td>\n",
       "      <td>Yes patient information/data is secured as per...</td>\n",
       "    </tr>\n",
       "  </tbody>\n",
       "</table>\n",
       "</div>"
      ],
      "text/plain": [
       "                                            Question  \\\n",
       "0     Does the Zeamed provide 24/7 customer support?   \n",
       "1                              Is it a free service?   \n",
       "2            Why is Zeamed providing a free service?   \n",
       "3  Where do I find zeamed doctor Profile on this ...   \n",
       "4                 Will the patient info be secured?    \n",
       "\n",
       "                                              Answer  \n",
       "0                                                Yes  \n",
       "1                                                yes  \n",
       "2   ZeaMed is absolutely free for consumers.Our a...  \n",
       "3  Select the test name and location and click on...  \n",
       "4  Yes patient information/data is secured as per...  "
      ]
     },
     "execution_count": 4,
     "metadata": {},
     "output_type": "execute_result"
    }
   ],
   "source": [
    "df = pd.read_csv(\"../data/zeamed-web/zeamed-faq.csv\")\n",
    "df.head(5)"
   ]
  },
  {
   "cell_type": "markdown",
   "metadata": {},
   "source": [
    "# Approach : 0\n",
    "\n",
    "- For every questions in the `list` iterate over every question \n",
    "- Inilialize the Above loaded model with the `Question_{i}`\n",
    "- And Calculate the cosine similarity between the `Question_{i}` and the `query`\n",
    "     "
   ]
  },
  {
   "cell_type": "code",
   "execution_count": null,
   "metadata": {},
   "outputs": [
    {
     "name": "stdout",
     "output_type": "stream",
     "text": [
      "Similarity between Does the Zeamed provide 24/7 customer support? & who are you ? is -0.04937468\n",
      "Similarity between Is it a free service? & who are you ? is 0.082572356\n",
      "Similarity between Why is Zeamed providing a free service? & who are you ? is 0.035000674\n",
      "Similarity between Where do I find zeamed doctor Profile on this app? & who are you ? is 0.089377984\n",
      "Similarity between Will the patient info be secured?  & who are you ? is -0.072951436\n",
      "Similarity between Who are ZeaMed’s users? & who are you ? is 0.5057231\n",
      "Similarity between What is ZeaMed & who are you ? is 0.22169513\n",
      "Similarity between If we book an appointment through you (Zeamed.com) do I stand a better chance of getting an appointment? & who are you ? is 0.04126934\n"
     ]
    }
   ],
   "source": [
    "query = \"who are you ?\"\n",
    "\n",
    "for question in df.Question:\n",
    "    sentences = [ question , query ]\n",
    "\n",
    "    similarity_input_placeholder = tf.placeholder(tf.string, shape=(None))\n",
    "    similarity_sentences_encodings = model(similarity_input_placeholder)\n",
    "\n",
    "    with tf.Session() as session:\n",
    "        session.run(tf.global_variables_initializer())\n",
    "        session.run(tf.tables_initializer())\n",
    "  \n",
    "        sentences_embeddings = session.run( similarity_sentences_encodings, feed_dict={\n",
    "            similarity_input_placeholder: sentences\n",
    "        })\n",
    "  \n",
    "        similarity = np.inner(sentences_embeddings[0], sentences_embeddings[1])\n",
    "  \n",
    "        print(\"Similarity between %s & %s is %s\" % (question , query , similarity) )"
   ]
  },
  {
   "cell_type": "markdown",
   "metadata": {},
   "source": [
    "# Approach : 1\n",
    "\n",
    "- Inilialize the Above loaded model with the `Questions` as a constant\n",
    "- And Calculate the cosine similarity between the `Questions` matrix and the `query`\n",
    "- All at once , so we can minimise the runtime , computation power\n",
    "     "
   ]
  },
  {
   "cell_type": "code",
   "execution_count": null,
   "metadata": {},
   "outputs": [],
   "source": [
    "print(df.Question.shape)\n",
    "shape = ( df.Question.shape[0] , 1 )\n",
    "print(shape)\n",
    "\n",
    "# questions_array = []\n",
    "# for question in df.Question:\n",
    "#    questions_array.append(question)\n",
    "    \n",
    "questions_array = np.array(df.Question).reshape(-1,1)\n",
    "\n",
    "#print(questions_array)\n",
    "\n",
    "#questions= tf.constant( questions_array , dtype=tf.string  ) \n",
    "query = tf.placeholder( tf.string )\n",
    "#embed_questions = model(questions)\n",
    "embed_query = model(query)\n",
    "\n",
    "with tf.Session() as session:\n",
    "    session.run( tf.global_variables_initializer() )\n",
    "    session.run( tf.tables_initializer() )\n",
    "    \n",
    "    #question_matrix = session.run(embed_questions)\n",
    "    query_matrix = session.run(embed_query , feed_dict = {\n",
    "        query : [\"who are you\"]\n",
    "    } )\n",
    "    \n",
    "    print( query_matrix )"
   ]
  },
  {
   "cell_type": "code",
   "execution_count": null,
   "metadata": {},
   "outputs": [],
   "source": [
    "print(df.Question.shape)\n",
    "shape = ( df.Question.shape[0] , 1 )\n",
    "print(shape)\n",
    "\n",
    "questions_array = []\n",
    "for question in df.Question:\n",
    "    questions_array.append(question)\n",
    "    \n",
    "#questions_array = np.array(df.Question).reshape(-1,1)\n",
    "\n",
    "#print(questions_array)\n",
    "\n",
    "#questions= tf.constant( questions_array , dtype=tf.string , shape = shape  ) \n",
    "questions = tf.placeholder( tf.string )\n",
    "embed_questions = model( questions )\n",
    "\n",
    "query = tf.placeholder( tf.string )\n",
    "embed_query = model(query)\n",
    "\n",
    "with tf.Session() as session:\n",
    "    session.run( tf.global_variables_initializer() )\n",
    "    session.run( tf.tables_initializer() )\n",
    "    \n",
    "    question_matrix , query_matrix = session.run( [ embed_questions ,embed_query ] , feed_dict = {\n",
    "        questions : questions_array,\n",
    "        query : ['what do you mean by zeamed']\n",
    "    })\n",
    "\n",
    "    \n",
    "    print( question_matrix.shape , query_matrix.shape )\n",
    "    product = np.inner(query_matrix , question_matrix)\n",
    "    # product = product.reshape(-1,1)\n",
    "    \n",
    "    for question , score in zip(questions_array , product[0].tolist()):\n",
    "        print( question , round(score,2)) \n",
    "    "
   ]
  },
  {
   "cell_type": "code",
   "execution_count": null,
   "metadata": {},
   "outputs": [],
   "source": [
    "print(df.Question.shape)\n",
    "shape = ( df.Question.shape[0] , 1 )\n",
    "print(shape)\n",
    "\n",
    "questions_array = []\n",
    "for question in df.Question:\n",
    "    questions_array.append(question)\n",
    "    \n",
    "#questions_array = np.array(df.Question).reshape(-1,1)\n",
    "\n",
    "#print(questions_array)\n",
    "\n",
    "#questions= tf.constant( questions_array , dtype=tf.string , shape = shape  ) \n",
    "questions = tf.placeholder( tf.string )\n",
    "embed_questions = model( df.Question )\n",
    "\n",
    "query = tf.placeholder( tf.string )\n",
    "embed_query = model(query)\n",
    "\n",
    "with tf.Session() as session:\n",
    "    session.run( tf.global_variables_initializer() )\n",
    "    session.run( tf.tables_initializer() )\n",
    "    \n",
    "    question_matrix , query_matrix = session.run( [ embed_questions ,embed_query ] , feed_dict = {\n",
    "        # questions : questions_array,\n",
    "        query : ['what is mean by zeamed ?']\n",
    "    })\n",
    "\n",
    "    \n",
    "    print( question_matrix.shape , query_matrix.shape )\n",
    "    product = np.inner(query_matrix , question_matrix)\n",
    "    # product = product.reshape(-1,1)\n",
    "    \n",
    "    max_score = 1e-10\n",
    "    choosen_question = \"Please provide a valid response\"\n",
    "    for question , score in zip(questions_array , product[0].tolist()):\n",
    "        \n",
    "        # print( question , round(score,2)) \n",
    "        \n",
    "        if ( round(score,2) > 0.50 and max_score < round(score,2) ):\n",
    "            max_score = score\n",
    "            choosen_question = question\n",
    "            # print(question,max_score)\n",
    "    if ( max_score == 1e-10 ):\n",
    "        print( choosen_question , max_score )\n",
    "    else:\n",
    "        print('choosen question => ',choosen_question,max_score)\n",
    "        choosen = df.Question == choosen_question\n",
    "        print(df[choosen].Question.tolist()[0] )\n",
    "        print(df[choosen].Answer.tolist()[0] )\n",
    "        \n",
    "    "
   ]
  },
  {
   "cell_type": "code",
   "execution_count": null,
   "metadata": {},
   "outputs": [],
   "source": []
  }
 ],
 "metadata": {
  "kernelspec": {
   "display_name": "Python 3",
   "language": "python",
   "name": "python3"
  },
  "language_info": {
   "codemirror_mode": {
    "name": "ipython",
    "version": 3
   },
   "file_extension": ".py",
   "mimetype": "text/x-python",
   "name": "python",
   "nbconvert_exporter": "python",
   "pygments_lexer": "ipython3",
   "version": "3.7.3"
  }
 },
 "nbformat": 4,
 "nbformat_minor": 4
}
