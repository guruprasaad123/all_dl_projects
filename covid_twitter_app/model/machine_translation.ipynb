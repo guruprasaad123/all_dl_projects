{
 "cells": [
  {
   "cell_type": "markdown",
   "metadata": {
    "collapsed": true
   },
   "source": [
    "# Artificial Intelligence Nanodegree\n",
    "## Machine Translation Project\n",
    "In this notebook, sections that end with **'(IMPLEMENTATION)'** in the header indicate that the following blocks of code will require additional functionality which you must provide. Please be sure to read the instructions carefully!\n",
    "\n",
    "## Introduction\n",
    "In this notebook, you will build a deep neural network that functions as part of an end-to-end machine translation pipeline. Your completed pipeline will accept English text as input and return the French translation.\n",
    "\n",
    "- **Preprocess** - You'll convert text to sequence of integers.\n",
    "- **Models** Create models which accepts a sequence of integers as input and returns a probability distribution over possible translations. After learning about the basic types of neural networks that are often used for machine translation, you will engage in your own investigations, to design your own model!\n",
    "- **Prediction** Run the model on English text."
   ]
  },
  {
   "cell_type": "code",
   "execution_count": 1,
   "metadata": {},
   "outputs": [],
   "source": [
    "%load_ext autoreload\n",
    "%aimport helper\n",
    "%autoreload 1"
   ]
  },
  {
   "cell_type": "code",
   "execution_count": 25,
   "metadata": {},
   "outputs": [],
   "source": [
    "import collections\n",
    "\n",
    "import helper\n",
    "import numpy as np\n",
    "import tests\n",
    "\n",
    "from keras.preprocessing.text import Tokenizer\n",
    "from keras.preprocessing.sequence import pad_sequences\n",
    "from keras.models import Model, Sequential\n",
    "from keras.layers import GRU, Input, Dense, TimeDistributed, Activation, RepeatVector, Bidirectional, Dropout, LSTM\n",
    "from keras.layers.embeddings import Embedding\n",
    "from keras.optimizers import Adam\n",
    "from keras.losses import sparse_categorical_crossentropy"
   ]
  },
  {
   "cell_type": "markdown",
   "metadata": {},
   "source": [
    "### Verify access to the GPU\n",
    "The following test applies only if you expect to be using a GPU, e.g., while running in a Udacity Workspace or using an AWS instance with GPU support. Run the next cell, and verify that the device_type is \"GPU\".\n",
    "- If the device is not GPU & you are running from a Udacity Workspace, then save your workspace with the icon at the top, then click \"enable\" at the bottom of the workspace.\n",
    "- If the device is not GPU & you are running from an AWS instance, then refer to the cloud computing instructions in the classroom to verify your setup steps."
   ]
  },
  {
   "cell_type": "code",
   "execution_count": 26,
   "metadata": {},
   "outputs": [
    {
     "name": "stdout",
     "output_type": "stream",
     "text": [
      "[name: \"/device:CPU:0\"\n",
      "device_type: \"CPU\"\n",
      "memory_limit: 268435456\n",
      "locality {\n",
      "}\n",
      "incarnation: 1522960137910420762\n",
      ", name: \"/device:XLA_CPU:0\"\n",
      "device_type: \"XLA_CPU\"\n",
      "memory_limit: 17179869184\n",
      "locality {\n",
      "}\n",
      "incarnation: 13528189312920877383\n",
      "physical_device_desc: \"device: XLA_CPU device\"\n",
      "]\n"
     ]
    }
   ],
   "source": [
    "from tensorflow.python.client import device_lib\n",
    "print(device_lib.list_local_devices())"
   ]
  },
  {
   "cell_type": "markdown",
   "metadata": {},
   "source": [
    "## Dataset\n",
    "We begin by investigating the dataset that will be used to train and evaluate your pipeline.  The most common datasets used for machine translation are from [WMT](http://www.statmt.org/).  However, that will take a long time to train a neural network on.  We'll be using a dataset we created for this project that contains a small vocabulary.  You'll be able to train your model in a reasonable time with this dataset.\n",
    "### Load Data\n",
    "The data is located in `data/small_vocab_en` and `data/small_vocab_fr`. The `small_vocab_en` file contains English sentences with their French translations in the `small_vocab_fr` file. Load the English and French data from these files from running the cell below."
   ]
  },
  {
   "cell_type": "code",
   "execution_count": 27,
   "metadata": {},
   "outputs": [
    {
     "name": "stdout",
     "output_type": "stream",
     "text": [
      "Dataset Loaded\n"
     ]
    }
   ],
   "source": [
    "# Load English data\n",
    "english_sentences = helper.load_data('data/small_vocab_en')\n",
    "# Load French data\n",
    "french_sentences = helper.load_data('data/small_vocab_fr')\n",
    "\n",
    "print('Dataset Loaded')"
   ]
  },
  {
   "cell_type": "markdown",
   "metadata": {},
   "source": [
    "### Files\n",
    "Each line in `small_vocab_en` contains an English sentence with the respective translation in each line of `small_vocab_fr`.  View the first two lines from each file."
   ]
  },
  {
   "cell_type": "code",
   "execution_count": 28,
   "metadata": {},
   "outputs": [
    {
     "name": "stdout",
     "output_type": "stream",
     "text": [
      "English sample 1:  new jersey is sometimes quiet during autumn , and it is snowy in april .\n",
      "French sample 1:  new jersey est parfois calme pendant l' automne , et il est neigeux en avril .\n",
      "\n",
      "English sample 2:  the united states is usually chilly during july , and it is usually freezing in november .\n",
      "French sample 2:  les états-unis est généralement froid en juillet , et il gèle habituellement en novembre .\n",
      "\n",
      "English sample 3:  california is usually quiet during march , and it is usually hot in june .\n",
      "French sample 3:  california est généralement calme en mars , et il est généralement chaud en juin .\n",
      "\n",
      "English sample 4:  the united states is sometimes mild during june , and it is cold in september .\n",
      "French sample 4:  les états-unis est parfois légère en juin , et il fait froid en septembre .\n",
      "\n",
      "English sample 5:  your least liked fruit is the grape , but my least liked is the apple .\n",
      "French sample 5:  votre moins aimé fruit est le raisin , mais mon moins aimé est la pomme .\n",
      "\n"
     ]
    }
   ],
   "source": [
    "for sample_i in range(5):\n",
    "    print('English sample {}:  {}'.format(sample_i + 1, english_sentences[sample_i]))\n",
    "    print('French sample {}:  {}\\n'.format(sample_i + 1, french_sentences[sample_i]))"
   ]
  },
  {
   "cell_type": "markdown",
   "metadata": {},
   "source": [
    "From looking at the sentences, you can see they have been preprocessed already.  The puncuations have been delimited using spaces. All the text have been converted to lowercase.  This should save you some time, but the text requires more preprocessing.\n",
    "### Vocabulary\n",
    "The complexity of the problem is determined by the complexity of the vocabulary.  A more complex vocabulary is a more complex problem.  Let's look at the complexity of the dataset we'll be working with."
   ]
  },
  {
   "cell_type": "code",
   "execution_count": 29,
   "metadata": {},
   "outputs": [
    {
     "name": "stdout",
     "output_type": "stream",
     "text": [
      "1823250 English words.\n",
      "227 unique English words.\n",
      "10 Most common words in the English dataset:\n",
      "\"is\" \",\" \".\" \"in\" \"it\" \"during\" \"the\" \"but\" \"and\" \"sometimes\"\n",
      "\n",
      "1961295 French words.\n",
      "355 unique French words.\n",
      "10 Most common words in the French dataset:\n",
      "\"est\" \".\" \",\" \"en\" \"il\" \"les\" \"mais\" \"et\" \"la\" \"parfois\"\n"
     ]
    }
   ],
   "source": [
    "english_words_counter = collections.Counter([word for sentence in english_sentences for word in sentence.split()])\n",
    "french_words_counter = collections.Counter([word for sentence in french_sentences for word in sentence.split()])\n",
    "\n",
    "print('{} English words.'.format(len([word for sentence in english_sentences for word in sentence.split()])))\n",
    "print('{} unique English words.'.format(len(english_words_counter)))\n",
    "print('10 Most common words in the English dataset:')\n",
    "print('\"' + '\" \"'.join(list(zip(*english_words_counter.most_common(10)))[0]) + '\"')\n",
    "print()\n",
    "print('{} French words.'.format(len([word for sentence in french_sentences for word in sentence.split()])))\n",
    "print('{} unique French words.'.format(len(french_words_counter)))\n",
    "print('10 Most common words in the French dataset:')\n",
    "print('\"' + '\" \"'.join(list(zip(*french_words_counter.most_common(10)))[0]) + '\"')"
   ]
  },
  {
   "cell_type": "markdown",
   "metadata": {},
   "source": [
    "For comparison, _Alice's Adventures in Wonderland_ contains 2,766 unique words of a total of 15,500 words.\n",
    "## Preprocess\n",
    "For this project, you won't use text data as input to your model. Instead, you'll convert the text into sequences of integers using the following preprocess methods:\n",
    "1. Tokenize the words into ids\n",
    "2. Add padding to make all the sequences the same length.\n",
    "\n",
    "Time to start preprocessing the data...\n",
    "### Tokenize (IMPLEMENTATION)\n",
    "For a neural network to predict on text data, it first has to be turned into data it can understand. Text data like \"dog\" is a sequence of ASCII character encodings.  Since a neural network is a series of multiplication and addition operations, the input data needs to be number(s).\n",
    "\n",
    "We can turn each character into a number or each word into a number.  These are called character and word ids, respectively.  Character ids are used for character level models that generate text predictions for each character.  A word level model uses word ids that generate text predictions for each word.  Word level models tend to learn better, since they are lower in complexity, so we'll use those.\n",
    "\n",
    "Turn each sentence into a sequence of words ids using Keras's [`Tokenizer`](https://keras.io/preprocessing/text/#tokenizer) function. Use this function to tokenize `english_sentences` and `french_sentences` in the cell below.\n",
    "\n",
    "Running the cell will run `tokenize` on sample data and show output for debugging."
   ]
  },
  {
   "cell_type": "code",
   "execution_count": 30,
   "metadata": {},
   "outputs": [
    {
     "name": "stdout",
     "output_type": "stream",
     "text": [
      "{'the': 1, 'quick': 2, 'a': 3, 'brown': 4, 'fox': 5, 'jumps': 6, 'over': 7, 'lazy': 8, 'dog': 9, 'by': 10, 'jove': 11, 'my': 12, 'study': 13, 'of': 14, 'lexicography': 15, 'won': 16, 'prize': 17, 'this': 18, 'is': 19, 'short': 20, 'sentence': 21}\n",
      "\n",
      "Sequence 1 in x\n",
      "  Input:  The quick brown fox jumps over the lazy dog .\n",
      "  Output: [1, 2, 4, 5, 6, 7, 1, 8, 9]\n",
      "Sequence 2 in x\n",
      "  Input:  By Jove , my quick study of lexicography won a prize .\n",
      "  Output: [10, 11, 12, 2, 13, 14, 15, 16, 3, 17]\n",
      "Sequence 3 in x\n",
      "  Input:  This is a short sentence .\n",
      "  Output: [18, 19, 3, 20, 21]\n"
     ]
    }
   ],
   "source": [
    "def tokenize(x):\n",
    "    \"\"\"\n",
    "    Tokenize x\n",
    "    :param x: List of sentences/strings to be tokenized\n",
    "    :return: Tuple of (tokenized x data, tokenizer used to tokenize x)\n",
    "    \"\"\"\n",
    "    # TODO: Implement\n",
    "    tokenizer = Tokenizer()\n",
    "    tokenizer.fit_on_texts(x)\n",
    "    return tokenizer.texts_to_sequences(x), tokenizer\n",
    "\n",
    "tests.test_tokenize(tokenize)\n",
    "\n",
    "# Tokenize Example output\n",
    "text_sentences = [\n",
    "    'The quick brown fox jumps over the lazy dog .',\n",
    "    'By Jove , my quick study of lexicography won a prize .',\n",
    "    'This is a short sentence .']\n",
    "text_tokenized, text_tokenizer = tokenize(text_sentences)\n",
    "print(text_tokenizer.word_index)\n",
    "print()\n",
    "for sample_i, (sent, token_sent) in enumerate(zip(text_sentences, text_tokenized)):\n",
    "    print('Sequence {} in x'.format(sample_i + 1))\n",
    "    print('  Input:  {}'.format(sent))\n",
    "    print('  Output: {}'.format(token_sent))"
   ]
  },
  {
   "cell_type": "markdown",
   "metadata": {},
   "source": [
    "### Padding (IMPLEMENTATION)\n",
    "When batching the sequence of word ids together, each sequence needs to be the same length.  Since sentences are dynamic in length, we can add padding to the end of the sequences to make them the same length.\n",
    "\n",
    "Make sure all the English sequences have the same length and all the French sequences have the same length by adding padding to the **end** of each sequence using Keras's [`pad_sequences`](https://keras.io/preprocessing/sequence/#pad_sequences) function."
   ]
  },
  {
   "cell_type": "code",
   "execution_count": 31,
   "metadata": {},
   "outputs": [
    {
     "name": "stdout",
     "output_type": "stream",
     "text": [
      "Sequence 1 in x\n",
      "  Input:  [1 2 4 5 6 7 1 8 9]\n",
      "  Output: [1 2 4 5 6 7 1 8 9 0]\n",
      "Sequence 2 in x\n",
      "  Input:  [10 11 12  2 13 14 15 16  3 17]\n",
      "  Output: [10 11 12  2 13 14 15 16  3 17]\n",
      "Sequence 3 in x\n",
      "  Input:  [18 19  3 20 21]\n",
      "  Output: [18 19  3 20 21  0  0  0  0  0]\n"
     ]
    }
   ],
   "source": [
    "def pad(x, length=None):\n",
    "    \"\"\"\n",
    "    Pad x\n",
    "    :param x: List of sequences.\n",
    "    :param length: Length to pad the sequence to.  If None, use length of longest sequence in x.\n",
    "    :return: Padded numpy array of sequences\n",
    "    \"\"\"\n",
    "    # TODO: Implement\n",
    "    return pad_sequences(x, maxlen=length, padding='post')\n",
    "\n",
    "tests.test_pad(pad)\n",
    "\n",
    "# Pad Tokenized output\n",
    "test_pad = pad(text_tokenized)\n",
    "for sample_i, (token_sent, pad_sent) in enumerate(zip(text_tokenized, test_pad)):\n",
    "    print('Sequence {} in x'.format(sample_i + 1))\n",
    "    print('  Input:  {}'.format(np.array(token_sent)))\n",
    "    print('  Output: {}'.format(pad_sent))"
   ]
  },
  {
   "cell_type": "markdown",
   "metadata": {},
   "source": [
    "### Preprocess Pipeline\n",
    "Your focus for this project is to build neural network architecture, so we won't ask you to create a preprocess pipeline.  Instead, we've provided you with the implementation of the `preprocess` function."
   ]
  },
  {
   "cell_type": "code",
   "execution_count": 32,
   "metadata": {},
   "outputs": [
    {
     "name": "stdout",
     "output_type": "stream",
     "text": [
      "Data Preprocessed\n",
      "Max English sentence length: 15\n",
      "Max French sentence length: 21\n",
      "English vocabulary size: 199\n",
      "French vocabulary size: 344\n"
     ]
    }
   ],
   "source": [
    "def preprocess(x, y):\n",
    "    \"\"\"\n",
    "    Preprocess x and y\n",
    "    :param x: Feature List of sentences\n",
    "    :param y: Label List of sentences\n",
    "    :return: Tuple of (Preprocessed x, Preprocessed y, x tokenizer, y tokenizer)\n",
    "    \"\"\"\n",
    "    preprocess_x, x_tk = tokenize(x)\n",
    "    preprocess_y, y_tk = tokenize(y)\n",
    "\n",
    "    preprocess_x = pad(preprocess_x)\n",
    "    preprocess_y = pad(preprocess_y)\n",
    "\n",
    "    # Keras's sparse_categorical_crossentropy function requires the labels to be in 3 dimensions\n",
    "    preprocess_y = preprocess_y.reshape(*preprocess_y.shape, 1)\n",
    "\n",
    "    return preprocess_x, preprocess_y, x_tk, y_tk\n",
    "\n",
    "preproc_english_sentences, preproc_french_sentences, english_tokenizer, french_tokenizer =\\\n",
    "    preprocess(english_sentences, french_sentences)\n",
    "    \n",
    "max_english_sequence_length = preproc_english_sentences.shape[1]\n",
    "max_french_sequence_length = preproc_french_sentences.shape[1]\n",
    "english_vocab_size = len(english_tokenizer.word_index)\n",
    "french_vocab_size = len(french_tokenizer.word_index)\n",
    "\n",
    "print('Data Preprocessed')\n",
    "print(\"Max English sentence length:\", max_english_sequence_length)\n",
    "print(\"Max French sentence length:\", max_french_sequence_length)\n",
    "print(\"English vocabulary size:\", english_vocab_size)\n",
    "print(\"French vocabulary size:\", french_vocab_size)"
   ]
  },
  {
   "cell_type": "markdown",
   "metadata": {},
   "source": [
    "## Models\n",
    "In this section, you will experiment with various neural network architectures.\n",
    "You will begin by training four relatively simple architectures.\n",
    "- Model 1 is a simple RNN\n",
    "- Model 2 is a RNN with Embedding\n",
    "- Model 3 is a Bidirectional RNN\n",
    "- Model 4 is an optional Encoder-Decoder RNN\n",
    "\n",
    "After experimenting with the four simple architectures, you will construct a deeper architecture that is designed to outperform all four models.\n",
    "### Ids Back to Text\n",
    "The neural network will be translating the input to words ids, which isn't the final form we want.  We want the French translation.  The function `logits_to_text` will bridge the gab between the logits from the neural network to the French translation.  You'll be using this function to better understand the output of the neural network."
   ]
  },
  {
   "cell_type": "code",
   "execution_count": 33,
   "metadata": {},
   "outputs": [
    {
     "name": "stdout",
     "output_type": "stream",
     "text": [
      "`logits_to_text` function loaded.\n"
     ]
    }
   ],
   "source": [
    "def logits_to_text(logits, tokenizer):\n",
    "    \"\"\"\n",
    "    Turn logits from a neural network into text using the tokenizer\n",
    "    :param logits: Logits from a neural network\n",
    "    :param tokenizer: Keras Tokenizer fit on the labels\n",
    "    :return: String that represents the text of the logits\n",
    "    \"\"\"\n",
    "    index_to_words = {id: word for word, id in tokenizer.word_index.items()}\n",
    "    index_to_words[0] = '<PAD>'\n",
    "\n",
    "    return ' '.join([index_to_words[prediction] for prediction in np.argmax(logits, 1)])\n",
    "\n",
    "print('`logits_to_text` function loaded.')"
   ]
  },
  {
   "cell_type": "markdown",
   "metadata": {},
   "source": [
    "### Model 1: RNN (IMPLEMENTATION)\n",
    "![RNN](images/rnn.png)\n",
    "A basic RNN model is a good baseline for sequence data.  In this model, you'll build a RNN that translates English to French."
   ]
  },
  {
   "cell_type": "code",
   "execution_count": 36,
   "metadata": {},
   "outputs": [
    {
     "name": "stdout",
     "output_type": "stream",
     "text": [
      "(137861, 21, 1)\n",
      "(137861, 21, 1)\n",
      "21\n",
      "199\n",
      "344\n",
      "Model: \"sequential_11\"\n",
      "_________________________________________________________________\n",
      "Layer (type)                 Output Shape              Param #   \n",
      "=================================================================\n",
      "gru_11 (GRU)                 (None, 21, 256)           198144    \n",
      "_________________________________________________________________\n",
      "time_distributed_21 (TimeDis (None, 21, 1024)          263168    \n",
      "_________________________________________________________________\n",
      "dropout_11 (Dropout)         (None, 21, 1024)          0         \n",
      "_________________________________________________________________\n",
      "time_distributed_22 (TimeDis (None, 21, 344)           352600    \n",
      "=================================================================\n",
      "Total params: 813,912\n",
      "Trainable params: 813,912\n",
      "Non-trainable params: 0\n",
      "_________________________________________________________________\n",
      "None\n",
      "Train on 110288 samples, validate on 27573 samples\n",
      "Epoch 1/10\n",
      "109568/110288 [============================>.] - ETA: 1s - loss: 1.9333 - accuracy: 0.5429"
     ]
    },
    {
     "ename": "InvalidArgumentError",
     "evalue": "Received a label value of 344 which is outside the valid range of [0, 344).  Label values: 7 88 1 64 16 13 14 5 7 83 1 40 13 14 0 0 0 0 0 0 0 11 30 1 67 15 25 22 47 6 3 1 58 69 2 56 0 0 0 0 0 0 62 1 92 2 41 5 3 1 9 21 26 11 24 0 0 0 0 0 0 0 0 7 33 1 9 7 102 2 51 5 3 1 18 2 45 0 0 0 0 0 0 0 29 1 65 37 11 44 6 3 1 9 21 2 52 0 0 0 0 0 0 0 0 10 38 1 20 16 17 13 5 10 82 1 20 13 17 0 0 0 0 0 0 0 36 1 12 67 37 11 46 5 3 1 18 2 44 0 0 0 0 0 0 0 0 27 145 7 97 134 154 0 0 0 0 0 0 0 0 0 0 0 0 0 0 0 3 113 115 184 110 176 0 0 0 0 0 0 0 0 0 0 0 0 0 0 0 3 94 4 28 4 73 6 4 78 0 0 0 0 0 0 0 0 0 0 0 0 11 30 1 19 15 25 79 56 5 3 1 68 2 41 0 0 0 0 0 0 0 3 55 4 72 4 28 76 6 4 28 0 0 0 0 0 0 0 0 0 0 0 3 55 4 78 4 74 6 4 73 0 0 0 0 0 0 0 0 0 0 0 0 3 55 4 28 4 70 6 4 72 0 0 0 0 0 0 0 0 0 0 0 0 11 30 1 12 57 15 25 22 45 6 3 1 12 18 2 47 0 0 0 0 0 4 32 31 1 8 68 15 25 22 47 5 3 1 8 21 2 41 0 0 0 0 10 82 1 61 16 17 5 7 86 1 40 93 0 0 0 0 0 0 0 0 0 10 85 1 20 16 17 13 5 7 83 1 61 13 17 0 0 0 0 0 0 0 10 38 1 40 16 17 5 7 89 1 39 17 0 0 0 0 0 0 0 0 0 62 1 12 63 2 41 5 3 1 8 60 26 11 24 0 0 0 0 0 0 0 99 124 4 70 4 73 6 28 76 0 0 0 0 0 0 0 0 0 0 0 0 7 89 1 39 16 13 14 5 7 90 27 1 13 14 0 0 0 0 0 0 0 10 85 1 39 13 14 108 96 5 10 82 1 20 13 14 0 0 0 0 0 0 36 1 8 18 2 43 5 3 1 12 66 2 48 0 0 0 0 0 0 0 0 20 13 16 17 1 7 88 5 39 17 13 1 10 82 0 0 0 0 0 0 0 20 16 10 23 14 1 10 85 5 61 23 14 1 7 90 0 0 0 0 0 0 35 34 1 8 19 2 43 5 3 1 8 18 2 49 0 0 0 0 0 0 0 4 32 31 1 9 57 37 11 46 5 3 1 18 2 41 0 0 0 0 0 0 36 1 8 57 2 52 5 3 1 8 59 2 46 0 0 0 0 0 0 0 0 3 94 4 71 4 74 6 4 78 0 0 0 0 0 0 0 0 0 0 0 0 64 16 17 1 10 270 5 61 17 1 7 86 0 0 0 0 0 0 0 0 0 29 1 19 2 52 6 3 1 9 60 2 46 0 0 0 0 0 0 0 0 0 29 1 8 66 2 41 5 3 1 12 60 26 11 24 0 0 0 0 0 0 0 29 1 12 21 37 11 24 5 3 1 9 65 2 51 0 0 0 0 0 0 0 29 1 8 66 15 111 22 11 24 6 3 1 9 26 63 2 53 0 0 0 0 4 32 31 1 21 2 43 5 3 1 9 117 2 47 0 0 0 0 0 0 0 7 36 1 8 65 37 11 46 5 3 1 63 2 44 0 0 0 0 0 0 0 33 1 57 2 49 5 3 1 18 2 47 0 0 0 0 0 0 0 0 0 0 7 33 1 8 63 2 50 6 3 1 12 18 2 49 0 0 0 0 0 0 0 36 1 69 21 2 50 6 3 1 8 63 26 11 24 0 0 0 0 0 0 0 7 33 1 12 65 2 54 6 3 1 19 2 41 0 0 0 0 0 0 0 0 20 16 17 1 13 7 86 5 40 13 17 1 10 85 0 0 0 0 0 0 0 39 109 17 1 13 146 11 237 0 0 0 0 0 0 0 0 0 0 0 0 0 7 88 1 7 13 14 108 96 5 10 85 1 64 13 14 0 0 0 0 0 0 64 16 17 13 1 10 38 5 40 13 140 1 84 0 0 0 0 0 0 0 0 62 1 21 2 50 5 3 1 12 18 2 53 0 0 0 0 0 0 0 0 0 35 34 1 66 2 41 5 3 1 12 67 26 11 24 0 0 0 0 0 0 0 4 32 31 105 131 9 190 2 45 5 3 1 18 2 44 0 0 0 0 0 0 27 94 7 148 97 162 0 0 0 0 0 0 0 0 0 0 0 0 0 0 0 29 1 58 69 2 50 5 3 1 12 19 2 53 0 0 0 0 0 0 0 0 99 127 91 28 76 4 70 6 4 74 0 0 0 0 0 0 0 0 0 0 0 4 32 31 1 12 63 37 11 24 6 3 1 8 58 2 41 0 0 0 0 0 27 55 4 75 4 73 6 10 38 0 0 0 0 0 0 0 0 0 0 0 0 4 32 31 1 8 21 37 11 24 6 3 1 12 67 2 52 0 0 0 0 0 62 1 12 65 37 11 44 6 3 1 8 10 81 2 50 0 0 0 0 0 0 11 30 1 12 18 15 25 79 56 5 3 1 8 18 2 46 0 0 0 0 0 101 1 12 18 15 25 22 47 6 3 1 60 2 52 0 0 0 0 0 0 0 29 1 19 2 41 6 3 1 12 19 2 53 0 0 0 0 0 0 0 0 0 7 33 1 9 18 26 98 6 3 1 8 67 2 44 0 0 0 0 0 0 0 62 105 103 9 19 2 51 6 3 1 8 63 2 49 0 0 0 0 0 0 0 135 28 76 4 28 6 4 78 0 0 0 0 0 0 0 0 0 0 0 0 0 3 55 4 73 4 70 6 4 75 0 0 0 0 0 0 0 0 0 0 0 0 7 90 1 61 16 10 23 119 5 7 89 1 39 23 14 0 0 0 0 0 0 3 180 35 34 24 114 0 0 0 0 0 0 0 0 0 0 0 0 0 0 0 27 94 4 78 4 77 6 4 74 0 0 0 0 0 0 0 0 0 0 0 0 36 105 103 9 19 2 24 6 3 1 12 59 2 54 0 0 0 0 0 0 0 11 30 1 19 2 49 5 3 157 2 43 0 0 0 0 0 0 0 0 0 0 3 55 10 163 110 134 0 0 0 0 0 0 0 0 0 0 0 0 0 0 0 11 30 1 19 15 42 5 3 1 8 59 2 54 0 0 0 0 0 0 0 0 35 34 1 58 8 2 54 6 3 1 9 66 2 44 0 0 0 0 0 0 0 7 86 1 39 16 17 13 5 10 82 1 64 13 17 0 0 0 0 0 0 0 84 1 39 16 13 14 5 7 88 27 1 13 14 0 0 0 0 0 0 0 0 4 32 31 1 8 65 15 25 79 56 5 3 1 67 2 45 0 0 0 0 0 36 1 12 18 2 52 5 3 1 8 65 2 56 0 0 0 0 0 0 0 0 11 30 1 19 15 42 6 3 1 12 59 2 44 0 0 0 0 0 0 0 0 29 1 12 57 2 54 6 3 1 8 21 2 53 0 0 0 0 0 0 0 0 7 86 1 61 16 13 14 5 7 88 1 39 13 14 0 0 0 0 0 0 0 35 34 1 12 18 2 49 5 3 1 9 18 2 54 0 0 0 0 0 0 0 107 126 4 77 28 76 6 72 0 0 0 0 0 0 0 0 0 0 0 0 0 29 1 65 2 52 5 3 1 63 2 48 0 0 0 0 0 0 0 0 0 0 11 30 1 12 67 15 111 22 11 24 5 3 1 12 65 2 45 0 0 0 0 20 16 1 13 14 7 87 5 27 1 13 14 7 83 0 0 0 0 0 0 0 7 62 1 9 58 26 98 6 3 1 8 21 2 51 0 0 0 0 0 0 0 11 30 1 58 2 53 5 3 1 8 19 2 45 0 0 0 0 0 0 0 0 4 32 31 1 18 26 98 6 3 1 8 21 15 42 0 0 0 0 0 0 0 107 132 10 38 4 71 6 4 28 76 0 0 0 0 0 0 0 0 0 0 0 35 34 1 12 68 2 50 5 3 1 59 2 49 0 0 0 0 0 0 0 0 27 55 4 75 10 38 6 4 78 0 0 0 0 0 0 0 0 0 0 0 0 40 109 17 1 146 7 201 0 0 0 0 0 0 0 0 0 0 0 0 0 0 20 16 1 13 14 7 83 5 64 13 14 1 7 90 0 0 0 0 0 0 0 3 55 4 72 4 71 6 4 75 0 0 0 0 0 0 0 0 0 0 0 0 11 30 1 10 81 2 50 5 3 1 8 60 26 11 24 0 0 0 0 0 0 4 32 31 1 12 60 2 50 5 3 1 9 18 2 44 0 0 0 0 0 0 62 1 12 63 2 48 5 3 1 69 21 2 46 0 0 0 0 0 0 0 0 62 1 8 104 2 45 6 3 1 67 2 52 0 0 0 0 0 0 0 0 0 7 83 1 20 16 10 23 14 5 7 90 1 40 23 14 0 0 0 0 0 0 29 1 8 19 2 45 6 3 1 12 63 26 11 24 0 0 0 0 0 0 0 40 13 14 108 96 1 7 90 5 61 13 14 1 10 38 0 0 0 0 0 0 7 88 1 61 16 17 5 84 1 20 93 0 0 0 0 0 0 0 0 0 0 7 62 1 58 8 26 98 6 3 1 8 104 2 51 0 0 0 0 0 0 0 11 30 1 9 58 15 25 22 47 5 3 1 12 19 15 42 0 0 0 0 0 7 194 161 10 189 6 10 186 1 196 0 0 0 0 0 0 0 0 0 0 0 7 33 1 12 67 2 45 6 3 95 69 2 43 0 0 0 0 0 0 0 0 7 33 1 12 18 2 54 5 3 1 21 2 46 0 0 0 0 0 0 0 0 29 1 8 104 15 25 22 51 6 3 1 60 2 47 0 0 0 0 0 0 0 7 83 1 40 16 13 14 5 10 38 1 61 13 14 0 0 0 0 0 0 0 115 221 1 40 109 17 13 0 0 0 0 0 0 0 0 0 0 0 0 0 0 35 34 1 104 2 49 5 3 95 9 2 51 0 0 0 0 0 0 0 0 0 29 1 7 102 15 111 22 11 24 5 3 1 12 57 2 44 0 0 0 0 0 3 118 113 10 200 110 166 0 0 0 0 0 0 0 0 0 0 0 0 0 0 29 1 8 60 2 45 6 3 1 9 68 2 41 0 0 0 0 0 0 0 0 35 34 1 12 59 2 41 6 3 157 2 47 0 0 0 0 0 0 0 0 0 61 16 17 1 13 10 85 5 64 13 17 1 7 83 0 0 0 0 0 0 0 4 32 31 1 63 37 11 44 5 3 1 12 18 2 53 0 0 0 0 0 0 29 1 9 57 2 43 5 3 1 9 65 2 41 0 0 0 0 0 0 0 0 29 1 8 19 2 43 5 3 1 18 2 46 0 0 0 0 0 0 0 0 0 27 55 4 70 4 74 6 4 78 0 0 0 0 0 0 0 0 0 0 0 0 29 1 12 67 2 50 6 3 1 9 68 26 11 24 0 0 0 0 0 0 0 3 55 4 28 4 78 6 4 73 0 0 0 0 0 0 0 0 0 0 0 0 61 16 17 1 84 5 39 17 1 10 82 0 0 0 0 0 0 0 0 0 0 39 16 17 1 7 88 5 64 93 1 10 85 0 0 0 0 0 0 0 0 0 7 80 1 40 16 17 13 5 10 85 1 20 13 17 0 0 0 0 0 0 0 20 16 1 13 14 7 86 5 61 13 14 1 7 80 0 0 0 0 0 0 0 29 1 10 81 37 11 46 5 3 1 112 26 11 24 0 0 0 0 0 0 0 10 82 1 39 16 17 5 7 89 1 61 17 0 0 0 0 0 0 0 0 0 7 33 1 9 18 15 25 22 47 5 3 105 103 9 19 2 49 0 0 0 0 10 85 1 40 16 17 13 5 7 83 1 20 13 17 0 0 0 0 0 0 0 29 1 66 15 25 22 51 6 3 1 9 125 2 53 0 0 0 0 0 0 0 99 124 4 28 6 4 75 0 0 0 0 0 0 0 0 0 0 0 0 0 0 20 16 10 23 14 1 7 87 5 39 23 14 1 84 0 0 0 0 0 0 0 3 55 4 78 6 4 77 0 0 0 0 0 0 0 0 0 0 0 0 0 0 29 1 8 59 2 50 5 3 1 19 26 11 24 0 0 0 0 0 0 0 0 7 36 1 12 57 15 25 22 47 5 3 1 18 2 43 0 0 0 0 0 0 99 127 91 4 77 4 75 6 4 28 76 0 0 0 0 0 0 0 0 0 0 29 1 8 67 2 52 6 3 95 9 2 56 0 0 0 0 0 0 0 0 0 7 33 1 8 58 2 54 5 3 95 9 26 11 24 0 0 0 0 0 0 0 36 1 9 66 37 11 44 6 3 1 12 68 2 52 0 0 0 0 0 0 0 10 38 1 20 16 17 5 7 83 1 20 93 0 0 0 0 0 0 0 0 0 35 34 1 9 58 2 49 6 3 1 68 2 43 0 0 0 0 0 0 0 0 27 94 115 110 172 169 0 0 0 0 0 0 0 0 0 0 0 0 0 0 0 20 16 1 13 14 7 87 5 39 13 14 1 7 83 0 0 0 0 0 0 0 7 36 1 8 60 37 11 44 5 3 1 21 26 11 24 0 0 0 0 0 0 39 16 1 13 14 10 85 5 40 13 14 1 7 89 0 0 0 0 0 0 0 29 1 58 69 2 48 6 3 1 12 19 2 41 0 0 0 0 0 0 0 0 4 32 31 1 8 18 15 25 79 56 5 3 1 12 66 2 51 0 0 0 0 35 34 1 12 18 15 25 22 47 5 3 1 8 57 2 44 0 0 0 0 0 7 33 1 18 15 42 6 3 1 8 137 2 56 0 0 0 0 0 0 0 0 4 32 31 1 58 2 50 6 3 1 12 68 2 56 0 0 0 0 0 0 0 36 1 60 2 54 6 3 1 9 57 2 47 0 0 0 0 0 0 0 0 0 27 94 4 77 4 75 6 4 71 0 0 0 0 0 0 0 0 0 0 0 0 4 32 31 1 12 18 37 11 44 6 3 1 112 2 51 0 0 0 0 0 0 29 1 9 60 15 25 79 56 6 3 1 8 112 26 11 24 0 0 0 0 0 36 1 8 19 2 54 5 3 1 12 59 2 44 0 0 0 0 0 0 0 0 3 55 4 73 4 70 6 4 28 76 0 0 0 0 0 0 0 0 0 0 0 107 208 22 136 7 33 26 11 24 114 0 0 0 0 0 0 0 0 0 0 0 7 36 1 8 63 37 11 44 6 3 1 8 19 2 47 0 0 0 0 0 0 20 16 10 23 14 1 7 90 5 40 23 14 1 10 82 0 0 0 0 0 0 11 30 1 66 37 11 24 6 3 1 57 2 50 0 0 0 0 0 0 0 0 7 33 1 12 68 2 43 5 3 1 9 18 2 44 0 0 0 0 0 0 0 11 30 1 26 63 37 11 44 6 3 1 8 19 2 41 0 0 0 0 0 0 7 86 1 20 16 10 23 14 5 7 80 1 39 23 14 0 0 0 0 0 0 29 1 9 60 15 42 6 3 1 9 117 2 41 0 0 0 0 0 0 0 0 61 13 14 16 1 84 5 39 13 14 1 10 82 0 0 0 0 0 0 0 0 7 83 1 61 16 17 13 5 10 85 1 40 17 13 0 0 0 0 0 0 0 7 33 1 9 18 2 43 6 3 1 9 66 2 47 0 0 0 0 0 0 0 62 1 9 7 102 2 49 6 3 1 67 2 45 0 0 0 0 0 0 0 0 36 1 104 2 24 5 3 1 60 2 54 0 0 0 0 0 0 0 0 0 0 40 109 10 23 156 1 115 214 0 0 0 0 0 0 0 0 0 0 0 0 0 20 16 17 1 13 7 86 5 40 13 140 1 7 89 0 0 0 0 0 0 0 7 87 1 64 16 17 5 7 88 1 39 17 0 0 0 0 0 0 0 0 0 3 1 198 22 164 161 186 6 187 0 0 0 0 0 0 0 0 0 0 0 0 84 1 20 16 17 5 7 87 1 64 93 0 0 0 0 0 0 0 0 0 0 11 30 1 58 2 49 6 3 1 8 21 26 11 24 0 0 0 0 0 0 0 11 30 1 9 18 2 51 6 3 1 12 60 2 56 0 0 0 0 0 0 0 129 96 10 23 14 1 7 80 5 20 23 14 1 7 83 0 0 0 0 0 0 27 1 15 230 79 120 97 150 174 0 0 0 0 0 0 0 0 0 0 0 0 61 16 17 1 7 90 5 40 93 1 7 88 0 0 0 0 0 0 0 0 0 4 32 31 1 19 2 52 5 3 1 12 92 2 45 0 0 0 0 0 0 0 27 94 4 71 4 28 6 4 73 0 0 0 0 0 0 0 0 0 0 0 0 27 55 10 82 10 38 6 4 70 0 0 0 0 0 0 0 0 0 0 0 0 3 55 4 28 4 73 6 4 74 0 0 0 0 0 0 0 0 0 0 0 0 35 34 1 9 18 2 43 6 3 1 12 59 2 41 0 0 0 0 0 0 0 10 85 1 40 16 17 5 7 86 1 39 17 0 0 0 0 0 0 0 0 0 27 94 4 72 4 75 6 4 70 0 0 0 0 0 0 0 0 0 0 0 0 7 33 1 8 19 2 50 6 3 1 8 92 15 42 0 0 0 0 0 0 0 4 32 31 1 12 19 2 51 6 3 1 8 21 2 41 0 0 0 0 0 0 4 32 31 1 9 60 2 49 5 3 1 69 21 2 47 0 0 0 0 0 0 3 113 7 168 97 155 0 0 0 0 0 0 0 0 0 0 0 0 0 0 0 7 36 1 8 104 26 98 5 3 1 19 2 47 0 0 0 0 0 0 0 0 36 1 12 92 2 49 5 9 26 63 2 51 0 0 0 0 0 0 0 0 0 35 34 105 95 2 41 6 3 1 12 59 2 49 0 0 0 0 0 0 0 0 27 94 4 28 4 70 6 4 73 0 0 0 0 0 0 0 0 0 0 0 0 11 30 1 9 18 2 41 6 3 1 67 2 49 0 0 0 0 0 0 0 0 20 16 17 1 7 80 5 40 93 1 7 90 0 0 0 0 0 0 0 0 0 3 203 123 2 62 15 42 142 0 0 0 0 0 0 0 0 0 0 0 0 0 36 1 21 2 54 6 3 1 8 18 2 44 0 0 0 0 0 0 0 0 0 3 100 4 74 4 28 6 4 75 0 0 0 0 0 0 0 0 0 0 0 0 7 33 1 8 58 2 43 6 3 1 12 60 2 56 0 0 0 0 0 0 0 7 83 1 39 16 17 0 0 0 0 0 0 0 0 0 0 0 0 0 0 0 27 55 4 70 4 77 6 4 71 0 0 0 0 0 0 0 0 0 0 0 0 35 34 1 18 2 41 6 3 1 8 10 81 2 46 0 0 0 0 0 0 0 36 1 19 2 43 5 3 1 8 10 81 15 42 0 0 0 0 0 0 0 0 10 85 1 61 16 13 14 5 7 90 1 20 13 14 0 0 0 0 0 0 0 170 323 141 131 108 257 175 0 0 0 0 0 0 0 0 0 0 0 0 0 0 35 34 1 12 65 2 43 6 3 157 2 47 0 0 0 0 0 0 0 0 0 36 1 19 37 11 44 5 3 1 67 2 48 0 0 0 0 0 0 0 0 0 7 90 1 39 16 10 23 14 5 84 1 40 23 14 0 0 0 0 0 0 0 20 16 10 23 14 1 7 83 5 39 23 14 1 7 86 0 0 0 0 0 0 10 82 1 39 16 17 5 7 87 1 64 93 0 0 0 0 0 0 0 0 0 101 1 9 59 2 49 5 3 1 19 2 45 0 0 0 0 0 0 0 0 0 27 55 4 71 4 28 6 4 70 0 0 0 0 0 0 0 0 0 0 0 0 3 118 149 244 182 154 0 0 0 0 0 0 0 0 0 0 0 0 0 0 0 11 30 1 12 63 2 53 5 3 1 9 60 2 43 0 0 0 0 0 0 0 10 82 1 61 16 17 5 10 85 1 20 93 0 0 0 0 0 0 0 0 0 7 90 1 13 20 16 17 5 7 80 1 40 17 13 0 0 0 0 0 0 0 29 1 8 66 37 11 46 6 3 1 12 65 2 56 0 0 0 0 0 0 0 35 34 1 8 19 2 43 6 3 1 21 2 52 0 0 0 0 0 0 0 0 27 100 120 148 97 153 0 0 0 0 0 0 0 0 0 0 0 0 0 0 0 29 1 10 81 69 2 54 6 3 1 12 65 2 48 0 0 0 0 0 0 0 62 1 12 66 2 54 5 3 1 9 68 2 46 0 0 0 0 0 0 0 0 107 126 28 76 4 74 6 4 28 0 0 0 0 0 0 0 0 0 0 0 0 191 96 13 14 1 10 38 5 61 13 14 1 7 80 0 0 0 0 0 0 0 11 30 1 69 21 15 42 5 3 1 9 117 2 52 0 0 0 0 0 0 0 35 34 1 58 2 43 6 3 1 8 63 26 11 24 0 0 0 0 0 0 0 135 4 70 4 72 6 4 74 0 0 0 0 0 0 0 0 0 0 0 0 0 7 33 1 9 60 2 49 6 3 1 8 63 2 46 0 0 0 0 0 0 0 7 33 1 8 19 15 42 5 3 1 8 18 2 50 0 0 0 0 0 0 0 4 32 31 1 21 37 11 46 6 3 1 9 68 2 41 0 0 0 0 0 0 7 80 1 39 13 14 108 96 5 7 88 1 61 13 14 0 0 0 0 0 0 33 1 21 15 25 22 47 5 3 1 9 60 2 43 0 0 0 0 0 0 0 29 1 195 26 98 6 3 1 59 2 47 0 0 0 0 0 0 0 0 0 0 29 1 12 60 2 54 6 3 1 58 69 2 50 0 0 0 0 0 0 0 0 4 32 31 1 59 15 25 22 47 5 3 1 12 67 2 41 0 0 0 0 0 20 16 10 23 14 1 7 83 5 20 23 14 1 7 88 0 0 0 0 0 0 35 34 1 12 60 2 45 5 3 1 9 59 2 47 0 0 0 0 0 0 0 27 55 4 74 28 76 6 4 71 0 0 0 0 0 0 0 0 0 0 0 0 3 145 115 163 110 172 0 0 0 0 0 0 0 0 0 0 0 0 0 0 0 29 1 12 67 2 50 6 3 1 9 66 2 51 0 0 0 0 0 0 0 0 62 1 8 57 37 11 44 5 9 108 177 2 50 0 0 0 0 0 0 0 0 35 34 1 8 66 37 11 46 5 3 1 9 21 2 43 0 0 0 0 0 0 29 1 9 58 15 25 22 51 5 3 1 19 2 47 0 0 0 0 0 0 0 29 1 9 57 37 11 44 5 9 22 102 2 41 0 0 0 0 0 0 0 0 39 16 17 1 7 90 0 0 0 0 0 0 0 0 0 0 0 0 0 0 0 62 1 18 2 49 5 3 1 58 8 2 43 0 0 0 0 0 0 0 0 0 40 16 17 1 10 85 5 20 17 1 10 38 0 0 0 0 0 0 0 0 0 11 30 1 8 63 2 50 6 3 1 9 19 2 41 0 0 0 0 0 0 0 3 55 91 7 147 97 162 0 0 0 0 0 0 0 0 0 0 0 0 0 0 29 1 8 21 2 41 5 3 1 8 21 2 54 0 0 0 0 0 0 0 0 11 30 1 9 58 26 98 5 3 1 9 226 22 227 26 11 24 0 0 0 0 99 124 10 38 4 74 6 4 77 0 0 0 0 0 0 0 0 0 0 0 0 99 127 4 74 4 73 6 4 71 0 0 0 0 0 0 0 0 0 0 0 0 29 1 12 18 2 52 6 3 1 8 58 2 54 0 0 0 0 0 0 0 0 35 34 1 9 66 15 42 6 3 1 58 69 2 52 0 0 0 0 0 0 0 29 1 9 67 37 11 46 5 3 1 18 2 50 0 0 0 0 0 0 0 0 27 55 4 73 4 71 6 4 75 0 0 0 0 0 0 0 0 0 0 0 0 20 16 1 13 14 7 88 5 64 13 14 1 7 89 0 0 0 0 0 0 0 10 38 1 20 16 17 5 7 83 1 39 17 0 0 0 0 0 0 0 0 0 99 124 4 72 4 77 6 4 75 0 0 0 0 0 0 0 0 0 0 0 0 20 16 1 13 14 84 5 39 13 14 1 7 86 0 0 0 0 0 0 0 0 3 55 91 10 38 4 73 6 4 71 0 0 0 0 0 0 0 0 0 0 0 101 1 9 18 2 48 6 3 1 12 19 2 53 0 0 0 0 0 0 0 0 10 85 1 61 16 13 14 5 7 86 27 1 13 14 0 0 0 0 0 0 0 20 109 10 23 14 1 192 236 0 0 0 0 0 0 0 0 0 0 0 0 0 29 1 21 2 45 6 3 1 8 139 26 11 24 0 0 0 0 0 0 0 0 27 145 121 148 97 153 0 0 0 0 0 0 0 0 0 0 0 0 0 0 0 3 55 4 78 4 72 6 4 74 0 0 0 0 0 0 0 0 0 0 0 0 3 55 4 75 4 78 6 4 73 0 0 0 0 0 0 0 0 0 0 0 0 101 1 58 69 2 43 5 3 1 12 65 2 56 0 0 0 0 0 0 0 0 11 30 1 12 59 2 53 5 3 1 9 60 2 52 0 0 0 0 0 0 0 7 36 1 10 81 69 15 42 5 3 1 8 137 2 43 0 0 0 0 0 0 3 55 4 78 4 70 6 4 28 76 0 0 0 0 0 0 0 0 0 0 0 36 1 19 37 11 44 6 3 1 8 63 2 45 0 0 0 0 0 0 0 0 11 30 1 9 125 2 52 5 3 1 8 10 81 2 53 0 0 0 0 0 0 191 96 13 14 1 7 83 5 64 13 14 1 7 80 0 0 0 0 0 0 0 11 30 1 8 7 102 2 43 6 3 1 21 2 49 0 0 0 0 0 0 0 3 100 4 72 10 38 6 4 75 0 0 0 0 0 0 0 0 0 0 0 0 7 80 1 20 16 10 23 14 5 7 86 1 61 23 14 0 0 0 0 0 0 4 32 31 1 9 66 2 48 6 3 1 67 2 51 0 0 0 0 0 0 0 27 55 4 74 10 38 6 4 71 0 0 0 0 0 0 0 0 0 0 0 0 39 13 14 1 10 16 22 38 5 27 1 13 14 84 0 0 0 0 0 0 0 11 30 1 8 65 37 11 46 6 3 1 8 19 2 52 0 0 0 0 0 0 27 143 121 151 97 134 0 0 0 0 0 0 0 0 0 0 0 0 0 0 0 3 158 91 7 147 97 162 0 0 0 0 0 0 0 0 0 0 0 0 0 0 146 10 218 1 40 109 10 23 14 0 0 0 0 0 0 0 0 0 0 0 0 10 220 1 20 109 10 23 14 0 0 0 0 0 0 0 0 0 0 0 0 0 29 1 12 19 15 25 22 47 6 3 1 9 57 2 50 0 0 0 0 0 0 7 33 1 9 18 2 46 5 3 1 12 67 2 43 0 0 0 0 0 0 0 101 1 9 65 15 25 22 51 5 3 1 21 2 54 0 0 0 0 0 0 0 35 34 1 9 66 2 48 5 3 1 8 68 15 42 0 0 0 0 0 0 0 62 1 8 60 2 43 5 3 1 12 67 2 52 0 0 0 0 0 0 0 0 7 33 1 12 21 2 41 5 3 1 8 67 2 54 0 0 0 0 0 0 0 10 82 1 20 16 10 23 14 5 7 90 27 1 10 23 14 0 0 0 0 0 1 3 223 15 35 34 0 0 0 0 0 0 0 0 0 0 0 0 0 0 0 4 32 31 1 9 58 15 25 22 48 6 3 1 8 60 26 11 24 0 0 0 20 16 17 1 7 88 5 20 17 1 10 85 0 0 0 0 0 0 0 0 0 11 30 1 59 15 25 22 53 6 3 1 21 2 43 0 0 0 0 0 0 0 3 158 91 144 163 110 166 0 0 0 0 0 0 0 0 0 0 0 0 0 0 7 86 1 64 16 17 5 7 83 1 20 93 0 0 0 0 0 0 0 0 0 35 34 1 19 15 25 22 45 5 3 1 12 18 2 48 0 0 0 0 0 0 11 30 1 104 15 42 6 3 105 103 9 19 2 49 0 0 0 0 0 0 0 20 16 10 23 14 1 84 5 40 23 14 1 7 90 0 0 0 0 0 0 0 62 105 103 9 19 15 25 22 45 5 3 1 8 21 26 11 24 0 0 0 0 3 113 120 168 97 155 0 0 0 0 0 0 0 0 0 0 0 0 0 0 0 64 16 17 1 10 38 5 39 17 1 7 86 0 0 0 0 0 0 0 0 0 35 34 1 9 66 15 111 22 11 24 6 3 1 8 68 2 43 0 0 0 0 33 1 66 37 11 24 6 3 1 8 10 81 2 53 0 0 0 0 0 0 0 4 32 31 1 12 21 2 52 6 3 1 8 18 2 41 0 0 0 0 0 0 29 1 9 59 2 43 6 3 1 12 63 2 45 0 0 0 0 0 0 0 0 29 1 8 60 15 25 22 48 5 3 1 8 19 2 44 0 0 0 0 0 0 35 34 1 12 59 26 98 5 3 1 9 18 2 47 0 0 0 0 0 0 0 36 1 9 7 102 2 49 6 3 1 8 59 2 47 0 0 0 0 0 0 0 7 33 1 8 58 2 48 6 3 1 67 2 43 0 0 0 0 0 0 0 0 62 1 8 57 2 50 5 3 1 8 68 2 56 0 0 0 0 0 0 0 0 35 34 1 9 18 2 43 5 3 1 21 2 52 0 0 0 0 0 0 0 0 62 1 8 104 15 42 6 3 1 12 57 26 11 24 0 0 0 0 0 0 0 107 126 10 38 4 70 6 4 78 0 0 0 0 0 0 0 0 0 0 0 0 36 1 9 59 37 11 46 5 3 1 8 19 2 51 0 0 0 0 0 0 0 7 33 1 10 81 2 41 6 3 1 57 26 11 24 0 0 0 0 0 0 0 35 34 1 60 2 41 5 3 1 8 59 2 50 0 0 0 0 0 0 0 0 7 83 1 10 16 10 23 14 64 5 10 82 1 10 23 14 0 0 0 0 0 84 1 20 16 17 13 5 7 88 1 61 13 17 0 0 0 0 0 0 0 0 99 127 91 28 76 4 77 6 4 71 0 0 0 0 0 0 0 0 0 0 0 7 36 1 8 10 81 2 48 6 3 1 9 19 2 52 0 0 0 0 0 0 29 1 8 10 81 2 43 5 3 1 19 2 50 0 0 0 0 0 0 0 0 4 32 31 1 9 117 2 50 6 3 1 65 2 51 0 0 0 0 0 0 0 101 1 8 18 2 53 5 3 1 8 19 15 42 0 0 0 0 0 0 0 0 7 33 1 9 60 2 48 5 3 1 19 2 47 0 0 0 0 0 0 0 0 99 127 91 4 77 4 74 6 4 75 0 0 0 0 0 0 0 0 0 0 0 39 16 10 23 14 1 7 87 5 64 23 14 1 10 85 0 0 0 0 0 0 7 33 1 60 26 98 5 3 1 12 92 2 41 0 0 0 0 0 0 0 0 11 30 1 104 26 98 5 3 1 9 59 2 49 0 0 0 0 0 0 0 0 29 1 59 26 98 5 3 1 58 2 52 0 0 0 0 0 0 0 0 0 0 3 55 4 73 4 28 6 4 28 76 0 0 0 0 0 0 0 0 0 0 0 36 1 19 2 52 5 3 1 21 2 50 0 0 0 0 0 0 0 0 0 0 29 1 12 59 2 49 6 3 1 9 22 102 2 41 0 0 0 0 0 0 0 7 89 1 20 16 17 13 5 7 86 1 39 17 13 0 0 0 0 0 0 0 10 85 1 20 16 13 14 5 7 88 1 61 13 14 0 0 0 0 0 0 0 29 1 57 15 25 22 48 5 3 1 65 26 11 24 0 0 0 0 0 0 0 106 130 4 74 6 4 71 0 0 0 0 0 0 0 0 0 0 0 0 0 0 101 1 8 18 37 11 44 5 3 1 67 2 43 0 0 0 0 0 0 0 0 4 32 31 1 9 68 2 54 5 3 1 8 19 2 51 0 0 0 0 0 0 20 16 1 13 14 7 83 5 61 13 14 1 7 88 0 0 0 0 0 0 0 99 127 10 38 4 75 6 4 70 0 0 0 0 0 0 0 0 0 0 0 0 99 127 4 75 28 76 6 4 71 0 0 0 0 0 0 0 0 0 0 0 0 40 16 17 13 1 10 38 5 64 13 17 1 7 80 0 0 0 0 0 0 0 29 1 8 18 37 11 44 5 3 1 9 19 2 43 0 0 0 0 0 0 0 4 32 31 1 12 18 15 42 5 3 1 8 66 26 11 24 0 0 0 0 0 36 1 104 2 45 6 3 1 8 18 2 46 0 0 0 0 0 0 0 0 0 116 100 4 78 4 77 6 4 71 0 0 0 0 0 0 0 0 0 0 0 0 3 94 4 71 4 78 6 4 75 0 0 0 0 0 0 0 0 0 0 0 0 3 55 91 4 77 6 4 74 0 0 0 0 0 0 0 0 0 0 0 0 0 11 30 1 243 15 42 6 3 1 9 65 2 56 0 0 0 0 0 0 0 0 33 105 103 9 19 2 41 5 3 1 69 21 2 48 0 0 0 0 0 0 0 7 89 1 39 13 14 108 96 5 10 85 1 61 13 14 0 0 0 0 0 0 7 80 1 20 13 14 108 96 5 7 87 1 39 13 14 0 0 0 0 0 0 4 32 31 1 19 37 11 44 5 3 1 21 15 42 0 0 0 0 0 0 0 35 34 1 58 8 2 49 5 3 95 69 2 56 0 0 0 0 0 0 0 0 4 32 31 1 9 66 2 49 6 3 1 8 92 2 53 0 0 0 0 0 0 35 34 1 9 18 2 52 5 3 1 9 60 26 11 24 0 0 0 0 0 0 3 55 10 38 28 76 6 4 77 0 0 0 0 0 0 0 0 0 0 0 0 4 32 31 1 9 125 2 43 6 3 1 65 2 44 0 0 0 0 0 0 0 3 118 113 7 97 150 174 0 0 0 0 0 0 0 0 0 0 0 0 0 0 64 16 1 13 14 10 82 5 20 13 14 1 10 38 0 0 0 0 0 0 0 4 32 31 1 9 65 2 49 6 3 1 8 57 2 50 0 0 0 0 0 0 3 55 91 28 76 10 38 6 4 28 0 0 0 0 0 0 0 0 0 0 0 11 30 1 12 92 15 25 79 56 5 3 1 21 2 47 0 0 0 0 0 0 27 143 7 151 97 153 0 0 0 0 0 0 0 0 0 0 0 0 0 0 0 62 1 9 63 2 50 5 3 1 68 2 54 0 0 0 0 0 0 0 0 0 35 34 1 9 57 2 54 5 3 1 9 21 2 41 0 0 0 0 0 0 0 20 16 17 1 13 7 88 5 20 13 17 1 10 38 0 0 0 0 0 0 0 36 1 12 18 2 41 6 3 1 12 63 2 50 0 0 0 0 0 0 0 0 11 30 1 12 19 15 42 5 3 1 57 2 47 0 0 0 0 0 0 0 0 212 99 124 278 0 0 0 0 0 0 0 0 0 0 0 0 0 0 0 0 0 7 87 1 20 16 10 23 14 5 7 89 1 64 23 14 0 0 0 0 0 0 3 94 4 70 4 78 6 4 73 0 0 0 0 0 0 0 0 0 0 0 0 135 4 74 4 73 6 4 28 0 0 0 0 0 0 0 0 0 0 0 0 0 11 30 1 9 19 2 50 5 3 1 21 2 49 0 0 0 0 0 0 0 0 27 94 4 28 4 77 6 28 76 0 0 0 0 0 0 0 0 0 0 0 0 29 1 9 26 63 15 42 6 3 1 9 65 2 43 0 0 0 0 0 0 0 7 90 1 20 16 17 5 10 85 1 39 17 0 0 0 0 0 0 0 0 0 36 1 9 125 2 50 5 3 1 60 2 51 0 0 0 0 0 0 0 0 0 7 90 1 64 16 17 13 5 7 89 1 20 13 17 0 0 0 0 0 0 0 7 33 1 104 2 24 6 3 1 9 59 2 44 0 0 0 0 0 0 0 0 27 55 7 288 153 193 0 0 0 0 0 0 0 0 0 0 0 0 0 0 0 11 30 1 9 21 15 42 6 3 1 68 2 50 0 0 0 0 0 0 0 0 20 16 17 1 10 38 5 61 17 1 7 80 0 0 0 0 0 0 0 0 0 11 30 1 104 2 50 6 3 95 9 2 56 0 0 0 0 0 0 0 0 0 7 62 1 10 81 2 49 6 3 1 9 65 2 56 0 0 0 0 0 0 0 3 55 4 70 6 4 75 0 0 0 0 0 0 0 0 0 0 0 0 0 0 27 113 120 148 97 150 0 0 0 0 0 0 0 0 0 0 0 0 0 0 0 106 130 28 76 4 74 6 4 73 0 0 0 0 0 0 0 0 0 0 0 0 20 16 10 23 14 1 10 85 5 61 23 14 1 7 89 0 0 0 0 0 0 4 32 31 1 9 19 15 25 22 47 5 3 1 8 67 2 50 0 0 0 0 27 55 4 77 4 74 6 4 78 0 0 0 0 0 0 0 0 0 0 0 0 29 1 69 21 2 41 6 3 1 8 10 81 2 53 0 0 0 0 0 0 0 116 100 4 74 4 72 6 4 77 0 0 0 0 0 0 0 0 0 0 0 0 29 1 9 66 15 111 22 11 24 5 9 22 102 2 52 0 0 0 0 0 0 129 96 10 23 14 1 7 80 5 61 23 14 1 7 88 0 0 0 0 0 0 29 1 12 66 15 25 22 51 5 3 1 9 18 2 48 0 0 0 0 0 0 146 7 201 1 39 109 10 23 156 0 0 0 0 0 0 0 0 0 0 0 0 4 32 31 1 9 19 2 41 6 3 1 8 59 26 11 24 0 0 0 0 0 27 55 4 74 4 70 6 4 28 0 0 0 0 0 0 0 0 0 0 0 0 29 1 8 112 15 25 22 51 5 3 1 66 2 50 0 0 0 0 0 0 0 3 160 171 1 198 22 164 185 187 0 0 0 0 0 0 0 0 0 0 0 0 27 55 4 77 78 6 28 0 0 0 0 0 0 0 0 0 0 0 0 0 0 3 100 4 75 28 76 6 4 74 0 0 0 0 0 0 0 0 0 0 0 0 11 30 1 9 59 37 11 44 5 3 1 8 18 2 52 0 0 0 0 0 0 106 130 28 76 4 73 6 4 28 0 0 0 0 0 0 0 0 0 0 0 0 4 32 31 1 8 21 15 25 79 56 5 3 1 8 60 2 46 0 0 0 0 11 30 1 7 102 2 54 5 3 1 9 21 2 56 0 0 0 0 0 0 0 27 94 10 38 4 71 6 4 78 0 0 0 0 0 0 0 0 0 0 0 0 116 100 38 4 71 6 4 78 0 0 0 0 0 0 0 0 0 0 0 0 0 20 16 1 13 14 7 87 5 40 13 14 1 10 38 0 0 0 0 0 0 0 36 1 8 63 37 11 46 5 3 1 21 2 53 0 0 0 0 0 0 0 0 84 1 20 16 10 23 14 5 7 83 1 64 23 14 0 0 0 0 0 0 0 7 90 1 61 16 13 14 5 7 83 1 64 13 14 0 0 0 0 0 0 0 29 1 68 2 52 6 3 1 8 19 2 41 0 0 0 0 0 0 0 0 0 27 55 4 70 4 74 6 4 77 0 0 0 0 0 0 0 0 0 0 0 0 11 30 1 18 2 52 5 3 1 12 57 2 43 0 0 0 0 0 0 0 0 29 1 9 19 2 52 6 3 1 9 57 2 49 0 0 0 0 0 0 0 0 36 105 103 9 19 15 25 79 56 5 3 1 58 69 2 44 0 0 0 0 0 20 16 10 23 14 1 7 86 5 39 23 14 1 7 87 0 0 0 0 0 0 135 4 73 4 28 76 6 4 74 0 0 0 0 0 0 0 0 0 0 0 0 29 1 9 58 2 53 5 3 1 9 21 2 48 0 0 0 0 0 0 0 0 35 34 1 8 21 2 49 6 3 1 59 2 43 0 0 0 0 0 0 0 0 29 1 8 63 2 49 5 3 1 12 66 2 53 0 0 0 0 0 0 0 0 36 1 63 2 52 5 3 1 8 21 2 53 0 0 0 0 0 0 0 0 0 29 1 68 15 25 22 51 5 3 1 8 65 26 11 24 0 0 0 0 0 0 7 80 1 64 16 17 5 10 38 1 61 17 0 0 0 0 0 0 0 0 0 7 33 1 12 59 2 43 5 3 1 12 68 26 11 24 0 0 0 0 0 0 116 207 22 136 7 36 2 46 0 0 0 0 0 0 0 0 0 0 0 0 0 64 16 17 1 10 38 5 20 17 1 7 88 0 0 0 0 0 0 0 0 0 3 55 115 248 110 176 0 0 0 0 0 0 0 0 0 0 0 0 0 0 0 35 34 1 9 117 15 42 6 3 1 21 2 48 0 0 0 0 0 0 0 0 35 34 1 19 2 54 5 3 1 9 59 2 41 0 0 0 0 0 0 0 0 27 94 4 75 6 4 78 0 0 0 0 0 0 0 0 0 0 0 0 0 0 3 94 121 147 97 153 0 0 0 0 0 0 0 0 0 0 0 0 0 0 0 36 1 8 18 2 54 6 3 1 18 15 42 0 0 0 0 0 0 0 0 0 29 1 9 138 2 50 5 9 26 63 26 11 24 0 0 0 0 0 0 0 0 99 131 233 2 36 11 24 142 0 0 0 0 0 0 0 0 0 0 0 0 0 11 30 1 8 59 2 50 6 3 1 112 2 45 0 0 0 0 0 0 0 0 101 1 9 65 2 41 5 3 1 8 67 26 11 24 0 0 0 0 0 0 0 35 34 105 103 9 19 15 111 22 11 24 6 3 1 60 2 43 0 0 0 0 29 1 9 18 26 98 6 3 1 12 19 2 46 0 0 0 0 0 0 0 0 61 16 17 13 1 7 83 5 40 13 140 1 7 89 0 0 0 0 0 0 0 3 100 4 74 4 78 6 10 38 0 0 0 0 0 0 0 0 0 0 0 0 4 32 31 1 12 67 37 11 46 6 3 1 8 18 26 11 24 0 0 0 0 62 1 8 92 2 49 6 3 1 66 15 42 0 0 0 0 0 0 0 0 0 27 55 4 78 4 28 6 4 70 0 0 0 0 0 0 0 0 0 0 0 0 135 4 71 6 4 77 0 0 0 0 0 0 0 0 0 0 0 0 0 0 0 7 33 1 12 63 15 111 22 11 24 5 3 95 15 42 0 0 0 0 0 0 7 33 1 8 10 81 2 48 6 3 1 8 63 2 41 0 0 0 0 0 0 29 1 9 22 102 15 25 22 47 5 3 1 58 69 2 50 0 0 0 0 0 20 16 1 13 14 10 82 5 64 13 14 1 7 83 0 0 0 0 0 0 0 11 30 1 12 68 2 24 5 3 1 8 18 2 45 0 0 0 0 0 0 0 129 96 13 14 1 7 83 5 39 13 14 1 84 0 0 0 0 0 0 0 0 135 10 38 4 77 6 4 70 0 0 0 0 0 0 0 0 0 0 0 0 0 3 55 4 28 4 73 6 4 71 0 0 0 0 0 0 0 0 0 0 0 0 35 34 1 8 21 2 48 5 3 1 19 2 56 0 0 0 0 0 0 0 0 11 30 1 12 68 15 25 79 56 5 9 22 102 2 48 0 0 0 0 0 0 99 124 10 38 6 4 75 0 0 0 0 0 0 0 0 0 0 0 0 0 0 29 1 9 58 37 11 44 6 3 95 2 53 0 0 0 0 0 0 0 0 0 29 1 8 19 2 41 6 3 157 26 11 24 0 0 0 0 0 0 0 0 0 7 62 1 9 10 81 2 49 5 3 1 8 18 2 51 0 0 0 0 0 0 36 1 58 26 98 5 3 1 8 21 2 45 0 0 0 0 0 0 0 0 0 40 16 10 23 14 1 84 5 20 23 14 1 10 38 0 0 0 0 0 0 0 27 143 146 165 97 134 0 0 0 0 0 0 0 0 0 0 0 0 0 0 0 7 86 1 61 16 13 14 5 7 88 1 64 13 14 0 0 0 0 0 0 0 11 30 1 8 21 37 11 46 5 3 1 12 92 2 48 0 0 0 0 0 0 115 216 122 20 109 17 13 0 0 0 0 0 0 0 0 0 0 0 0 0 0 107 126 4 77 4 75 6 4 72 0 0 0 0 0 0 0 0 0 0 0 0 107 126 4 78 4 74 6 4 70 0 0 0 0 0 0 0 0 0 0 0 0 3 143 10 248 110 134 0 0 0 0 0 0 0 0 0 0 0 0 0 0 0 11 30 1 10 81 2 45 5 3 1 8 67 2 53 0 0 0 0 0 0 0 35 34 1 9 65 2 52 5 3 1 9 19 2 48 0 0 0 0 0 0 0 27 1 10 344 22 7 224 97 134 0 0 0 0 0 0 0 0 0 0 0 0 62 1 9 19 2 41 5 3 1 12 65 2 56 0 0 0 0 0 0 0 0 10 82 1 64 16 17 13 5 7 88 1 20 13 17 0 0 0 0 0 0 0 35 34 1 10 81 37 11 46 5 3 1 8 63 2 49 0 0 0 0 0 0 27 178 22 167 181 2 62 2 50 0 0 0 0 0 0 0 0 0 0 0 0 4 32 31 1 21 15 25 22 53 6 3 1 12 21 2 41 0 0 0 0 0 27 55 4 71 4 28 6 4 28 76 0 0 0 0 0 0 0 0 0 0 0 3 55 91 10 38 4 71 6 4 28 0 0 0 0 0 0 0 0 0 0 0 20 16 17 1 10 85 5 40 93 1 7 83 0 0 0 0 0 0 0 0 0 7 33 1 9 58 2 49 6 3 1 12 19 2 41 0 0 0 0 0 0 0 263 179 209 141 175 0 0 0 0 0 0 0 0 0 0 0 0 0 0 0 0 4 32 31 1 7 102 2 45 5 3 105 103 9 19 2 52 0 0 0 0 0 7 33 1 12 18 2 43 5 3 95 9 2 49 0 0 0 0 0 0 0 0 62 1 69 21 15 42 5 9 108 177 2 54 0 0 0 0 0 0 0 0 0 36 1 9 117 2 43 6 3 1 8 65 2 44 0 0 0 0 0 0 0 0 4 32 31 1 8 21 2 52 6 3 1 8 57 26 11 24 0 0 0 0 0 64 16 17 1 84 5 20 93 1 7 88 0 0 0 0 0 0 0 0 0 0 20 16 17 13 1 7 80 5 39 17 13 1 7 90 0 0 0 0 0 0 0 99 124 4 72 4 28 6 4 159 0 0 0 0 0 0 0 0 0 0 0 0 35 34 1 21 2 52 5 3 1 8 21 2 54 0 0 0 0 0 0 0 0 7 36 1 8 306 2 50 6 3 1 8 112 2 52 0 0 0 0 0 0 0 4 32 31 1 21 15 25 22 45 5 3 1 8 21 15 42 0 0 0 0 0 40 16 1 13 14 7 80 5 61 13 14 1 7 86 0 0 0 0 0 0 0 35 34 1 12 60 2 51 6 3 1 12 65 2 43 0 0 0 0 0 0 0 7 33 1 9 18 15 25 22 47 5 3 1 8 66 2 51 0 0 0 0 0 35 34 1 12 63 15 111 22 11 24 5 3 1 8 66 2 56 0 0 0 0 33 1 57 2 43 6 3 1 12 19 2 50 0 0 0 0 0 0 0 0 0 29 1 12 59 2 52 6 3 1 9 65 2 45 0 0 0 0 0 0 0 0 20 16 10 23 14 1 10 38 5 61 23 14 1 10 82 0 0 0 0 0 0 135 4 71 4 72 6 10 38 0 0 0 0 0 0 0 0 0 0 0 0 0 39 16 17 1 7 80 5 20 17 1 10 85 0 0 0 0 0 0 0 0 0 7 33 1 9 19 2 48 6 3 1 57 2 50 0 0 0 0 0 0 0 0 11 30 1 8 18 15 25 22 47 6 3 95 9 2 41 0 0 0 0 0 0 7 89 1 20 16 13 14 0 0 0 0 0 0 0 0 0 0 0 0 0 0 62 1 12 63 2 50 5 3 1 12 19 2 48 0 0 0 0 0 0 0 0 35 34 1 63 37 11 44 6 3 1 9 68 2 50 0 0 0 0 0 0 0 64 16 17 1 13 84 5 39 17 13 1 7 90 0 0 0 0 0 0 0 0 29 1 9 125 2 48 6 3 1 67 26 11 24 0 0 0 0 0 0 0 0 29 1 8 18 2 41 6 3 1 9 68 2 43 0 0 0 0 0 0 0 0 27 145 120 148 97 150 0 0 0 0 0 0 0 0 0 0 0 0 0 0 0 146 11 219 122 20 109 10 23 14 0 0 0 0 0 0 0 0 0 0 0 0 99 124 4 71 4 73 6 4 74 0 0 0 0 0 0 0 0 0 0 0 0 35 34 1 7 102 2 41 6 3 1 8 137 2 52 0 0 0 0 0 0 0 29 1 8 112 37 11 46 6 3 1 9 21 2 48 0 0 0 0 0 0 0 3 94 4 71 10 38 6 4 74 0 0 0 0 0 0 0 0 0 0 0 0 106 130 4 73 4 72 6 4 28 76 0 0 0 0 0 0 0 0 0 0 0 27 55 28 76 4 28 6 4 77 0 0 0 0 0 0 0 0 0 0 0 0 4 32 31 1 12 18 2 52 5 3 1 12 21 2 53 0 0 0 0 0 0 33 1 21 2 54 6 3 1 9 57 2 43 0 0 0 0 0 0 0 0 0 27 158 91 144 183 110 172 0 0 0 0 0 0 0 0 0 0 0 0 0 0 3 55 4 70 4 75 6 4 28 0 0 0 0 0 0 0 0 0 0 0 0 3 94 4 70 4 28 6 4 74 0 0 0 0 0 0 0 0 0 0 0 0 29 1 9 66 2 48 5 3 1 9 125 2 44 0 0 0 0 0 0 0 0 11 30 1 12 60 2 51 6 3 1 8 18 26 11 24 0 0 0 0 0 0 3 118 113 144 200 110 133 0 0 0 0 0 0 0 0 0 0 0 0 0 0 99 124 4 78 4 77 6 4 74 0 0 0 0 0 0 0 0 0 0 0 0 40 16 17 13 1 7 83 5 61 13 17 1 7 80 0 0 0 0 0 0 0 62 1 8 104 26 98 5 3 1 60 2 45 0 0 0 0 0 0 0 0 0 20 16 17 1 7 88 5 40 93 1 7 87 0 0 0 0 0 0 0 0 0 27 158 91 7 151 97 153 0 0 0 0 0 0 0 0 0 0 0 0 0 0 36 1 8 66 2 50 6 3 1 12 19 15 42 0 0 0 0 0 0 0 0 7 33 1 10 81 2 43 5 3 1 59 2 47 0 0 0 0 0 0 0 0 39 16 17 1 7 83 5 20 93 1 7 88 0 0 0 0 0 0 0 0 0 4 32 31 1 9 60 15 25 22 51 5 3 1 9 21 2 45 0 0 0 0 101 1 8 18 15 25 22 47 5 3 95 69 2 52 0 0 0 0 0 0 0 7 33 1 8 63 2 48 5 3 1 8 57 2 52 0 0 0 0 0 0 0 107 132 4 71 6 4 28 0 0 0 0 0 0 0 0 0 0 0 0 0 0 11 30 1 9 22 102 2 45 6 3 1 8 18 15 42 0 0 0 0 0 0 27 55 121 148 97 150 0 0 0 0 0 0 0 0 0 0 0 0 0 0 0 4 32 31 1 12 66 2 53 6 3 1 9 58 2 41 0 0 0 0 0 0 10 85 1 64 16 17 13 5 7 89 1 40 17 13 0 0 0 0 0 0 0 35 34 1 9 65 2 48 6 3 1 8 66 15 42 0 0 0 0 0 0 0 7 33 1 9 19 2 45 5 9 108 177 2 43 0 0 0 0 0 0 0 0 35 34 1 18 2 41 6 3 1 8 59 2 54 0 0 0 0 0 0 0 0 27 55 120 97 155 174 0 0 0 0 0 0 0 0 0 0 0 0 0 0 0 4 32 31 1 12 92 37 11 24 5 3 1 9 19 2 53 0 0 0 0 0 4 32 31 1 8 19 37 11 44 6 3 1 8 65 2 49 0 0 0 0 0 29 1 12 92 2 48 6 3 1 21 26 11 24 0 0 0 0 0 0 0 0 4 32 31 1 12 18 2 41 6 3 1 8 66 2 24 0 0 0 0 0 0 61 16 17 1 10 38 5 40 93 1 10 82 0 0 0 0 0 0 0 0 0 4 32 31 1 9 104 26 98 6 3 1 8 57 2 50 0 0 0 0 0 0 263 179 209 141 4 13 175 0 0 0 0 0 0 0 0 0 0 0 0 0 0 7 33 1 8 58 2 41 5 3 1 69 21 2 54 0 0 0 0 0 0 0 36 1 8 137 2 54 5 3 1 12 59 2 49 0 0 0 0 0 0 0 0 106 128 91 4 28 4 78 6 4 77 0 0 0 0 0 0 0 0 0 0 0 40 16 10 23 14 1 10 38 5 39 23 14 1 7 83 0 0 0 0 0 0 62 1 8 67 2 49 5 9 59 2 54 0 0 0 0 0 0 0 0 0 0 7 33 1 8 92 2 50 6 3 1 8 57 2 46 0 0 0 0 0 0 0 4 32 31 1 9 21 15 25 79 54 5 3 1 67 2 53 0 0 0 0 0 29 1 8 18 15 25 79 56 5 3 1 12 19 2 53 0 0 0 0 0 0 7 36 1 8 92 2 54 6 3 1 9 57 2 41 0 0 0 0 0 0 0 11 30 1 12 18 2 24 5 3 1 9 57 2 46 0 0 0 0 0 0 0 11 30 1 19 2 54 5 3 1 12 18 2 56 0 0 0 0 0 0 0 0 106 130 4 73 4 28 6 4 77 0 0 0 0 0 0 0 0 0 0 0 0 235 1 115 290 180 10 277 0 0 0 0 0 0 0 0 0 0 0 0 0 0 35 34 1 10 81 69 26 98 6 3 1 8 59 2 49 0 0 0 0 0 0 36 1 9 10 81 37 11 24 6 3 1 12 18 2 52 0 0 0 0 0 0 61 16 1 13 14 10 85 5 27 1 13 14 7 80 0 0 0 0 0 0 0 62 1 9 7 102 2 52 6 3 1 9 68 2 47 0 0 0 0 0 0 0 101 1 9 195 37 11 44 6 3 1 8 18 26 11 24 0 0 0 0 0 0 40 13 14 1 10 16 22 38 5 39 13 14 1 7 80 0 0 0 0 0 0 29 1 12 67 15 111 22 11 24 6 3 1 21 2 54 0 0 0 0 0 0 35 34 1 8 67 15 42 5 3 1 9 68 2 56 0 0 0 0 0 0 0 20 16 1 13 14 7 80 5 39 13 14 1 7 87 0 0 0 0 0 0 0 3 55 4 70 4 28 76 6 4 78 0 0 0 0 0 0 0 0 0 0 0 7 33 1 9 104 26 98 6 3 1 67 2 41 0 0 0 0 0 0 0 0 27 55 121 151 97 153 0 0 0 0 0 0 0 0 0 0 0 0 0 0 0 7 33 1 12 68 15 42 6 3 1 8 57 2 54 0 0 0 0 0 0 0 62 1 8 60 2 54 6 3 1 8 137 2 51 0 0 0 0 0 0 0 0 7 33 1 9 104 15 42 6 3 1 9 65 2 46 0 0 0 0 0 0 0 4 32 31 1 10 81 69 2 53 5 3 1 9 18 15 42 0 0 0 0 0 10 38 1 64 16 17 13 5 7 80 1 61 13 17 0 0 0 0 0 0 0 106 130 4 73 4 72 6 4 70 0 0 0 0 0 0 0 0 0 0 0 0 129 96 13 14 1 7 86 5 20 13 14 1 84 0 0 0 0 0 0 0 0 4 32 31 1 8 59 2 49 5 3 1 8 65 26 11 24 0 0 0 0 0 106 130 4 28 4 71 6 10 38 0 0 0 0 0 0 0 0 0 0 0 0 84 1 13 39 16 17 5 7 88 1 20 13 17 0 0 0 0 0 0 0 0 27 204 123 15 35 34 0 0 0 0 0 0 0 0 0 0 0 0 0 0 0 27 118 149 121 97 166 154 0 0 0 0 0 0 0 0 0 0 0 0 0 0 7 62 1 10 81 69 2 45 6 3 1 12 92 2 56 0 0 0 0 0 0 20 16 1 13 14 10 85 5 40 13 14 1 7 88 0 0 0 0 0 0 0 7 201 1 20 109 17 13 0 0 0 0 0 0 0 0 0 0 0 0 0 0 29 1 21 15 25 22 47 6 3 103 19 15 42 0 0 0 0 0 0 0 0 35 34 1 60 15 25 22 45 5 3 1 65 26 11 24 0 0 0 0 0 0 11 30 1 63 15 111 22 11 24 6 3 1 8 67 2 54 0 0 0 0 0 3 55 91 4 73 4 28 76 6 72 0 0 0 0 0 0 0 0 0 0 0 40 16 10 23 14 1 7 86 5 20 23 14 1 7 87 0 0 0 0 0 0 29 1 8 18 15 42 6 3 1 8 21 2 43 0 0 0 0 0 0 0 0 10 85 1 20 16 17 13 5 10 82 1 64 13 17 0 0 0 0 0 0 0 4 32 31 1 8 65 2 41 6 3 103 19 2 49 0 0 0 0 0 0 0 11 30 1 9 60 26 98 5 3 1 12 63 2 50 0 0 0 0 0 0 0 61 13 14 16 1 10 82 5 39 13 14 1 7 80 0 0 0 0 0 0 0 106 128 91 4 78 4 28 76 6 4 71 0 0 0 0 0 0 0 0 0 0 7 90 1 20 16 13 14 5 10 38 253 1 13 14 0 0 0 0 0 0 0 36 1 9 138 2 51 6 3 1 12 63 2 49 0 0 0 0 0 0 0 0 64 16 17 1 13 7 86 0 0 0 0 0 0 0 0 0 0 0 0 0 0 7 86 1 20 16 17 13 5 7 88 1 64 13 140 0 0 0 0 0 0 0 4 32 31 1 58 8 15 25 22 45 6 3 1 67 2 54 0 0 0 0 0 29 1 8 21 15 25 22 51 6 3 1 60 2 41 0 0 0 0 0 0 0 35 34 1 12 63 2 51 6 3 103 19 2 44 0 0 0 0 0 0 0 0 29 1 9 67 15 25 79 56 5 3 1 9 125 2 52 0 0 0 0 0 0 101 1 8 67 2 53 5 3 1 19 2 51 0 0 0 0 0 0 0 0 0 20 16 17 13 1 7 80 5 39 17 1 10 13 38 0 0 0 0 0 0 0 61 16 17 1 7 83 5 20 93 1 7 88 0 0 0 0 0 0 0 0 0 35 34 1 8 63 37 11 46 5 3 1 12 60 2 49 0 0 0 0 0 0 35 34 1 9 58 26 98 5 3 1 9 18 2 53 0 0 0 0 0 0 0 3 113 121 168 97 133 0 0 0 0 0 0 0 0 0 0 0 0 0 0 0 11 30 1 8 59 2 49 5 3 1 21 2 44 0 0 0 0 0 0 0 0 3 100 4 75 4 72 4 28 6 4 0 0 0 0 0 0 0 0 0 0 0 7 87 1 64 16 13 14 5 7 90 1 20 13 14 0 0 0 0 0 0 0 7 80 1 40 16 10 23 14 5 7 90 1 64 23 14 0 0 0 0 0 0 36 1 7 102 15 42 6 3 1 12 19 2 53 0 0 0 0 0 0 0 0 29 1 12 18 2 45 5 3 1 12 60 2 48 0 0 0 0 0 0 0 0 29 1 12 63 37 11 44 5 3 1 9 18 2 52 0 0 0 0 0 0 0 29 1 60 15 111 285 42 6 3 1 8 21 2 45 0 0 0 0 0 0 0 62 1 8 19 15 25 79 56 6 3 1 8 92 15 42 0 0 0 0 0 0 116 160 171 1 196 22 164 161 186 6 189 0 0 0 0 0 0 0 0 0 0 4 32 31 1 8 66 2 41 5 3 1 18 2 48 0 0 0 0 0 0 0 36 1 8 67 2 41 5 3 1 21 2 53 0 0 0 0 0 0 0 0 0 27 55 4 71 4 74 6 4 77 0 0 0 0 0 0 0 0 0 0 0 0 36 1 9 22 102 37 11 46 6 3 1 68 2 53 0 0 0 0 0 0 0 36 1 12 67 2 54 5 3 1 68 2 41 0 0 0 0 0 0 0 0 0 3 55 146 11 193 150 165 0 0 0 0 0 0 0 0 0 0 0 0 0 0 3 55 91 28 76 4 77 6 4 75 0 0 0 0 0 0 0 0 0 0 0 7 90 1 61 16 17 13 5 7 89 1 20 13 17 0 0 0 0 0 0 0 29 1 8 19 2 54 5 3 1 57 2 49 0 0 0 0 0 0 0 0 0 7 33 1 8 18 2 48 5 3 1 9 57 2 47 0 0 0 0 0 0 0 4 32 31 1 12 18 15 111 22 11 24 6 3 1 58 8 2 45 0 0 0 170 141 131 108 258 4 23 206 0 0 0 0 0 0 0 0 0 0 0 0 0 107 126 4 28 4 74 6 4 72 0 0 0 0 0 0 0 0 0 0 0 0 107 132 4 28 4 77 6 4 74 0 0 0 0 0 0 0 0 0 0 0 0 39 16 10 23 14 1 7 83 5 20 23 14 1 10 38 0 0 0 0 0 0 36 1 60 15 25 79 56 6 3 1 9 21 2 53 0 0 0 0 0 0 0 3 113 121 151 97 133 0 0 0 0 0 0 0 0 0 0 0 0 0 0 0 4 32 31 1 10 81 69 15 25 22 45 5 3 1 12 60 2 43 0 0 0 29 1 9 104 37 11 44 6 3 95 69 2 51 0 0 0 0 0 0 0 0 29 1 58 69 15 25 22 51 5 3 1 9 117 15 42 0 0 0 0 0 0 4 32 31 1 9 18 15 25 22 47 5 3 1 8 65 2 44 0 0 0 0 62 1 8 92 2 24 6 3 1 8 65 2 49 0 0 0 0 0 0 0 0 101 1 19 37 11 44 5 3 1 65 2 51 0 0 0 0 0 0 0 0 0 20 109 10 23 14 122 146 7 201 0 0 0 0 0 0 0 0 0 0 0 0 7 86 1 64 16 10 23 119 5 10 82 1 61 23 14 0 0 0 0 0 0 11 30 1 9 67 15 25 22 47 5 3 1 21 2 50 0 0 0 0 0 0 7 33 1 8 60 15 25 22 45 5 3 1 9 57 2 54 0 0 0 0 0 7 87 1 10 16 10 23 119 5 10 85 27 1 10 23 14 0 0 0 0 0 39 16 17 1 13 7 89 5 64 13 17 1 10 38 0 0 0 0 0 0 0 3 55 10 38 4 73 6 4 28 0 0 0 0 0 0 0 0 0 0 0 0 4 32 31 1 9 66 37 11 44 6 3 1 8 65 2 41 0 0 0 0 0 35 34 1 10 81 2 51 5 3 1 67 2 45 0 0 0 0 0 0 0 0 99 124 4 71 4 28 6 4 74 0 0 0 0 0 0 0 0 0 0 0 0 7 89 1 20 16 13 14 5 7 86 27 1 13 14 0 0 0 0 0 0 0 62 1 57 2 48 6 3 1 8 67 2 53 0 0 0 0 0 0 0 0 0 7 33 1 9 65 2 41 6 3 1 8 18 2 44 0 0 0 0 0 0 0 62 105 103 9 19 2 53 5 3 1 8 18 2 48 0 0 0 0 0 0 0 99 124 4 70 4 74 6 4 71 0 0 0 0 0 0 0 0 0 0 0 0 40 109 10 23 14 122 121 201 0 0 0 0 0 0 0 0 0 0 0 0 0 7 36 1 12 59 15 25 22 47 5 3 1 12 57 2 24 0 0 0 0 0 27 55 4 70 10 38 6 4 73 0 0 0 0 0 0 0 0 0 0 0 0 35 34 1 12 18 2 43 5 3 1 63 2 48 0 0 0 0 0 0 0 0 4 32 31 1 12 92 37 11 46 5 3 1 12 68 2 49 0 0 0 0 0 106 130 4 73 6 4 77 0 0 0 0 0 0 0 0 0 0 0 0 0 0 62 1 12 19 2 45 6 3 1 18 2 49 0 0 0 0 0 0 0 0 0 3 55 4 73 4 71 6 4 77 0 0 0 0 0 0 0 0 0 0 0 0 3 100 4 75 28 76 6 10 38 0 0 0 0 0 0 0 0 0 0 0 0 101 1 60 15 25 22 47 6 3 1 9 18 2 52 0 0 0 0 0 0 0 135 4 74 4 78 6 4 28 0 0 0 0 0 0 0 0 0 0 0 0 0 33 1 59 15 25 22 47 6 3 1 63 26 11 24 0 0 0 0 0 0 0 29 1 65 37 11 44 5 3 1 9 57 15 42 0 0 0 0 0 0 0 0 33 105 103 9 19 37 11 44 6 3 1 65 2 49 0 0 0 0 0 0 0 29 1 9 65 37 11 46 5 3 1 12 18 2 48 0 0 0 0 0 0 0 107 208 120 254 2 36 2 51 0 0 0 0 0 0 0 0 0 0 0 0 0 7 86 1 20 16 17 5 7 80 1 39 17 0 0 0 0 0 0 0 0 0 152 96 10 23 14 1 84 5 39 23 14 1 7 89 0 0 0 0 0 0 0 152 96 10 23 14 1 7 86 5 39 23 14 1 7 89 0 0 0 0 0 0 39 16 1 13 14 7 80 5 64 13 14 1 7 88 0 0 0 0 0 0 0 11 30 1 8 18 2 43 6 3 1 8 10 81 2 52 0 0 0 0 0 0 10 38 1 20 13 14 108 96 5 7 80 1 40 13 14 0 0 0 0 0 0 40 16 10 23 14 1 7 86 0 0 0 0 0 0 0 0 0 0 0 0 0 107 132 4 78 4 71 6 4 28 0 0 0 0 0 0 0 0 0 0 0 0 7 36 1 8 57 15 25 79 56 5 3 1 58 69 2 43 0 0 0 0 0 27 118 113 121 168 97 134 0 0 0 0 0 0 0 0 0 0 0 0 0 0 27 118 113 121 168 97 162 0 0 0 0 0 0 0 0 0 0 0 0 0 0 62 1 12 57 2 54 6 3 1 12 60 2 48 0 0 0 0 0 0 0 0 11 30 1 69 65 15 25 22 47 6 3 1 12 21 15 42 0 0 0 0 0 29 1 8 19 15 42 6 3 1 12 18 2 45 0 0 0 0 0 0 0 0 3 55 91 4 75 4 78 6 28 0 0 0 0 0 0 0 0 0 0 0 0 7 33 1 8 58 37 11 44 6 3 1 12 65 2 56 0 0 0 0 0 0 11 30 1 249 15 25 79 56 5 3 1 12 21 26 11 24 0 0 0 0 0 35 34 1 12 19 15 42 5 3 1 9 18 2 45 0 0 0 0 0 0 0 7 88 1 61 16 13 14 5 7 86 27 1 13 14 0 0 0 0 0 0 0 29 1 66 2 49 5 3 1 12 65 2 44 0 0 0 0 0 0 0 0 0 99 127 4 73 4 74 6 4 28 76 0 0 0 0 0 0 0 0 0 0 0 33 1 58 37 11 44 5 3 1 68 2 53 0 0 0 0 0 0 0 0 0 27 158 91 7 151 97 153 0 0 0 0 0 0 0 0 0 0 0 0 0 0 7 90 1 20 16 17 5 10 82 1 39 17 0 0 0 0 0 0 0 0 0 205 229 99 10 277 0 0 0 0 0 0 0 0 0 0 0 0 0 0 0 0 20 16 17 1 7 89 5 20 17 1 10 85 0 0 0 0 0 0 0 0 0 7 33 1 12 63 15 42 6 3 1 8 60 2 54 0 0 0 0 0 0 0 62 1 9 19 2 43 5 3 1 60 2 41 0 0 0 0 0 0 0 0 0 10 85 1 39 16 17 13 5 7 87 1 7 13 140 0 0 0 0 0 0 0 7 33 1 12 67 2 43 5 3 1 8 59 2 51 0 0 0 0 0 0 0 7 80 1 39 16 17 5 7 83 1 20 93 0 0 0 0 0 0 0 0 0 10 85 1 61 16 10 23 14 5 10 82 1 7 23 242 0 0 0 0 0 0 7 90 1 13 39 16 17 5 10 82 1 20 13 17 0 0 0 0 0 0 0 29 1 19 2 49 5 3 1 18 2 46 0 0 0 0 0 0 0 0 0 0 20 16 17 13 1 7 89 5 40 13 17 1 7 83 0 0 0 0 0 0 0 40 16 10 23 14 1 7 88 5 39 23 14 1 7 80 0 0 0 0 0 0 29 1 12 19 2 48 6 3 1 8 139 2 50 0 0 0 0 0 0 0 0 84 1 13 39 16 17 5 7 87 1 7 13 140 0 0 0 0 0 0 0 0 27 55 4 28 6 4 159 0 0 0 0 0 0 0 0 0 0 0 0 0 0 29 1 8 66 15 25 22 47 5 3 1 67 2 46 0 0 0 0 0 0 0 3 143 120 97 134 165 0 0 0 0 0 0 0 0 0 0 0 0 0 0 0 36 1 8 63 37 11 24 6 3 1 12 65 2 53 0 0 0 0 0 0 0 116 100 91 4 71 4 70 6 4 28 76 0 0 0 0 0 0 0 0 0 0 62 1 12 18 2 41 5 3 1 8 57 2 52 0 0 0 0 0 0 0 0 7 33 1 104 15 25 22 47 6 3 1 60 2 48 0 0 0 0 0 0 0 62 1 8 59 2 43 5 3 1 66 2 53 0 0 0 0 0 0 0 0 0 7 33 1 8 104 2 53 6 3 1 57 9 26 11 24 0 0 0 0 0 0 35 34 1 8 18 2 49 5 3 1 8 57 2 24 0 0 0 0 0 0 0 7 33 1 12 92 2 50 5 3 95 69 2 51 0 0 0 0 0 0 0 0 106 130 4 74 6 4 72 0 0 0 0 0 0 0 0 0 0 0 0 0 0 4 32 31 1 8 60 2 54 5 3 1 12 18 2 53 0 0 0 0 0 0 4 32 31 1 112 2 54 6 3 1 68 2 51 0 0 0 0 0 0 0 0 27 94 4 73 4 28 76 6 72 0 0 0 0 0 0 0 0 0 0 0 0 29 1 8 18 2 53 6 3 103 19 2 47 0 0 0 0 0 0 0 0 0 99 240 123 2 36 2 52 114 0 0 0 0 0 0 0 0 0 0 0 0 0 39 16 17 1 84 5 20 17 1 7 87 0 0 0 0 0 0 0 0 0 0 7 62 1 8 10 81 2 43 6 3 1 12 68 2 46 0 0 0 0 0 0 29 1 12 68 15 42 5 3 1 65 2 46 0 0 0 0 0 0 0 0 0 101 1 58 69 26 98 6 3 1 9 19 2 49 0 0 0 0 0 0 0 0 20 109 10 23 156 122 10 221 0 0 0 0 0 0 0 0 0 0 0 0 0 27 94 115 110 182 169 0 0 0 0 0 0 0 0 0 0 0 0 0 0 0 7 62 1 9 58 15 42 5 3 1 8 66 2 41 0 0 0 0 0 0 0 35 34 1 9 10 81 37 11 44 5 3 1 112 2 47 0 0 0 0 0 0 7 87 1 61 16 13 14 5 10 82 1 40 13 14 0 0 0 0 0 0 0 35 34 1 10 81 37 11 24 6 3 1 63 2 46 0 0 0 0 0 0 0 62 1 63 15 25 79 56 6 3 1 12 21 2 50 0 0 0 0 0 0 0 135 4 73 4 159 6 4 71 0 0 0 0 0 0 0 0 0 0 0 0 0 11 30 1 10 81 69 2 50 6 3 1 9 57 2 56 0 0 0 0 0 0 7 87 1 7 13 14 108 96 5 7 90 1 40 13 14 0 0 0 0 0 0 116 100 91 4 75 4 78 6 28 0 0 0 0 0 0 0 0 0 0 0 0 27 55 4 77 4 71 6 4 78 0 0 0 0 0 0 0 0 0 0 0 0 106 128 91 4 77 4 78 6 4 74 0 0 0 0 0 0 0 0 0 0 0 7 33 1 8 18 15 42 6 3 1 59 2 54 0 0 0 0 0 0 0 0 35 34 1 8 66 2 54 5 3 1 12 18 2 51 0 0 0 0 0 0 0 7 86 1 61 16 17 13 5 7 87 1 64 13 140 0 0 0 0 0 0 0 20 16 17 1 13 10 82 5 40 13 17 1 10 38 0 0 0 0 0 0 0 4 32 31 1 8 66 2 48 6 3 1 12 21 2 41 0 0 0 0 0 0 62 1 8 21 2 45 6 3 103 19 2 53 0 0 0 0 0 0 0 0 0 3 158 91 144 110 166 154 0 0 0 0 0 0 0 0 0 0 0 0 0 0 3 178 22 136 29 15 42 0 0 0 0 0 0 0 0 0 0 0 0 0 0 10 82 1 40 16 10 23 14 5 7 87 1 7 23 242 0 0 0 0 0 0 40 16 17 1 13 7 88 5 64 13 17 1 7 80 0 0 0 0 0 0 0 62 1 9 104 26 98 6 3 1 19 2 44 0 0 0 0 0 0 0 0 0 29 1 12 63 2 45 6 3 1 8 21 2 52 0 0 0 0 0 0 0 0 152 96 10 23 14 1 10 38 5 40 23 14 1 84 0 0 0 0 0 0 0 39 109 17 1 13 10 221 0 0 0 0 0 0 0 0 0 0 0 0 0 0 7 87 1 10 16 10 23 14 64 5 10 82 1 39 23 14 0 0 0 0 0 4 32 31 1 8 66 2 49 6 3 1 12 68 2 51 0 0 0 0 0 0 11 30 1 12 19 37 11 24 6 3 1 9 65 2 54 0 0 0 0 0 0 62 1 66 2 50 6 3 1 9 57 2 45 0 0 0 0 0 0 0 0 0 4 32 31 1 67 26 98 6 3 1 12 18 2 43 0 0 0 0 0 0 0 27 55 10 184 110 133 0 0 0 0 0 0 0 0 0 0 0 0 0 0 0 7 33 1 12 67 2 49 5 3 1 65 2 46 0 0 0 0 0 0 0 0 7 87 1 40 13 14 108 96 5 84 27 1 13 14 0 0 0 0 0 0 0 20 16 1 13 14 10 85 5 39 13 14 1 10 38 0 0 0 0 0 0 0 3 94 4 28 4 74 6 4 70 0 0 0 0 0 0 0 0 0 0 0 0 27 1 234 2 48 142 2 62 0 0 0 0 0 0 0 0 0 0 0 0 0 7 33 1 8 59 2 52 5 3 1 9 117 2 41 0 0 0 0 0 0 0 35 34 1 10 81 69 15 25 22 51 6 3 1 9 68 2 56 0 0 0 0 11 30 1 12 60 2 50 6 3 1 57 2 43 0 0 0 0 0 0 0 0 11 30 1 9 26 63 15 42 5 3 1 19 2 43 0 0 0 0 0 0 0 61 16 17 1 7 83 5 20 17 1 10 38 0 0 0 0 0 0 0 0 0 152 96 10 23 14 1 10 85 5 64 23 14 1 7 90 0 0 0 0 0 0 101 1 12 59 2 51 5 3 1 18 2 49 0 0 0 0 0 0 0 0 0 29 1 66 15 42 5 3 1 58 2 45 0 0 0 0 0 0 0 0 0 0 101 1 9 60 2 43 5 9 22 102 26 11 24 0 0 0 0 0 0 0 0 7 33 1 12 59 2 51 6 3 1 9 104 26 11 24 0 0 0 0 0 0 29 1 21 26 98 6 3 1 8 67 2 48 0 0 0 0 0 0 0 0 0 7 33 1 8 18 2 46 6 3 1 8 60 2 50 0 0 0 0 0 0 0 29 1 9 22 102 2 52 6 3 1 8 68 15 42 0 0 0 0 0 0 0 64 16 17 1 7 90 5 39 17 1 10 82 0 0 0 0 0 0 0 0 0 27 55 4 77 4 71 6 4 72 0 0 0 0 0 0 0 0 0 0 0 0 3 55 91 6 28 76 298 0 0 0 0 0 0 0 0 0 0 0 0 0 0 35 34 1 9 60 2 54 5 3 1 9 117 2 49 0 0 0 0 0 0 0 29 1 12 65 2 45 6 3 1 12 57 26 11 24 0 0 0 0 0 0 0 4 32 31 1 65 2 51 6 3 1 8 58 2 41 0 0 0 0 0 0 0 7 33 1 12 19 2 50 6 3 1 12 57 2 24 0 0 0 0 0 0 0 3 158 91 121 97 134 154 0 0 0 0 0 0 0 0 0 0 0 0 0 0 4 32 31 1 9 63 2 48 6 3 1 12 60 2 49 0 0 0 0 0 0 10 85 1 39 16 13 14 5 7 80 27 1 13 14 0 0 0 0 0 0 0 20 109 10 23 14 122 146 218 0 0 0 0 0 0 0 0 0 0 0 0 0 4 32 31 1 9 21 15 25 22 51 6 3 1 12 57 2 56 0 0 0 0 3 94 4 28 28 76 6 4 75 0 0 0 0 0 0 0 0 0 0 0 0 64 16 17 1 7 86 0 0 0 0 0 0 0 0 0 0 0 0 0 0 0 10 82 1 20 16 17 13 5 10 85 1 40 17 13 0 0 0 0 0 0 0 7 62 1 9 10 81 15 42 5 3 157 26 11 24 0 0 0 0 0 0 0 106 130 4 74 4 72 6 4 73 0 0 0 0 0 0 0 0 0 0 0 0 29 1 8 19 2 51 5 9 108 177 2 50 0 0 0 0 0 0 0 0 0 29 1 8 21 15 25 22 51 5 3 1 19 26 11 24 0 0 0 0 0 0 4 32 31 1 18 15 25 22 47 6 3 1 57 2 51 0 0 0 0 0 0 135 4 74 4 71 6 4 72 0 0 0 0 0 0 0 0 0 0 0 0 0 35 34 1 8 66 2 52 5 3 1 57 2 45 0 0 0 0 0 0 0 0 20 16 10 23 14 1 10 85 5 64 23 14 1 84 0 0 0 0 0 0 0 7 33 1 8 21 37 11 24 5 3 1 9 21 2 50 0 0 0 0 0 0 33 1 59 2 51 6 3 1 9 21 2 53 0 0 0 0 0 0 0 0 0 29 1 10 81 69 2 41 6 3 1 8 19 2 56 0 0 0 0 0 0 0 35 34 1 18 26 98 5 3 1 9 18 2 48 0 0 0 0 0 0 0 0 33 1 63 2 48 5 3 1 112 15 25 79 56 0 0 0 0 0 0 0 0 10 85 1 61 16 10 23 119 5 10 38 1 10 23 14 0 0 0 0 0 0 99 127 38 28 76 6 4 28 0 0 0 0 0 0 0 0 0 0 0 0 0 29 1 67 37 11 46 5 3 1 8 21 26 11 24 0 0 0 0 0 0 0 29 1 8 63 37 11 24 5 3 1 12 60 15 42 0 0 0 0 0 0 0 7 36 1 58 69 37 11 44 5 3 1 8 63 26 11 24 0 0 0 0 0 152 96 10 23 14 1 84 5 39 23 14 1 7 83 0 0 0 0 0 0 0 27 55 4 73 4 72 6 4 74 0 0 0 0 0 0 0 0 0 0 0 0 29 1 9 59 26 98 5 3 1 9 19 2 48 0 0 0 0 0 0 0 0 40 16 17 1 7 86 5 20 93 1 7 88 0 0 0 0 0 0 0 0 0 29 1 9 65 2 49 6 3 1 8 137 2 48 0 0 0 0 0 0 0 0 64 16 17 1 13 7 80 5 20 13 17 1 7 89 0 0 0 0 0 0 0 4 32 31 1 19 37 11 24 5 3 1 12 57 2 45 0 0 0 0 0 0 3 160 171 1 198 22 164 189 250 11 185 0 0 0 0 0 0 0 0 0 0 11 30 1 10 81 69 37 11 46 6 3 1 63 2 43 0 0 0 0 0 0 7 33 1 9 68 2 54 5 3 1 19 2 46 0 0 0 0 0 0 0 0 235 294 116 26 29 0 0 0 0 0 0 0 0 0 0 0 0 0 0 0 0 7 33 1 12 68 15 25 22 51 5 3 95 2 48 0 0 0 0 0 0 0 27 160 146 303 197 22 164 189 15 186 0 0 0 0 0 0 0 0 0 0 0 99 124 4 77 4 74 6 4 78 0 0 0 0 0 0 0 0 0 0 0 0 29 1 8 92 2 54 5 3 1 8 65 26 11 24 0 0 0 0 0 0 0 62 1 65 2 51 6 3 1 58 69 2 50 0 0 0 0 0 0 0 0 0 11 30 1 9 104 26 98 6 3 1 9 66 2 51 0 0 0 0 0 0 0 101 1 9 59 37 11 46 6 3 157 2 52 0 0 0 0 0 0 0 0 0 7 36 1 10 81 69 37 11 46 5 3 1 58 2 49 0 0 0 0 0 0 61 13 14 16 1 7 86 5 39 13 14 1 7 89 0 0 0 0 0 0 0 11 30 1 9 60 2 48 6 3 95 9 2 44 0 0 0 0 0 0 0 0 11 30 1 8 137 15 25 79 56 6 3 1 12 21 2 49 0 0 0 0 0 36 1 9 58 37 11 44 6 3 1 63 26 11 24 0 0 0 0 0 0 0 10 38 1 64 16 13 14 5 7 90 27 1 13 14 0 0 0 0 0 0 0 33 1 67 15 42 5 3 1 12 19 2 54 0 0 0 0 0 0 0 0 0 10 38 1 20 16 10 23 14 5 7 90 27 1 10 23 14 0 0 0 0 0 27 55 10 38 4 78 6 4 28 0 0 0 0 0 0 0 0 0 0 0 0 27 145 120 151 97 150 0 0 0 0 0 0 0 0 0 0 0 0 0 0 0 3 55 4 70 4 77 6 10 38 0 0 0 0 0 0 0 0 0 0 0 0 11 30 1 8 18 2 45 6 3 1 9 63 2 50 0 0 0 0 0 0 0 129 96 10 23 14 1 10 38 5 40 23 14 1 7 90 0 0 0 0 0 0 61 16 17 1 13 10 85 5 64 13 93 1 7 90 0 0 0 0 0 0 0 36 1 21 15 25 22 45 6 3 1 9 57 2 49 0 0 0 0 0 0 0 29 1 8 92 2 50 5 3 1 12 68 2 48 0 0 0 0 0 0 0 0 20 16 17 13 1 7 90 5 39 17 13 1 7 80 0 0 0 0 0 0 0 27 55 4 70 4 78 6 4 28 0 0 0 0 0 0 0 0 0 0 0 0 35 34 1 9 117 2 52 5 3 1 59 15 42 0 0 0 0 0 0 0 0 36 1 21 15 25 22 45 5 3 1 9 21 2 43 0 0 0 0 0 0 0 7 33 1 9 58 37 11 44 5 3 1 12 18 2 54 0 0 0 0 0 0 40 16 17 1 10 85 5 64 93 1 7 80 0 0 0 0 0 0 0 0 0 4 32 31 1 9 21 2 52 5 3 1 65 2 44 0 0 0 0 0 0 0 152 96 10 23 14 1 10 85 5 39 23 14 1 7 86 0 0 0 0 0 0 27 94 4 70 6 4 78 0 0 0 0 0 0 0 0 0 0 0 0 0 0 35 34 1 12 67 2 48 5 3 1 18 15 42 0 0 0 0 0 0 0 0 7 86 1 20 13 14 108 96 5 7 90 1 64 13 14 0 0 0 0 0 0 11 30 1 8 57 15 25 22 45 5 3 1 9 125 2 52 0 0 0 0 0 4 257 131 170 141 4 13 175 0 0 0 0 0 0 0 0 0 0 0 0 0 7 90 1 39 13 14 108 96 5 7 83 1 20 13 14 0 0 0 0 0 0 10 85 1 7 13 14 108 96 5 7 90 1 40 13 14 0 0 0 0 0 0 4 32 31 1 58 8 2 53 6 3 1 12 67 2 52 0 0 0 0 0 0 7 33 1 12 18 15 42 6 3 1 12 92 26 11 24 0 0 0 0 0 0 116 160 146 7 194 161 10 187 6 10 186 1 196 0 0 0 0 0 0 0 0 99 127 4 71 28 76 6 4 77 0 0 0 0 0 0 0 0 0 0 0 0 115 217 122 40 109 10 23 14 0 0 0 0 0 0 0 0 0 0 0 0 0 27 94 10 110 133 169 0 0 0 0 0 0 0 0 0 0 0 0 0 0 0 36 1 9 10 81 37 11 44 6 3 1 69 21 2 51 0 0 0 0 0 0 20 16 17 1 7 89 0 0 0 0 0 0 0 0 0 0 0 0 0 0 0 10 82 1 39 16 17 13 5 7 89 1 61 13 17 0 0 0 0 0 0 0 29 1 8 18 2 49 5 3 1 8 65 2 53 0 0 0 0 0 0 0 0 29 1 12 65 2 52 5 3 1 12 19 2 47 0 0 0 0 0 0 0 0 20 16 17 1 7 87 5 40 93 1 7 89 0 0 0 0 0 0 0 0 0 61 16 17 1 7 90 5 20 17 1 7 80 0 0 0 0 0 0 0 0 0 36 1 8 67 2 49 5 3 1 12 60 15 42 0 0 0 0 0 0 0 0 7 33 1 60 2 53 5 3 1 8 19 2 43 0 0 0 0 0 0 0 0 29 1 9 10 81 2 53 6 3 1 8 18 2 48 0 0 0 0 0 0 0 35 34 1 9 63 2 52 6 3 1 9 68 2 53 0 0 0 0 0 0 0 27 55 120 147 97 162 0 0 0 0 0 0 0 0 0 0 0 0 0 0 0 3 100 4 72 4 74 6 4 28 76 0 0 0 0 0 0 0 0 0 0 0 4 32 31 1 249 26 98 5 3 1 8 66 2 47 0 0 0 0 0 0 0 11 30 1 249 15 25 22 48 5 3 1 12 63 26 11 24 0 0 0 0 0 7 80 1 20 16 17 13 5 7 89 1 39 17 13 0 0 0 0 0 0 0 36 1 9 22 225 26 98 6 3 1 8 21 15 42 0 0 0 0 0 0 0 29 1 63 37 11 46 6 3 1 21 26 11 24 0 0 0 0 0 0 0 0 20 16 17 1 13 10 82 5 20 13 17 1 7 83 0 0 0 0 0 0 0 11 30 1 69 65 15 25 22 47 6 3 1 9 60 2 53 0 0 0 0 0 29 1 8 57 2 53 5 3 1 9 26 63 2 54 0 0 0 0 0 0 0 27 94 4 28 28 76 6 4 77 0 0 0 0 0 0 0 0 0 0 0 0 3 55 4 28 4 71 6 4 75 0 0 0 0 0 0 0 0 0 0 0 0 11 30 1 9 67 37 11 46 5 3 1 8 57 2 54 0 0 0 0 0 0 4 32 31 1 12 59 26 98 5 3 1 8 67 2 54 0 0 0 0 0 0 62 1 8 63 2 50 6 3 1 9 18 15 42 0 0 0 0 0 0 0 0 27 55 91 28 76 4 75 6 4 78 0 0 0 0 0 0 0 0 0 0 0 35 34 1 57 2 54 6 3 1 9 22 102 2 53 0 0 0 0 0 0 0 4 32 31 105 131 9 190 2 49 6 3 1 9 19 2 44 0 0 0 0 0 99 124 4 28 4 78 6 4 70 0 0 0 0 0 0 0 0 0 0 0 0 3 55 91 120 168 97 150 0 0 0 0 0 0 0 0 0 0 0 0 0 0 62 1 8 68 2 41 5 3 1 8 65 2 51 0 0 0 0 0 0 0 0 27 94 4 28 38 6 4 70 0 0 0 0 0 0 0 0 0 0 0 0 0 27 94 4 78 4 72 6 10 38 0 0 0 0 0 0 0 0 0 0 0 0 29 1 9 21 15 25 22 51 6 3 1 57 9 2 44 0 0 0 0 0 0 35 34 1 104 2 48 6 3 1 65 2 52 0 0 0 0 0 0 0 0 0 7 87 1 40 16 10 23 14 5 10 85 27 1 10 23 14 0 0 0 0 0 39 13 14 108 96 1 7 87 5 61 13 14 1 7 90 0 0 0 0 0 0 27 55 7 168 97 155 0 0 0 0 0 0 0 0 0 0 0 0 0 0 0 20 16 1 13 14 10 82 5 27 1 13 14 7 86 0 0 0 0 0 0 0 101 1 9 60 2 53 5 3 1 9 19 15 42 0 0 0 0 0 0 0 0 35 34 1 12 57 2 41 5 3 1 8 58 2 53 0 0 0 0 0 0 0 4 32 31 1 12 18 26 98 6 3 1 8 10 81 2 48 0 0 0 0 0 7 89 1 64 16 17 5 10 38 1 40 93 0 0 0 0 0 0 0 0 0 106 130 10 38 6 4 74 0 0 0 0 0 0 0 0 0 0 0 0 0 0 27 180 173 32 31 2 43 114 0 0 0 0 0 0 0 0 0 0 0 0 0 205 131 99 91 123 2 33 0 0 0 0 0 0 0 0 0 0 0 0 0 0 35 34 1 8 65 2 53 5 3 1 67 15 42 0 0 0 0 0 0 0 0 7 36 1 8 19 37 11 44 5 3 1 9 57 2 51 0 0 0 0 0 0 101 1 60 15 25 22 45 5 3 1 8 65 15 42 0 0 0 0 0 0 0 29 1 8 65 37 11 44 6 3 1 9 21 26 11 24 0 0 0 0 0 0 33 1 66 37 11 44 6 3 1 9 63 2 48 0 0 0 0 0 0 0 0 29 1 8 18 2 45 6 3 1 67 2 52 0 0 0 0 0 0 0 0 0 20 16 17 13 1 7 80 5 20 13 17 1 10 82 0 0 0 0 0 0 0 255 122 40 254 26 29 2 51 142 0 0 0 0 0 0 0 0 0 0 0 0 101 1 8 67 15 25 22 47 5 3 1 12 18 2 45 0 0 0 0 0 0 29 1 12 19 15 111 285 42 6 3 1 8 21 2 48 0 0 0 0 0 0 11 30 1 9 66 37 11 44 6 3 1 12 57 2 51 0 0 0 0 0 0 7 33 1 8 63 37 11 24 6 3 1 8 10 81 2 52 0 0 0 0 0 27 143 120 148 97 150 0 0 0 0 0 0 0 0 0 0 0 0 0 0 0 36 1 9 66 15 25 22 51 5 3 1 12 92 26 11 24 0 0 0 0 0 20 16 17 13 1 7 80 5 39 17 13 1 7 87 0 0 0 0 0 0 0 27 94 4 71 4 73 6 4 77 0 0 0 0 0 0 0 0 0 0 0 0 116 100 91 4 77 10 38 6 4 70 0 0 0 0 0 0 0 0 0 0 0 7 33 1 8 92 26 98 6 3 1 8 10 81 2 50 0 0 0 0 0 0 3 94 4 71 4 78 6 4 70 0 0 0 0 0 0 0 0 0 0 0 0 35 34 1 12 18 2 24 5 3 1 58 69 2 46 0 0 0 0 0 0 0 35 34 1 19 15 25 22 47 6 3 1 9 58 2 54 0 0 0 0 0 0 4 32 31 1 58 8 2 50 5 3 1 9 60 26 11 24 0 0 0 0 0 3 143 115 184 110 182 0 0 0 0 0 0 0 0 0 0 0 0 0 0 0 106 130 4 70 4 77 6 4 28 0 0 0 0 0 0 0 0 0 0 0 0 11 30 1 9 117 2 53 6 3 1 8 19 2 43 0 0 0 0 0 0 0 62 1 63 37 11 46 5 3 1 9 18 2 49 0 0 0 0 0 0 0 0 3 94 4 28 4 74 6 4 72 0 0 0 0 0 0 0 0 0 0 0 0 106 128 91 4 72 4 73 6 10 38 0 0 0 0 0 0 0 0 0 0 0 4 32 31 1 12 63 37 11 24 5 3 1 12 18 2 51 0 0 0 0 0 84 1 64 16 17 5 7 83 1 39 17 0 0 0 0 0 0 0 0 0 0 7 80 1 20 16 17 13 5 7 90 1 64 13 140 0 0 0 0 0 0 0 11 30 1 9 7 102 2 50 5 3 1 8 19 2 46 0 0 0 0 0 0 7 86 1 64 16 17 13 5 7 89 1 40 17 13 0 0 0 0 0 0 0 27 55 4 71 4 73 6 4 74 0 0 0 0 0 0 0 0 0 0 0 0 3 55 91 10 200 110 176 0 0 0 0 0 0 0 0 0 0 0 0 0 0 4 32 31 1 12 66 2 49 6 3 1 9 68 2 45 0 0 0 0 0 0 36 1 9 60 2 45 6 3 1 18 2 46 0 0 0 0 0 0 0 0 0 10 82 1 40 16 10 23 14 5 7 87 1 64 23 14 0 0 0 0 0 0 10 82 1 39 13 14 108 96 5 10 38 1 20 13 14 0 0 0 0 0 0 29 1 12 18 15 25 79 56 6 3 1 12 18 2 45 0 0 0 0 0 0 106 130 10 38 4 73 6 4 74 0 0 0 0 0 0 0 0 0 0 0 0 11 30 1 58 2 24 6 3 1 9 66 2 56 0 0 0 0 0 0 0 0 99 124 4 73 10 38 6 4 70 0 0 0 0 0 0 0 0 0 0 0 0 7 83 1 7 13 14 108 96 5 7 80 1 39 13 14 0 0 0 0 0 0 35 34 1 9 63 15 111 22 11 24 5 3 1 8 66 2 46 0 0 0 0 29 1 8 18 2 50 6 3 1 60 2 54 0 0 0 0 0 0 0 0 0 11 30 1 12 57 2 45 6 3 1 8 67 2 48 0 0 0 0 0 0 0 20 16 10 23 14 1 10 85 5 64 23 14 1 84 0 0 0 0 0 0 0 35 34 1 8 18 2 46 5 3 1 12 19 2 45 0 0 0 0 0 0 0 7 80 1 39 13 14 108 96 5 7 88 1 64 13 14 0 0 0 0 0 0 7 33 1 9 104 26 98 6 3 1 69 21 2 50 0 0 0 0 0 0 0 11 30 1 8 18 2 51 6 3 1 8 60 2 56 0 0 0 0 0 0 0 3 143 121 147 97 153 0 0 0 0 0 0 0 0 0 0 0 0 0 0 0 3 100 4 74 4 72 6 10 38 0 0 0 0 0 0 0 0 0 0 0 0 11 30 1 12 19 2 53 5 3 1 9 125 2 41 0 0 0 0 0 0 0 7 86 1 61 16 17 5 7 83 1 39 17 0 0 0 0 0 0 0 0 0 61 16 17 1 7 90 5 39 17 1 84 0 0 0 0 0 0 0 0 0 0 36 1 8 18 2 52 5 3 1 9 63 2 51 0 0 0 0 0 0 0 0 7 33 1 8 137 2 52 5 3 1 19 15 42 0 0 0 0 0 0 0 0 3 55 4 74 4 77 6 4 70 0 0 0 0 0 0 0 0 0 0 0 0 4 32 31 1 8 19 37 11 24 5 3 1 8 18 26 11 24 0 0 0 0 3 145 120 97 134 174 0 0 0 0 0 0 0 0 0 0 0 0 0 0 0 7 36 1 58 12 15 25 22 47 5 3 1 12 59 2 56 0 0 0 0 0 35 34 1 8 19 15 25 79 56 5 3 1 18 2 54 0 0 0 0 0 0 27 94 4 28 4 74 6 4 73 0 0 0 0 0 0 0 0 0 0 0 0 7 89 1 20 16 17 5 10 85 1 61 17 0 0 0 0 0 0 0 0 0 39 16 10 23 14 1 10 82 5 40 23 14 1 7 90 0 0 0 0 0 0 38 131 191 96 4 23 206 0 0 0 0 0 0 0 0 0 0 0 0 0 0 27 247 121 147 97 153 0 0 0 0 0 0 0 0 0 0 0 0 0 0 0 4 32 31 1 8 104 15 111 22 11 24 6 3 95 9 2 46 0 0 0 0 27 94 4 75 4 74 6 4 78 0 0 0 0 0 0 0 0 0 0 0 0 62 1 21 2 49 6 3 1 8 67 2 46 0 0 0 0 0 0 0 0 0 36 1 8 66 2 48 5 9 22 102 2 56 0 0 0 0 0 0 0 0 0 35 34 1 12 92 2 50 6 3 95 69 15 42 0 0 0 0 0 0 0 0 39 16 17 1 7 86 5 20 93 1 84 0 0 0 0 0 0 0 0 0 0 11 30 1 9 104 37 11 44 6 3 1 12 60 2 50 0 0 0 0 0 0 27 55 4 74 4 73 6 4 72 0 0 0 0 0 0 0 0 0 0 0 0 4 32 31 1 60 15 25 22 47 6 3 1 8 65 2 45 0 0 0 0 0 36 1 9 22 102 2 45 6 3 1 9 68 26 11 24 0 0 0 0 0 0 27 55 4 77 6 4 74 0 0 0 0 0 0 0 0 0 0 0 0 0 0 3 55 4 78 4 74 6 4 71 0 0 0 0 0 0 0 0 0 0 0 0 3 55 4 77 4 75 6 4 28 76 0 0 0 0 0 0 0 0 0 0 0 7 36 1 8 10 81 37 11 24 5 3 1 8 68 15 42 0 0 0 0 0 11 30 1 67 2 52 5 3 1 8 19 2 49 0 0 0 0 0 0 0 0 35 34 1 9 58 2 49 6 3 1 65 2 52 0 0 0 0 0 0 0 0 129 96 10 23 14 1 10 82 5 39 23 14 1 7 83 0 0 0 0 0 0 4 32 31 1 58 15 25 22 48 5 3 1 12 65 2 46 0 0 0 0 0 20 16 17 13 1 7 90 5 61 13 17 1 84 0 0 0 0 0 0 0 0 106 128 91 4 78 4 70 6 10 38 0 0 0 0 0 0 0 0 0 0 0 84 1 40 16 13 14 5 7 86 27 1 13 14 0 0 0 0 0 0 0 0 3 100 4 73 4 159 6 4 75 0 0 0 0 0 0 0 0 0 0 0 0 3 1 198 22 164 2 186 187 0 0 0 0 0 0 0 0 0 0 0 0 0 4 32 31 1 9 22 102 15 25 22 47 5 3 1 8 66 15 42 0 0 0\n\t [[{{node loss_10/time_distributed_22_loss/sparse_categorical_crossentropy/SparseSoftmaxCrossEntropyWithLogits/SparseSoftmaxCrossEntropyWithLogits}}]]",
     "output_type": "error",
     "traceback": [
      "\u001b[0;31m---------------------------------------------------------------------------\u001b[0m",
      "\u001b[0;31mInvalidArgumentError\u001b[0m                      Traceback (most recent call last)",
      "\u001b[0;32m<ipython-input-36-946c09339cb0>\u001b[0m in \u001b[0;36m<module>\u001b[0;34m()\u001b[0m\n\u001b[1;32m     46\u001b[0m \u001b[0mprint\u001b[0m\u001b[0;34m(\u001b[0m\u001b[0msimple_rnn_model\u001b[0m\u001b[0;34m.\u001b[0m\u001b[0msummary\u001b[0m\u001b[0;34m(\u001b[0m\u001b[0;34m)\u001b[0m\u001b[0;34m)\u001b[0m\u001b[0;34m\u001b[0m\u001b[0;34m\u001b[0m\u001b[0m\n\u001b[1;32m     47\u001b[0m \u001b[0;34m\u001b[0m\u001b[0m\n\u001b[0;32m---> 48\u001b[0;31m \u001b[0msimple_rnn_model\u001b[0m\u001b[0;34m.\u001b[0m\u001b[0mfit\u001b[0m\u001b[0;34m(\u001b[0m\u001b[0mtmp_x\u001b[0m\u001b[0;34m,\u001b[0m \u001b[0mpreproc_french_sentences\u001b[0m\u001b[0;34m,\u001b[0m \u001b[0mbatch_size\u001b[0m\u001b[0;34m=\u001b[0m\u001b[0;36m1024\u001b[0m\u001b[0;34m,\u001b[0m \u001b[0mepochs\u001b[0m\u001b[0;34m=\u001b[0m\u001b[0;36m10\u001b[0m\u001b[0;34m,\u001b[0m \u001b[0mvalidation_split\u001b[0m\u001b[0;34m=\u001b[0m\u001b[0;36m0.2\u001b[0m\u001b[0;34m)\u001b[0m\u001b[0;34m\u001b[0m\u001b[0;34m\u001b[0m\u001b[0m\n\u001b[0m\u001b[1;32m     49\u001b[0m \u001b[0;34m\u001b[0m\u001b[0m\n\u001b[1;32m     50\u001b[0m \u001b[0;31m# Print prediction(s)\u001b[0m\u001b[0;34m\u001b[0m\u001b[0;34m\u001b[0m\u001b[0;34m\u001b[0m\u001b[0m\n",
      "\u001b[0;32m/home/buckaroo/.local/lib/python3.7/site-packages/keras/engine/training.py\u001b[0m in \u001b[0;36mfit\u001b[0;34m(self, x, y, batch_size, epochs, verbose, callbacks, validation_split, validation_data, shuffle, class_weight, sample_weight, initial_epoch, steps_per_epoch, validation_steps, validation_freq, max_queue_size, workers, use_multiprocessing, **kwargs)\u001b[0m\n\u001b[1;32m   1237\u001b[0m                                         \u001b[0msteps_per_epoch\u001b[0m\u001b[0;34m=\u001b[0m\u001b[0msteps_per_epoch\u001b[0m\u001b[0;34m,\u001b[0m\u001b[0;34m\u001b[0m\u001b[0;34m\u001b[0m\u001b[0m\n\u001b[1;32m   1238\u001b[0m                                         \u001b[0mvalidation_steps\u001b[0m\u001b[0;34m=\u001b[0m\u001b[0mvalidation_steps\u001b[0m\u001b[0;34m,\u001b[0m\u001b[0;34m\u001b[0m\u001b[0;34m\u001b[0m\u001b[0m\n\u001b[0;32m-> 1239\u001b[0;31m                                         validation_freq=validation_freq)\n\u001b[0m\u001b[1;32m   1240\u001b[0m \u001b[0;34m\u001b[0m\u001b[0m\n\u001b[1;32m   1241\u001b[0m     def evaluate(self,\n",
      "\u001b[0;32m/home/buckaroo/.local/lib/python3.7/site-packages/keras/engine/training_arrays.py\u001b[0m in \u001b[0;36mfit_loop\u001b[0;34m(model, fit_function, fit_inputs, out_labels, batch_size, epochs, verbose, callbacks, val_function, val_inputs, shuffle, initial_epoch, steps_per_epoch, validation_steps, validation_freq)\u001b[0m\n\u001b[1;32m    208\u001b[0m                                          \u001b[0mbatch_size\u001b[0m\u001b[0;34m=\u001b[0m\u001b[0mbatch_size\u001b[0m\u001b[0;34m,\u001b[0m\u001b[0;34m\u001b[0m\u001b[0;34m\u001b[0m\u001b[0m\n\u001b[1;32m    209\u001b[0m                                          \u001b[0mcallbacks\u001b[0m\u001b[0;34m=\u001b[0m\u001b[0mcallbacks\u001b[0m\u001b[0;34m,\u001b[0m\u001b[0;34m\u001b[0m\u001b[0;34m\u001b[0m\u001b[0m\n\u001b[0;32m--> 210\u001b[0;31m                                          verbose=0)\n\u001b[0m\u001b[1;32m    211\u001b[0m                     \u001b[0mval_outs\u001b[0m \u001b[0;34m=\u001b[0m \u001b[0mto_list\u001b[0m\u001b[0;34m(\u001b[0m\u001b[0mval_outs\u001b[0m\u001b[0;34m)\u001b[0m\u001b[0;34m\u001b[0m\u001b[0;34m\u001b[0m\u001b[0m\n\u001b[1;32m    212\u001b[0m                     \u001b[0;31m# Same labels assumed.\u001b[0m\u001b[0;34m\u001b[0m\u001b[0;34m\u001b[0m\u001b[0;34m\u001b[0m\u001b[0m\n",
      "\u001b[0;32m/home/buckaroo/.local/lib/python3.7/site-packages/keras/engine/training_arrays.py\u001b[0m in \u001b[0;36mtest_loop\u001b[0;34m(model, f, ins, batch_size, verbose, steps, callbacks)\u001b[0m\n\u001b[1;32m    447\u001b[0m             \u001b[0mbatch_logs\u001b[0m \u001b[0;34m=\u001b[0m \u001b[0;34m{\u001b[0m\u001b[0;34m'batch'\u001b[0m\u001b[0;34m:\u001b[0m \u001b[0mbatch_index\u001b[0m\u001b[0;34m,\u001b[0m \u001b[0;34m'size'\u001b[0m\u001b[0;34m:\u001b[0m \u001b[0mlen\u001b[0m\u001b[0;34m(\u001b[0m\u001b[0mbatch_ids\u001b[0m\u001b[0;34m)\u001b[0m\u001b[0;34m}\u001b[0m\u001b[0;34m\u001b[0m\u001b[0;34m\u001b[0m\u001b[0m\n\u001b[1;32m    448\u001b[0m             \u001b[0mcallbacks\u001b[0m\u001b[0;34m.\u001b[0m\u001b[0m_call_batch_hook\u001b[0m\u001b[0;34m(\u001b[0m\u001b[0;34m'test'\u001b[0m\u001b[0;34m,\u001b[0m \u001b[0;34m'begin'\u001b[0m\u001b[0;34m,\u001b[0m \u001b[0mbatch_index\u001b[0m\u001b[0;34m,\u001b[0m \u001b[0mbatch_logs\u001b[0m\u001b[0;34m)\u001b[0m\u001b[0;34m\u001b[0m\u001b[0;34m\u001b[0m\u001b[0m\n\u001b[0;32m--> 449\u001b[0;31m             \u001b[0mbatch_outs\u001b[0m \u001b[0;34m=\u001b[0m \u001b[0mf\u001b[0m\u001b[0;34m(\u001b[0m\u001b[0mins_batch\u001b[0m\u001b[0;34m)\u001b[0m\u001b[0;34m\u001b[0m\u001b[0;34m\u001b[0m\u001b[0m\n\u001b[0m\u001b[1;32m    450\u001b[0m             \u001b[0;32mif\u001b[0m \u001b[0misinstance\u001b[0m\u001b[0;34m(\u001b[0m\u001b[0mbatch_outs\u001b[0m\u001b[0;34m,\u001b[0m \u001b[0mlist\u001b[0m\u001b[0;34m)\u001b[0m\u001b[0;34m:\u001b[0m\u001b[0;34m\u001b[0m\u001b[0;34m\u001b[0m\u001b[0m\n\u001b[1;32m    451\u001b[0m                 \u001b[0;32mif\u001b[0m \u001b[0mbatch_index\u001b[0m \u001b[0;34m==\u001b[0m \u001b[0;36m0\u001b[0m\u001b[0;34m:\u001b[0m\u001b[0;34m\u001b[0m\u001b[0;34m\u001b[0m\u001b[0m\n",
      "\u001b[0;32m/home/buckaroo/.local/lib/python3.7/site-packages/tensorflow/python/keras/backend.py\u001b[0m in \u001b[0;36m__call__\u001b[0;34m(self, inputs)\u001b[0m\n\u001b[1;32m   3290\u001b[0m \u001b[0;34m\u001b[0m\u001b[0m\n\u001b[1;32m   3291\u001b[0m     fetched = self._callable_fn(*array_vals,\n\u001b[0;32m-> 3292\u001b[0;31m                                 run_metadata=self.run_metadata)\n\u001b[0m\u001b[1;32m   3293\u001b[0m     \u001b[0mself\u001b[0m\u001b[0;34m.\u001b[0m\u001b[0m_call_fetch_callbacks\u001b[0m\u001b[0;34m(\u001b[0m\u001b[0mfetched\u001b[0m\u001b[0;34m[\u001b[0m\u001b[0;34m-\u001b[0m\u001b[0mlen\u001b[0m\u001b[0;34m(\u001b[0m\u001b[0mself\u001b[0m\u001b[0;34m.\u001b[0m\u001b[0m_fetches\u001b[0m\u001b[0;34m)\u001b[0m\u001b[0;34m:\u001b[0m\u001b[0;34m]\u001b[0m\u001b[0;34m)\u001b[0m\u001b[0;34m\u001b[0m\u001b[0;34m\u001b[0m\u001b[0m\n\u001b[1;32m   3294\u001b[0m     output_structure = nest.pack_sequence_as(\n",
      "\u001b[0;32m/home/buckaroo/.local/lib/python3.7/site-packages/tensorflow/python/client/session.py\u001b[0m in \u001b[0;36m__call__\u001b[0;34m(self, *args, **kwargs)\u001b[0m\n\u001b[1;32m   1456\u001b[0m         ret = tf_session.TF_SessionRunCallable(self._session._session,\n\u001b[1;32m   1457\u001b[0m                                                \u001b[0mself\u001b[0m\u001b[0;34m.\u001b[0m\u001b[0m_handle\u001b[0m\u001b[0;34m,\u001b[0m \u001b[0margs\u001b[0m\u001b[0;34m,\u001b[0m\u001b[0;34m\u001b[0m\u001b[0;34m\u001b[0m\u001b[0m\n\u001b[0;32m-> 1458\u001b[0;31m                                                run_metadata_ptr)\n\u001b[0m\u001b[1;32m   1459\u001b[0m         \u001b[0;32mif\u001b[0m \u001b[0mrun_metadata\u001b[0m\u001b[0;34m:\u001b[0m\u001b[0;34m\u001b[0m\u001b[0;34m\u001b[0m\u001b[0m\n\u001b[1;32m   1460\u001b[0m           \u001b[0mproto_data\u001b[0m \u001b[0;34m=\u001b[0m \u001b[0mtf_session\u001b[0m\u001b[0;34m.\u001b[0m\u001b[0mTF_GetBuffer\u001b[0m\u001b[0;34m(\u001b[0m\u001b[0mrun_metadata_ptr\u001b[0m\u001b[0;34m)\u001b[0m\u001b[0;34m\u001b[0m\u001b[0;34m\u001b[0m\u001b[0m\n",
      "\u001b[0;31mInvalidArgumentError\u001b[0m: Received a label value of 344 which is outside the valid range of [0, 344).  Label values: 7 88 1 64 16 13 14 5 7 83 1 40 13 14 0 0 0 0 0 0 0 11 30 1 67 15 25 22 47 6 3 1 58 69 2 56 0 0 0 0 0 0 62 1 92 2 41 5 3 1 9 21 26 11 24 0 0 0 0 0 0 0 0 7 33 1 9 7 102 2 51 5 3 1 18 2 45 0 0 0 0 0 0 0 29 1 65 37 11 44 6 3 1 9 21 2 52 0 0 0 0 0 0 0 0 10 38 1 20 16 17 13 5 10 82 1 20 13 17 0 0 0 0 0 0 0 36 1 12 67 37 11 46 5 3 1 18 2 44 0 0 0 0 0 0 0 0 27 145 7 97 134 154 0 0 0 0 0 0 0 0 0 0 0 0 0 0 0 3 113 115 184 110 176 0 0 0 0 0 0 0 0 0 0 0 0 0 0 0 3 94 4 28 4 73 6 4 78 0 0 0 0 0 0 0 0 0 0 0 0 11 30 1 19 15 25 79 56 5 3 1 68 2 41 0 0 0 0 0 0 0 3 55 4 72 4 28 76 6 4 28 0 0 0 0 0 0 0 0 0 0 0 3 55 4 78 4 74 6 4 73 0 0 0 0 0 0 0 0 0 0 0 0 3 55 4 28 4 70 6 4 72 0 0 0 0 0 0 0 0 0 0 0 0 11 30 1 12 57 15 25 22 45 6 3 1 12 18 2 47 0 0 0 0 0 4 32 31 1 8 68 15 25 22 47 5 3 1 8 21 2 41 0 0 0 0 10 82 1 61 16 17 5 7 86 1 40 93 0 0 0 0 0 0 0 0 0 10 85 1 20 16 17 13 5 7 83 1 61 13 17 0 0 0 0 0 0 0 10 38 1 40 16 17 5 7 89 1 39 17 0 0 0 0 0 0 0 0 0 62 1 12 63 2 41 5 3 1 8 60 26 11 24 0 0 0 0 0 0 0 99 124 4 70 4 73 6 28 76 0 0 0 0 0 0 0 0 0 0 0 0 7 89 1 39 16 13 14 5 7 90 27 1 13 14 0 0 0 0 0 0 0 10 85 1 39 13 14 108 96 5 10 82 1 20 13 14 0 0 0 0 0 0 36 1 8 18 2 43 5 3 1 12 66 2 48 0 0 0 0 0 0 0 0 20 13 16 17 1 7 88 5 39 17 13 1 10 82 0 0 0 0 0 0 0 20 16 10 23 14 1 10 85 5 61 23 14 1 7 90 0 0 0 0 0 0 35 34 1 8 19 2 43 5 3 1 8 18 2 49 0 0 0 0 0 0 0 4 32 31 1 9 57 37 11 46 5 3 1 18 2 41 0 0 0 0 0 0 36 1 8 57 2 52 5 3 1 8 59 2 46 0 0 0 0 0 0 0 0 3 94 4 71 4 74 6 4 78 0 0 0 0 0 0 0 0 0 0 0 0 64 16 17 1 10 270 5 61 17 1 7 86 0 0 0 0 0 0 0 0 0 29 1 19 2 52 6 3 1 9 60 2 46 0 0 0 0 0 0 0 0 0 29 1 8 66 2 41 5 3 1 12 60 26 11 24 0 0 0 0 0 0 0 29 1 12 21 37 11 24 5 3 1 9 65 2 51 0 0 0 0 0 0 0 29 1 8 66 15 111 22 11 24 6 3 1 9 26 63 2 53 0 0 0 0 4 32 31 1 21 2 43 5 3 1 9 117 2 47 0 0 0 0 0 0 0 7 36 1 8 65 37 11 46 5 3 1 63 2 44 0 0 0 0 0 0 0 33 1 57 2 49 5 3 1 18 2 47 0 0 0 0 0 0 0 0 0 0 7 33 1 8 63 2 50 6 3 1 12 18 2 49 0 0 0 0 0 0 0 36 1 69 21 2 50 6 3 1 8 63 26 11 24 0 0 0 0 0 0 0 7 33 1 12 65 2 54 6 3 1 19 2 41 0 0 0 0 0 0 0 0 20 16 17 1 13 7 86 5 40 13 17 1 10 85 0 0 0 0 0 0 0 39 109 17 1 13 146 11 237 0 0 0 0 0 0 0 0 0 0 0 0 0 7 88 1 7 13 14 108 96 5 10 85 1 64 13 14 0 0 0 0 0 0 64 16 17 13 1 10 38 5 40 13 140 1 84 0 0 0 0 0 0 0 0 62 1 21 2 50 5 3 1 12 18 2 53 0 0 0 0 0 0 0 0 0 35 34 1 66 2 41 5 3 1 12 67 26 11 24 0 0 0 0 0 0 0 4 32 31 105 131 9 190 2 45 5 3 1 18 2 44 0 0 0 0 0 0 27 94 7 148 97 162 0 0 0 0 0 0 0 0 0 0 0 0 0 0 0 29 1 58 69 2 50 5 3 1 12 19 2 53 0 0 0 0 0 0 0 0 99 127 91 28 76 4 70 6 4 74 0 0 0 0 0 0 0 0 0 0 0 4 32 31 1 12 63 37 11 24 6 3 1 8 58 2 41 0 0 0 0 0 27 55 4 75 4 73 6 10 38 0 0 0 0 0 0 0 0 0 0 0 0 4 32 31 1 8 21 37 11 24 6 3 1 12 67 2 52 0 0 0 0 0 62 1 12 65 37 11 44 6 3 1 8 10 81 2 50 0 0 0 0 0 0 11 30 1 12 18 15 25 79 56 5 3 1 8 18 2 46 0 0 0 0 0 101 1 12 18 15 25 22 47 6 3 1 60 2 52 0 0 0 0 0 0 0 29 1 19 2 41 6 3 1 12 19 2 53 0 0 0 0 0 0 0 0 0 7 33 1 9 18 26 98 6 3 1 8 67 2 44 0 0 0 0 0 0 0 62 105 103 9 19 2 51 6 3 1 8 63 2 49 0 0 0 0 0 0 0 135 28 76 4 28 6 4 78 0 0 0 0 0 0 0 0 0 0 0 0 0 3 55 4 73 4 70 6 4 75 0 0 0 0 0 0 0 0 0 0 0 0 7 90 1 61 16 10 23 119 5 7 89 1 39 23 14 0 0 0 0 0 0 3 180 35 34 24 114 0 0 0 0 0 0 0 0 0 0 0 0 0 0 0 27 94 4 78 4 77 6 4 74 0 0 0 0 0 0 0 0 0 0 0 0 36 105 103 9 19 2 24 6 3 1 12 59 2 54 0 0 0 0 0 0 0 11 30 1 19 2 49 5 3 157 2 43 0 0 0 0 0 0 0 0 0 0 3 55 10 163 110 134 0 0 0 0 0 0 0 0 0 0 0 0 0 0 0 11 30 1 19 15 42 5 3 1 8 59 2 54 0 0 0 0 0 0 0 0 35 34 1 58 8 2 54 6 3 1 9 66 2 44 0 0 0 0 0 0 0 7 86 1 39 16 17 13 5 10 82 1 64 13 17 0 0 0 0 0 0 0 84 1 39 16 13 14 5 7 88 27 1 13 14 0 0 0 0 0 0 0 0 4 32 31 1 8 65 15 25 79 56 5 3 1 67 2 45 0 0 0 0 0 36 1 12 18 2 52 5 3 1 8 65 2 56 0 0 0 0 0 0 0 0 11 30 1 19 15 42 6 3 1 12 59 2 44 0 0 0 0 0 0 0 0 29 1 12 57 2 54 6 3 1 8 21 2 53 0 0 0 0 0 0 0 0 7 86 1 61 16 13 14 5 7 88 1 39 13 14 0 0 0 0 0 0 0 35 34 1 12 18 2 49 5 3 1 9 18 2 54 0 0 0 0 0 0 0 107 126 4 77 28 76 6 72 0 0 0 0 0 0 0 0 0 0 0 0 0 29 1 65 2 52 5 3 1 63 2 48 0 0 0 0 0 0 0 0 0 0 11 30 1 12 67 15 111 22 11 24 5 3 1 12 65 2 45 0 0 0 0 20 16 1 13 14 7 87 5 27 1 13 14 7 83 0 0 0 0 0 0 0 7 62 1 9 58 26 98 6 3 1 8 21 2 51 0 0 0 0 0 0 0 11 30 1 58 2 53 5 3 1 8 19 2 45 0 0 0 0 0 0 0 0 4 32 31 1 18 26 98 6 3 1 8 21 15 42 0 0 0 0 0 0 0 107 132 10 38 4 71 6 4 28 76 0 0 0 0 0 0 0 0 0 0 0 35 34 1 12 68 2 50 5 3 1 59 2 49 0 0 0 0 0 0 0 0 27 55 4 75 10 38 6 4 78 0 0 0 0 0 0 0 0 0 0 0 0 40 109 17 1 146 7 201 0 0 0 0 0 0 0 0 0 0 0 0 0 0 20 16 1 13 14 7 83 5 64 13 14 1 7 90 0 0 0 0 0 0 0 3 55 4 72 4 71 6 4 75 0 0 0 0 0 0 0 0 0 0 0 0 11 30 1 10 81 2 50 5 3 1 8 60 26 11 24 0 0 0 0 0 0 4 32 31 1 12 60 2 50 5 3 1 9 18 2 44 0 0 0 0 0 0 62 1 12 63 2 48 5 3 1 69 21 2 46 0 0 0 0 0 0 0 0 62 1 8 104 2 45 6 3 1 67 2 52 0 0 0 0 0 0 0 0 0 7 83 1 20 16 10 23 14 5 7 90 1 40 23 14 0 0 0 0 0 0 29 1 8 19 2 45 6 3 1 12 63 26 11 24 0 0 0 0 0 0 0 40 13 14 108 96 1 7 90 5 61 13 14 1 10 38 0 0 0 0 0 0 7 88 1 61 16 17 5 84 1 20 93 0 0 0 0 0 0 0 0 0 0 7 62 1 58 8 26 98 6 3 1 8 104 2 51 0 0 0 0 0 0 0 11 30 1 9 58 15 25 22 47 5 3 1 12 19 15 42 0 0 0 0 0 7 194 161 10 189 6 10 186 1 196 0 0 0 0 0 0 0 0 0 0 0 7 33 1 12 67 2 45 6 3 95 69 2 43 0 0 0 0 0 0 0 0 7 33 1 12 18 2 54 5 3 1 21 2 46 0 0 0 0 0 0 0 0 29 1 8 104 15 25 22 51 6 3 1 60 2 47 0 0 0 0 0 0 0 7 83 1 40 16 13 14 5 10 38 1 61 13 14 0 0 0 0 0 0 0 115 221 1 40 109 17 13 0 0 0 0 0 0 0 0 0 0 0 0 0 0 35 34 1 104 2 49 5 3 95 9 2 51 0 0 0 0 0 0 0 0 0 29 1 7 102 15 111 22 11 24 5 3 1 12 57 2 44 0 0 0 0 0 3 118 113 10 200 110 166 0 0 0 0 0 0 0 0 0 0 0 0 0 0 29 1 8 60 2 45 6 3 1 9 68 2 41 0 0 0 0 0 0 0 0 35 34 1 12 59 2 41 6 3 157 2 47 0 0 0 0 0 0 0 0 0 61 16 17 1 13 10 85 5 64 13 17 1 7 83 0 0 0 0 0 0 0 4 32 31 1 63 37 11 44 5 3 1 12 18 2 53 0 0 0 0 0 0 29 1 9 57 2 43 5 3 1 9 65 2 41 0 0 0 0 0 0 0 0 29 1 8 19 2 43 5 3 1 18 2 46 0 0 0 0 0 0 0 0 0 27 55 4 70 4 74 6 4 78 0 0 0 0 0 0 0 0 0 0 0 0 29 1 12 67 2 50 6 3 1 9 68 26 11 24 0 0 0 0 0 0 0 3 55 4 28 4 78 6 4 73 0 0 0 0 0 0 0 0 0 0 0 0 61 16 17 1 84 5 39 17 1 10 82 0 0 0 0 0 0 0 0 0 0 39 16 17 1 7 88 5 64 93 1 10 85 0 0 0 0 0 0 0 0 0 7 80 1 40 16 17 13 5 10 85 1 20 13 17 0 0 0 0 0 0 0 20 16 1 13 14 7 86 5 61 13 14 1 7 80 0 0 0 0 0 0 0 29 1 10 81 37 11 46 5 3 1 112 26 11 24 0 0 0 0 0 0 0 10 82 1 39 16 17 5 7 89 1 61 17 0 0 0 0 0 0 0 0 0 7 33 1 9 18 15 25 22 47 5 3 105 103 9 19 2 49 0 0 0 0 10 85 1 40 16 17 13 5 7 83 1 20 13 17 0 0 0 0 0 0 0 29 1 66 15 25 22 51 6 3 1 9 125 2 53 0 0 0 0 0 0 0 99 124 4 28 6 4 75 0 0 0 0 0 0 0 0 0 0 0 0 0 0 20 16 10 23 14 1 7 87 5 39 23 14 1 84 0 0 0 0 0 0 0 3 55 4 78 6 4 77 0 0 0 0 0 0 0 0 0 0 0 0 0 0 29 1 8 59 2 50 5 3 1 19 26 11 24 0 0 0 0 0 0 0 0 7 36 1 12 57 15 25 22 47 5 3 1 18 2 43 0 0 0 0 0 0 99 127 91 4 77 4 75 6 4 28 76 0 0 0 0 0 0 0 0 0 0 29 1 8 67 2 52 6 3 95 9 2 56 0 0 0 0 0 0 0 0 0 7 33 1 8 58 2 54 5 3 95 9 26 11 24 0 0 0 0 0 0 0 36 1 9 66 37 11 44 6 3 1 12 68 2 52 0 0 0 0 0 0 0 10 38 1 20 16 17 5 7 83 1 20 93 0 0 0 0 0 0 0 0 0 35 34 1 9 58 2 49 6 3 1 68 2 43 0 0 0 0 0 0 0 0 27 94 115 110 172 169 0 0 0 0 0 0 0 0 0 0 0 0 0 0 0 20 16 1 13 14 7 87 5 39 13 14 1 7 83 0 0 0 0 0 0 0 7 36 1 8 60 37 11 44 5 3 1 21 26 11 24 0 0 0 0 0 0 39 16 1 13 14 10 85 5 40 13 14 1 7 89 0 0 0 0 0 0 0 29 1 58 69 2 48 6 3 1 12 19 2 41 0 0 0 0 0 0 0 0 4 32 31 1 8 18 15 25 79 56 5 3 1 12 66 2 51 0 0 0 0 35 34 1 12 18 15 25 22 47 5 3 1 8 57 2 44 0 0 0 0 0 7 33 1 18 15 42 6 3 1 8 137 2 56 0 0 0 0 0 0 0 0 4 32 31 1 58 2 50 6 3 1 12 68 2 56 0 0 0 0 0 0 0 36 1 60 2 54 6 3 1 9 57 2 47 0 0 0 0 0 0 0 0 0 27 94 4 77 4 75 6 4 71 0 0 0 0 0 0 0 0 0 0 0 0 4 32 31 1 12 18 37 11 44 6 3 1 112 2 51 0 0 0 0 0 0 29 1 9 60 15 25 79 56 6 3 1 8 112 26 11 24 0 0 0 0 0 36 1 8 19 2 54 5 3 1 12 59 2 44 0 0 0 0 0 0 0 0 3 55 4 73 4 70 6 4 28 76 0 0 0 0 0 0 0 0 0 0 0 107 208 22 136 7 33 26 11 24 114 0 0 0 0 0 0 0 0 0 0 0 7 36 1 8 63 37 11 44 6 3 1 8 19 2 47 0 0 0 0 0 0 20 16 10 23 14 1 7 90 5 40 23 14 1 10 82 0 0 0 0 0 0 11 30 1 66 37 11 24 6 3 1 57 2 50 0 0 0 0 0 0 0 0 7 33 1 12 68 2 43 5 3 1 9 18 2 44 0 0 0 0 0 0 0 11 30 1 26 63 37 11 44 6 3 1 8 19 2 41 0 0 0 0 0 0 7 86 1 20 16 10 23 14 5 7 80 1 39 23 14 0 0 0 0 0 0 29 1 9 60 15 42 6 3 1 9 117 2 41 0 0 0 0 0 0 0 0 61 13 14 16 1 84 5 39 13 14 1 10 82 0 0 0 0 0 0 0 0 7 83 1 61 16 17 13 5 10 85 1 40 17 13 0 0 0 0 0 0 0 7 33 1 9 18 2 43 6 3 1 9 66 2 47 0 0 0 0 0 0 0 62 1 9 7 102 2 49 6 3 1 67 2 45 0 0 0 0 0 0 0 0 36 1 104 2 24 5 3 1 60 2 54 0 0 0 0 0 0 0 0 0 0 40 109 10 23 156 1 115 214 0 0 0 0 0 0 0 0 0 0 0 0 0 20 16 17 1 13 7 86 5 40 13 140 1 7 89 0 0 0 0 0 0 0 7 87 1 64 16 17 5 7 88 1 39 17 0 0 0 0 0 0 0 0 0 3 1 198 22 164 161 186 6 187 0 0 0 0 0 0 0 0 0 0 0 0 84 1 20 16 17 5 7 87 1 64 93 0 0 0 0 0 0 0 0 0 0 11 30 1 58 2 49 6 3 1 8 21 26 11 24 0 0 0 0 0 0 0 11 30 1 9 18 2 51 6 3 1 12 60 2 56 0 0 0 0 0 0 0 129 96 10 23 14 1 7 80 5 20 23 14 1 7 83 0 0 0 0 0 0 27 1 15 230 79 120 97 150 174 0 0 0 0 0 0 0 0 0 0 0 0 61 16 17 1 7 90 5 40 93 1 7 88 0 0 0 0 0 0 0 0 0 4 32 31 1 19 2 52 5 3 1 12 92 2 45 0 0 0 0 0 0 0 27 94 4 71 4 28 6 4 73 0 0 0 0 0 0 0 0 0 0 0 0 27 55 10 82 10 38 6 4 70 0 0 0 0 0 0 0 0 0 0 0 0 3 55 4 28 4 73 6 4 74 0 0 0 0 0 0 0 0 0 0 0 0 35 34 1 9 18 2 43 6 3 1 12 59 2 41 0 0 0 0 0 0 0 10 85 1 40 16 17 5 7 86 1 39 17 0 0 0 0 0 0 0 0 0 27 94 4 72 4 75 6 4 70 0 0 0 0 0 0 0 0 0 0 0 0 7 33 1 8 19 2 50 6 3 1 8 92 15 42 0 0 0 0 0 0 0 4 32 31 1 12 19 2 51 6 3 1 8 21 2 41 0 0 0 0 0 0 4 32 31 1 9 60 2 49 5 3 1 69 21 2 47 0 0 0 0 0 0 3 113 7 168 97 155 0 0 0 0 0 0 0 0 0 0 0 0 0 0 0 7 36 1 8 104 26 98 5 3 1 19 2 47 0 0 0 0 0 0 0 0 36 1 12 92 2 49 5 9 26 63 2 51 0 0 0 0 0 0 0 0 0 35 34 105 95 2 41 6 3 1 12 59 2 49 0 0 0 0 0 0 0 0 27 94 4 28 4 70 6 4 73 0 0 0 0 0 0 0 0 0 0 0 0 11 30 1 9 18 2 41 6 3 1 67 2 49 0 0 0 0 0 0 0 0 20 16 17 1 7 80 5 40 93 1 7 90 0 0 0 0 0 0 0 0 0 3 203 123 2 62 15 42 142 0 0 0 0 0 0 0 0 0 0 0 0 0 36 1 21 2 54 6 3 1 8 18 2 44 0 0 0 0 0 0 0 0 0 3 100 4 74 4 28 6 4 75 0 0 0 0 0 0 0 0 0 0 0 0 7 33 1 8 58 2 43 6 3 1 12 60 2 56 0 0 0 0 0 0 0 7 83 1 39 16 17 0 0 0 0 0 0 0 0 0 0 0 0 0 0 0 27 55 4 70 4 77 6 4 71 0 0 0 0 0 0 0 0 0 0 0 0 35 34 1 18 2 41 6 3 1 8 10 81 2 46 0 0 0 0 0 0 0 36 1 19 2 43 5 3 1 8 10 81 15 42 0 0 0 0 0 0 0 0 10 85 1 61 16 13 14 5 7 90 1 20 13 14 0 0 0 0 0 0 0 170 323 141 131 108 257 175 0 0 0 0 0 0 0 0 0 0 0 0 0 0 35 34 1 12 65 2 43 6 3 157 2 47 0 0 0 0 0 0 0 0 0 36 1 19 37 11 44 5 3 1 67 2 48 0 0 0 0 0 0 0 0 0 7 90 1 39 16 10 23 14 5 84 1 40 23 14 0 0 0 0 0 0 0 20 16 10 23 14 1 7 83 5 39 23 14 1 7 86 0 0 0 0 0 0 10 82 1 39 16 17 5 7 87 1 64 93 0 0 0 0 0 0 0 0 0 101 1 9 59 2 49 5 3 1 19 2 45 0 0 0 0 0 0 0 0 0 27 55 4 71 4 28 6 4 70 0 0 0 0 0 0 0 0 0 0 0 0 3 118 149 244 182 154 0 0 0 0 0 0 0 0 0 0 0 0 0 0 0 11 30 1 12 63 2 53 5 3 1 9 60 2 43 0 0 0 0 0 0 0 10 82 1 61 16 17 5 10 85 1 20 93 0 0 0 0 0 0 0 0 0 7 90 1 13 20 16 17 5 7 80 1 40 17 13 0 0 0 0 0 0 0 29 1 8 66 37 11 46 6 3 1 12 65 2 56 0 0 0 0 0 0 0 35 34 1 8 19 2 43 6 3 1 21 2 52 0 0 0 0 0 0 0 0 27 100 120 148 97 153 0 0 0 0 0 0 0 0 0 0 0 0 0 0 0 29 1 10 81 69 2 54 6 3 1 12 65 2 48 0 0 0 0 0 0 0 62 1 12 66 2 54 5 3 1 9 68 2 46 0 0 0 0 0 0 0 0 107 126 28 76 4 74 6 4 28 0 0 0 0 0 0 0 0 0 0 0 0 191 96 13 14 1 10 38 5 61 13 14 1 7 80 0 0 0 0 0 0 0 11 30 1 69 21 15 42 5 3 1 9 117 2 52 0 0 0 0 0 0 0 35 34 1 58 2 43 6 3 1 8 63 26 11 24 0 0 0 0 0 0 0 135 4 70 4 72 6 4 74 0 0 0 0 0 0 0 0 0 0 0 0 0 7 33 1 9 60 2 49 6 3 1 8 63 2 46 0 0 0 0 0 0 0 7 33 1 8 19 15 42 5 3 1 8 18 2 50 0 0 0 0 0 0 0 4 32 31 1 21 37 11 46 6 3 1 9 68 2 41 0 0 0 0 0 0 7 80 1 39 13 14 108 96 5 7 88 1 61 13 14 0 0 0 0 0 0 33 1 21 15 25 22 47 5 3 1 9 60 2 43 0 0 0 0 0 0 0 29 1 195 26 98 6 3 1 59 2 47 0 0 0 0 0 0 0 0 0 0 29 1 12 60 2 54 6 3 1 58 69 2 50 0 0 0 0 0 0 0 0 4 32 31 1 59 15 25 22 47 5 3 1 12 67 2 41 0 0 0 0 0 20 16 10 23 14 1 7 83 5 20 23 14 1 7 88 0 0 0 0 0 0 35 34 1 12 60 2 45 5 3 1 9 59 2 47 0 0 0 0 0 0 0 27 55 4 74 28 76 6 4 71 0 0 0 0 0 0 0 0 0 0 0 0 3 145 115 163 110 172 0 0 0 0 0 0 0 0 0 0 0 0 0 0 0 29 1 12 67 2 50 6 3 1 9 66 2 51 0 0 0 0 0 0 0 0 62 1 8 57 37 11 44 5 9 108 177 2 50 0 0 0 0 0 0 0 0 35 34 1 8 66 37 11 46 5 3 1 9 21 2 43 0 0 0 0 0 0 29 1 9 58 15 25 22 51 5 3 1 19 2 47 0 0 0 0 0 0 0 29 1 9 57 37 11 44 5 9 22 102 2 41 0 0 0 0 0 0 0 0 39 16 17 1 7 90 0 0 0 0 0 0 0 0 0 0 0 0 0 0 0 62 1 18 2 49 5 3 1 58 8 2 43 0 0 0 0 0 0 0 0 0 40 16 17 1 10 85 5 20 17 1 10 38 0 0 0 0 0 0 0 0 0 11 30 1 8 63 2 50 6 3 1 9 19 2 41 0 0 0 0 0 0 0 3 55 91 7 147 97 162 0 0 0 0 0 0 0 0 0 0 0 0 0 0 29 1 8 21 2 41 5 3 1 8 21 2 54 0 0 0 0 0 0 0 0 11 30 1 9 58 26 98 5 3 1 9 226 22 227 26 11 24 0 0 0 0 99 124 10 38 4 74 6 4 77 0 0 0 0 0 0 0 0 0 0 0 0 99 127 4 74 4 73 6 4 71 0 0 0 0 0 0 0 0 0 0 0 0 29 1 12 18 2 52 6 3 1 8 58 2 54 0 0 0 0 0 0 0 0 35 34 1 9 66 15 42 6 3 1 58 69 2 52 0 0 0 0 0 0 0 29 1 9 67 37 11 46 5 3 1 18 2 50 0 0 0 0 0 0 0 0 27 55 4 73 4 71 6 4 75 0 0 0 0 0 0 0 0 0 0 0 0 20 16 1 13 14 7 88 5 64 13 14 1 7 89 0 0 0 0 0 0 0 10 38 1 20 16 17 5 7 83 1 39 17 0 0 0 0 0 0 0 0 0 99 124 4 72 4 77 6 4 75 0 0 0 0 0 0 0 0 0 0 0 0 20 16 1 13 14 84 5 39 13 14 1 7 86 0 0 0 0 0 0 0 0 3 55 91 10 38 4 73 6 4 71 0 0 0 0 0 0 0 0 0 0 0 101 1 9 18 2 48 6 3 1 12 19 2 53 0 0 0 0 0 0 0 0 10 85 1 61 16 13 14 5 7 86 27 1 13 14 0 0 0 0 0 0 0 20 109 10 23 14 1 192 236 0 0 0 0 0 0 0 0 0 0 0 0 0 29 1 21 2 45 6 3 1 8 139 26 11 24 0 0 0 0 0 0 0 0 27 145 121 148 97 153 0 0 0 0 0 0 0 0 0 0 0 0 0 0 0 3 55 4 78 4 72 6 4 74 0 0 0 0 0 0 0 0 0 0 0 0 3 55 4 75 4 78 6 4 73 0 0 0 0 0 0 0 0 0 0 0 0 101 1 58 69 2 43 5 3 1 12 65 2 56 0 0 0 0 0 0 0 0 11 30 1 12 59 2 53 5 3 1 9 60 2 52 0 0 0 0 0 0 0 7 36 1 10 81 69 15 42 5 3 1 8 137 2 43 0 0 0 0 0 0 3 55 4 78 4 70 6 4 28 76 0 0 0 0 0 0 0 0 0 0 0 36 1 19 37 11 44 6 3 1 8 63 2 45 0 0 0 0 0 0 0 0 11 30 1 9 125 2 52 5 3 1 8 10 81 2 53 0 0 0 0 0 0 191 96 13 14 1 7 83 5 64 13 14 1 7 80 0 0 0 0 0 0 0 11 30 1 8 7 102 2 43 6 3 1 21 2 49 0 0 0 0 0 0 0 3 100 4 72 10 38 6 4 75 0 0 0 0 0 0 0 0 0 0 0 0 7 80 1 20 16 10 23 14 5 7 86 1 61 23 14 0 0 0 0 0 0 4 32 31 1 9 66 2 48 6 3 1 67 2 51 0 0 0 0 0 0 0 27 55 4 74 10 38 6 4 71 0 0 0 0 0 0 0 0 0 0 0 0 39 13 14 1 10 16 22 38 5 27 1 13 14 84 0 0 0 0 0 0 0 11 30 1 8 65 37 11 46 6 3 1 8 19 2 52 0 0 0 0 0 0 27 143 121 151 97 134 0 0 0 0 0 0 0 0 0 0 0 0 0 0 0 3 158 91 7 147 97 162 0 0 0 0 0 0 0 0 0 0 0 0 0 0 146 10 218 1 40 109 10 23 14 0 0 0 0 0 0 0 0 0 0 0 0 10 220 1 20 109 10 23 14 0 0 0 0 0 0 0 0 0 0 0 0 0 29 1 12 19 15 25 22 47 6 3 1 9 57 2 50 0 0 0 0 0 0 7 33 1 9 18 2 46 5 3 1 12 67 2 43 0 0 0 0 0 0 0 101 1 9 65 15 25 22 51 5 3 1 21 2 54 0 0 0 0 0 0 0 35 34 1 9 66 2 48 5 3 1 8 68 15 42 0 0 0 0 0 0 0 62 1 8 60 2 43 5 3 1 12 67 2 52 0 0 0 0 0 0 0 0 7 33 1 12 21 2 41 5 3 1 8 67 2 54 0 0 0 0 0 0 0 10 82 1 20 16 10 23 14 5 7 90 27 1 10 23 14 0 0 0 0 0 1 3 223 15 35 34 0 0 0 0 0 0 0 0 0 0 0 0 0 0 0 4 32 31 1 9 58 15 25 22 48 6 3 1 8 60 26 11 24 0 0 0 20 16 17 1 7 88 5 20 17 1 10 85 0 0 0 0 0 0 0 0 0 11 30 1 59 15 25 22 53 6 3 1 21 2 43 0 0 0 0 0 0 0 3 158 91 144 163 110 166 0 0 0 0 0 0 0 0 0 0 0 0 0 0 7 86 1 64 16 17 5 7 83 1 20 93 0 0 0 0 0 0 0 0 0 35 34 1 19 15 25 22 45 5 3 1 12 18 2 48 0 0 0 0 0 0 11 30 1 104 15 42 6 3 105 103 9 19 2 49 0 0 0 0 0 0 0 20 16 10 23 14 1 84 5 40 23 14 1 7 90 0 0 0 0 0 0 0 62 105 103 9 19 15 25 22 45 5 3 1 8 21 26 11 24 0 0 0 0 3 113 120 168 97 155 0 0 0 0 0 0 0 0 0 0 0 0 0 0 0 64 16 17 1 10 38 5 39 17 1 7 86 0 0 0 0 0 0 0 0 0 35 34 1 9 66 15 111 22 11 24 6 3 1 8 68 2 43 0 0 0 0 33 1 66 37 11 24 6 3 1 8 10 81 2 53 0 0 0 0 0 0 0 4 32 31 1 12 21 2 52 6 3 1 8 18 2 41 0 0 0 0 0 0 29 1 9 59 2 43 6 3 1 12 63 2 45 0 0 0 0 0 0 0 0 29 1 8 60 15 25 22 48 5 3 1 8 19 2 44 0 0 0 0 0 0 35 34 1 12 59 26 98 5 3 1 9 18 2 47 0 0 0 0 0 0 0 36 1 9 7 102 2 49 6 3 1 8 59 2 47 0 0 0 0 0 0 0 7 33 1 8 58 2 48 6 3 1 67 2 43 0 0 0 0 0 0 0 0 62 1 8 57 2 50 5 3 1 8 68 2 56 0 0 0 0 0 0 0 0 35 34 1 9 18 2 43 5 3 1 21 2 52 0 0 0 0 0 0 0 0 62 1 8 104 15 42 6 3 1 12 57 26 11 24 0 0 0 0 0 0 0 107 126 10 38 4 70 6 4 78 0 0 0 0 0 0 0 0 0 0 0 0 36 1 9 59 37 11 46 5 3 1 8 19 2 51 0 0 0 0 0 0 0 7 33 1 10 81 2 41 6 3 1 57 26 11 24 0 0 0 0 0 0 0 35 34 1 60 2 41 5 3 1 8 59 2 50 0 0 0 0 0 0 0 0 7 83 1 10 16 10 23 14 64 5 10 82 1 10 23 14 0 0 0 0 0 84 1 20 16 17 13 5 7 88 1 61 13 17 0 0 0 0 0 0 0 0 99 127 91 28 76 4 77 6 4 71 0 0 0 0 0 0 0 0 0 0 0 7 36 1 8 10 81 2 48 6 3 1 9 19 2 52 0 0 0 0 0 0 29 1 8 10 81 2 43 5 3 1 19 2 50 0 0 0 0 0 0 0 0 4 32 31 1 9 117 2 50 6 3 1 65 2 51 0 0 0 0 0 0 0 101 1 8 18 2 53 5 3 1 8 19 15 42 0 0 0 0 0 0 0 0 7 33 1 9 60 2 48 5 3 1 19 2 47 0 0 0 0 0 0 0 0 99 127 91 4 77 4 74 6 4 75 0 0 0 0 0 0 0 0 0 0 0 39 16 10 23 14 1 7 87 5 64 23 14 1 10 85 0 0 0 0 0 0 7 33 1 60 26 98 5 3 1 12 92 2 41 0 0 0 0 0 0 0 0 11 30 1 104 26 98 5 3 1 9 59 2 49 0 0 0 0 0 0 0 0 29 1 59 26 98 5 3 1 58 2 52 0 0 0 0 0 0 0 0 0 0 3 55 4 73 4 28 6 4 28 76 0 0 0 0 0 0 0 0 0 0 0 36 1 19 2 52 5 3 1 21 2 50 0 0 0 0 0 0 0 0 0 0 29 1 12 59 2 49 6 3 1 9 22 102 2 41 0 0 0 0 0 0 0 7 89 1 20 16 17 13 5 7 86 1 39 17 13 0 0 0 0 0 0 0 10 85 1 20 16 13 14 5 7 88 1 61 13 14 0 0 0 0 0 0 0 29 1 57 15 25 22 48 5 3 1 65 26 11 24 0 0 0 0 0 0 0 106 130 4 74 6 4 71 0 0 0 0 0 0 0 0 0 0 0 0 0 0 101 1 8 18 37 11 44 5 3 1 67 2 43 0 0 0 0 0 0 0 0 4 32 31 1 9 68 2 54 5 3 1 8 19 2 51 0 0 0 0 0 0 20 16 1 13 14 7 83 5 61 13 14 1 7 88 0 0 0 0 0 0 0 99 127 10 38 4 75 6 4 70 0 0 0 0 0 0 0 0 0 0 0 0 99 127 4 75 28 76 6 4 71 0 0 0 0 0 0 0 0 0 0 0 0 40 16 17 13 1 10 38 5 64 13 17 1 7 80 0 0 0 0 0 0 0 29 1 8 18 37 11 44 5 3 1 9 19 2 43 0 0 0 0 0 0 0 4 32 31 1 12 18 15 42 5 3 1 8 66 26 11 24 0 0 0 0 0 36 1 104 2 45 6 3 1 8 18 2 46 0 0 0 0 0 0 0 0 0 116 100 4 78 4 77 6 4 71 0 0 0 0 0 0 0 0 0 0 0 0 3 94 4 71 4 78 6 4 75 0 0 0 0 0 0 0 0 0 0 0 0 3 55 91 4 77 6 4 74 0 0 0 0 0 0 0 0 0 0 0 0 0 11 30 1 243 15 42 6 3 1 9 65 2 56 0 0 0 0 0 0 0 0 33 105 103 9 19 2 41 5 3 1 69 21 2 48 0 0 0 0 0 0 0 7 89 1 39 13 14 108 96 5 10 85 1 61 13 14 0 0 0 0 0 0 7 80 1 20 13 14 108 96 5 7 87 1 39 13 14 0 0 0 0 0 0 4 32 31 1 19 37 11 44 5 3 1 21 15 42 0 0 0 0 0 0 0 35 34 1 58 8 2 49 5 3 95 69 2 56 0 0 0 0 0 0 0 0 4 32 31 1 9 66 2 49 6 3 1 8 92 2 53 0 0 0 0 0 0 35 34 1 9 18 2 52 5 3 1 9 60 26 11 24 0 0 0 0 0 0 3 55 10 38 28 76 6 4 77 0 0 0 0 0 0 0 0 0 0 0 0 4 32 31 1 9 125 2 43 6 3 1 65 2 44 0 0 0 0 0 0 0 3 118 113 7 97 150 174 0 0 0 0 0 0 0 0 0 0 0 0 0 0 64 16 1 13 14 10 82 5 20 13 14 1 10 38 0 0 0 0 0 0 0 4 32 31 1 9 65 2 49 6 3 1 8 57 2 50 0 0 0 0 0 0 3 55 91 28 76 10 38 6 4 28 0 0 0 0 0 0 0 0 0 0 0 11 30 1 12 92 15 25 79 56 5 3 1 21 2 47 0 0 0 0 0 0 27 143 7 151 97 153 0 0 0 0 0 0 0 0 0 0 0 0 0 0 0 62 1 9 63 2 50 5 3 1 68 2 54 0 0 0 0 0 0 0 0 0 35 34 1 9 57 2 54 5 3 1 9 21 2 41 0 0 0 0 0 0 0 20 16 17 1 13 7 88 5 20 13 17 1 10 38 0 0 0 0 0 0 0 36 1 12 18 2 41 6 3 1 12 63 2 50 0 0 0 0 0 0 0 0 11 30 1 12 19 15 42 5 3 1 57 2 47 0 0 0 0 0 0 0 0 212 99 124 278 0 0 0 0 0 0 0 0 0 0 0 0 0 0 0 0 0 7 87 1 20 16 10 23 14 5 7 89 1 64 23 14 0 0 0 0 0 0 3 94 4 70 4 78 6 4 73 0 0 0 0 0 0 0 0 0 0 0 0 135 4 74 4 73 6 4 28 0 0 0 0 0 0 0 0 0 0 0 0 0 11 30 1 9 19 2 50 5 3 1 21 2 49 0 0 0 0 0 0 0 0 27 94 4 28 4 77 6 28 76 0 0 0 0 0 0 0 0 0 0 0 0 29 1 9 26 63 15 42 6 3 1 9 65 2 43 0 0 0 0 0 0 0 7 90 1 20 16 17 5 10 85 1 39 17 0 0 0 0 0 0 0 0 0 36 1 9 125 2 50 5 3 1 60 2 51 0 0 0 0 0 0 0 0 0 7 90 1 64 16 17 13 5 7 89 1 20 13 17 0 0 0 0 0 0 0 7 33 1 104 2 24 6 3 1 9 59 2 44 0 0 0 0 0 0 0 0 27 55 7 288 153 193 0 0 0 0 0 0 0 0 0 0 0 0 0 0 0 11 30 1 9 21 15 42 6 3 1 68 2 50 0 0 0 0 0 0 0 0 20 16 17 1 10 38 5 61 17 1 7 80 0 0 0 0 0 0 0 0 0 11 30 1 104 2 50 6 3 95 9 2 56 0 0 0 0 0 0 0 0 0 7 62 1 10 81 2 49 6 3 1 9 65 2 56 0 0 0 0 0 0 0 3 55 4 70 6 4 75 0 0 0 0 0 0 0 0 0 0 0 0 0 0 27 113 120 148 97 150 0 0 0 0 0 0 0 0 0 0 0 0 0 0 0 106 130 28 76 4 74 6 4 73 0 0 0 0 0 0 0 0 0 0 0 0 20 16 10 23 14 1 10 85 5 61 23 14 1 7 89 0 0 0 0 0 0 4 32 31 1 9 19 15 25 22 47 5 3 1 8 67 2 50 0 0 0 0 27 55 4 77 4 74 6 4 78 0 0 0 0 0 0 0 0 0 0 0 0 29 1 69 21 2 41 6 3 1 8 10 81 2 53 0 0 0 0 0 0 0 116 100 4 74 4 72 6 4 77 0 0 0 0 0 0 0 0 0 0 0 0 29 1 9 66 15 111 22 11 24 5 9 22 102 2 52 0 0 0 0 0 0 129 96 10 23 14 1 7 80 5 61 23 14 1 7 88 0 0 0 0 0 0 29 1 12 66 15 25 22 51 5 3 1 9 18 2 48 0 0 0 0 0 0 146 7 201 1 39 109 10 23 156 0 0 0 0 0 0 0 0 0 0 0 0 4 32 31 1 9 19 2 41 6 3 1 8 59 26 11 24 0 0 0 0 0 27 55 4 74 4 70 6 4 28 0 0 0 0 0 0 0 0 0 0 0 0 29 1 8 112 15 25 22 51 5 3 1 66 2 50 0 0 0 0 0 0 0 3 160 171 1 198 22 164 185 187 0 0 0 0 0 0 0 0 0 0 0 0 27 55 4 77 78 6 28 0 0 0 0 0 0 0 0 0 0 0 0 0 0 3 100 4 75 28 76 6 4 74 0 0 0 0 0 0 0 0 0 0 0 0 11 30 1 9 59 37 11 44 5 3 1 8 18 2 52 0 0 0 0 0 0 106 130 28 76 4 73 6 4 28 0 0 0 0 0 0 0 0 0 0 0 0 4 32 31 1 8 21 15 25 79 56 5 3 1 8 60 2 46 0 0 0 0 11 30 1 7 102 2 54 5 3 1 9 21 2 56 0 0 0 0 0 0 0 27 94 10 38 4 71 6 4 78 0 0 0 0 0 0 0 0 0 0 0 0 116 100 38 4 71 6 4 78 0 0 0 0 0 0 0 0 0 0 0 0 0 20 16 1 13 14 7 87 5 40 13 14 1 10 38 0 0 0 0 0 0 0 36 1 8 63 37 11 46 5 3 1 21 2 53 0 0 0 0 0 0 0 0 84 1 20 16 10 23 14 5 7 83 1 64 23 14 0 0 0 0 0 0 0 7 90 1 61 16 13 14 5 7 83 1 64 13 14 0 0 0 0 0 0 0 29 1 68 2 52 6 3 1 8 19 2 41 0 0 0 0 0 0 0 0 0 27 55 4 70 4 74 6 4 77 0 0 0 0 0 0 0 0 0 0 0 0 11 30 1 18 2 52 5 3 1 12 57 2 43 0 0 0 0 0 0 0 0 29 1 9 19 2 52 6 3 1 9 57 2 49 0 0 0 0 0 0 0 0 36 105 103 9 19 15 25 79 56 5 3 1 58 69 2 44 0 0 0 0 0 20 16 10 23 14 1 7 86 5 39 23 14 1 7 87 0 0 0 0 0 0 135 4 73 4 28 76 6 4 74 0 0 0 0 0 0 0 0 0 0 0 0 29 1 9 58 2 53 5 3 1 9 21 2 48 0 0 0 0 0 0 0 0 35 34 1 8 21 2 49 6 3 1 59 2 43 0 0 0 0 0 0 0 0 29 1 8 63 2 49 5 3 1 12 66 2 53 0 0 0 0 0 0 0 0 36 1 63 2 52 5 3 1 8 21 2 53 0 0 0 0 0 0 0 0 0 29 1 68 15 25 22 51 5 3 1 8 65 26 11 24 0 0 0 0 0 0 7 80 1 64 16 17 5 10 38 1 61 17 0 0 0 0 0 0 0 0 0 7 33 1 12 59 2 43 5 3 1 12 68 26 11 24 0 0 0 0 0 0 116 207 22 136 7 36 2 46 0 0 0 0 0 0 0 0 0 0 0 0 0 64 16 17 1 10 38 5 20 17 1 7 88 0 0 0 0 0 0 0 0 0 3 55 115 248 110 176 0 0 0 0 0 0 0 0 0 0 0 0 0 0 0 35 34 1 9 117 15 42 6 3 1 21 2 48 0 0 0 0 0 0 0 0 35 34 1 19 2 54 5 3 1 9 59 2 41 0 0 0 0 0 0 0 0 27 94 4 75 6 4 78 0 0 0 0 0 0 0 0 0 0 0 0 0 0 3 94 121 147 97 153 0 0 0 0 0 0 0 0 0 0 0 0 0 0 0 36 1 8 18 2 54 6 3 1 18 15 42 0 0 0 0 0 0 0 0 0 29 1 9 138 2 50 5 9 26 63 26 11 24 0 0 0 0 0 0 0 0 99 131 233 2 36 11 24 142 0 0 0 0 0 0 0 0 0 0 0 0 0 11 30 1 8 59 2 50 6 3 1 112 2 45 0 0 0 0 0 0 0 0 101 1 9 65 2 41 5 3 1 8 67 26 11 24 0 0 0 0 0 0 0 35 34 105 103 9 19 15 111 22 11 24 6 3 1 60 2 43 0 0 0 0 29 1 9 18 26 98 6 3 1 12 19 2 46 0 0 0 0 0 0 0 0 61 16 17 13 1 7 83 5 40 13 140 1 7 89 0 0 0 0 0 0 0 3 100 4 74 4 78 6 10 38 0 0 0 0 0 0 0 0 0 0 0 0 4 32 31 1 12 67 37 11 46 6 3 1 8 18 26 11 24 0 0 0 0 62 1 8 92 2 49 6 3 1 66 15 42 0 0 0 0 0 0 0 0 0 27 55 4 78 4 28 6 4 70 0 0 0 0 0 0 0 0 0 0 0 0 135 4 71 6 4 77 0 0 0 0 0 0 0 0 0 0 0 0 0 0 0 7 33 1 12 63 15 111 22 11 24 5 3 95 15 42 0 0 0 0 0 0 7 33 1 8 10 81 2 48 6 3 1 8 63 2 41 0 0 0 0 0 0 29 1 9 22 102 15 25 22 47 5 3 1 58 69 2 50 0 0 0 0 0 20 16 1 13 14 10 82 5 64 13 14 1 7 83 0 0 0 0 0 0 0 11 30 1 12 68 2 24 5 3 1 8 18 2 45 0 0 0 0 0 0 0 129 96 13 14 1 7 83 5 39 13 14 1 84 0 0 0 0 0 0 0 0 135 10 38 4 77 6 4 70 0 0 0 0 0 0 0 0 0 0 0 0 0 3 55 4 28 4 73 6 4 71 0 0 0 0 0 0 0 0 0 0 0 0 35 34 1 8 21 2 48 5 3 1 19 2 56 0 0 0 0 0 0 0 0 11 30 1 12 68 15 25 79 56 5 9 22 102 2 48 0 0 0 0 0 0 99 124 10 38 6 4 75 0 0 0 0 0 0 0 0 0 0 0 0 0 0 29 1 9 58 37 11 44 6 3 95 2 53 0 0 0 0 0 0 0 0 0 29 1 8 19 2 41 6 3 157 26 11 24 0 0 0 0 0 0 0 0 0 7 62 1 9 10 81 2 49 5 3 1 8 18 2 51 0 0 0 0 0 0 36 1 58 26 98 5 3 1 8 21 2 45 0 0 0 0 0 0 0 0 0 40 16 10 23 14 1 84 5 20 23 14 1 10 38 0 0 0 0 0 0 0 27 143 146 165 97 134 0 0 0 0 0 0 0 0 0 0 0 0 0 0 0 7 86 1 61 16 13 14 5 7 88 1 64 13 14 0 0 0 0 0 0 0 11 30 1 8 21 37 11 46 5 3 1 12 92 2 48 0 0 0 0 0 0 115 216 122 20 109 17 13 0 0 0 0 0 0 0 0 0 0 0 0 0 0 107 126 4 77 4 75 6 4 72 0 0 0 0 0 0 0 0 0 0 0 0 107 126 4 78 4 74 6 4 70 0 0 0 0 0 0 0 0 0 0 0 0 3 143 10 248 110 134 0 0 0 0 0 0 0 0 0 0 0 0 0 0 0 11 30 1 10 81 2 45 5 3 1 8 67 2 53 0 0 0 0 0 0 0 35 34 1 9 65 2 52 5 3 1 9 19 2 48 0 0 0 0 0 0 0 27 1 10 344 22 7 224 97 134 0 0 0 0 0 0 0 0 0 0 0 0 62 1 9 19 2 41 5 3 1 12 65 2 56 0 0 0 0 0 0 0 0 10 82 1 64 16 17 13 5 7 88 1 20 13 17 0 0 0 0 0 0 0 35 34 1 10 81 37 11 46 5 3 1 8 63 2 49 0 0 0 0 0 0 27 178 22 167 181 2 62 2 50 0 0 0 0 0 0 0 0 0 0 0 0 4 32 31 1 21 15 25 22 53 6 3 1 12 21 2 41 0 0 0 0 0 27 55 4 71 4 28 6 4 28 76 0 0 0 0 0 0 0 0 0 0 0 3 55 91 10 38 4 71 6 4 28 0 0 0 0 0 0 0 0 0 0 0 20 16 17 1 10 85 5 40 93 1 7 83 0 0 0 0 0 0 0 0 0 7 33 1 9 58 2 49 6 3 1 12 19 2 41 0 0 0 0 0 0 0 263 179 209 141 175 0 0 0 0 0 0 0 0 0 0 0 0 0 0 0 0 4 32 31 1 7 102 2 45 5 3 105 103 9 19 2 52 0 0 0 0 0 7 33 1 12 18 2 43 5 3 95 9 2 49 0 0 0 0 0 0 0 0 62 1 69 21 15 42 5 9 108 177 2 54 0 0 0 0 0 0 0 0 0 36 1 9 117 2 43 6 3 1 8 65 2 44 0 0 0 0 0 0 0 0 4 32 31 1 8 21 2 52 6 3 1 8 57 26 11 24 0 0 0 0 0 64 16 17 1 84 5 20 93 1 7 88 0 0 0 0 0 0 0 0 0 0 20 16 17 13 1 7 80 5 39 17 13 1 7 90 0 0 0 0 0 0 0 99 124 4 72 4 28 6 4 159 0 0 0 0 0 0 0 0 0 0 0 0 35 34 1 21 2 52 5 3 1 8 21 2 54 0 0 0 0 0 0 0 0 7 36 1 8 306 2 50 6 3 1 8 112 2 52 0 0 0 0 0 0 0 4 32 31 1 21 15 25 22 45 5 3 1 8 21 15 42 0 0 0 0 0 40 16 1 13 14 7 80 5 61 13 14 1 7 86 0 0 0 0 0 0 0 35 34 1 12 60 2 51 6 3 1 12 65 2 43 0 0 0 0 0 0 0 7 33 1 9 18 15 25 22 47 5 3 1 8 66 2 51 0 0 0 0 0 35 34 1 12 63 15 111 22 11 24 5 3 1 8 66 2 56 0 0 0 0 33 1 57 2 43 6 3 1 12 19 2 50 0 0 0 0 0 0 0 0 0 29 1 12 59 2 52 6 3 1 9 65 2 45 0 0 0 0 0 0 0 0 20 16 10 23 14 1 10 38 5 61 23 14 1 10 82 0 0 0 0 0 0 135 4 71 4 72 6 10 38 0 0 0 0 0 0 0 0 0 0 0 0 0 39 16 17 1 7 80 5 20 17 1 10 85 0 0 0 0 0 0 0 0 0 7 33 1 9 19 2 48 6 3 1 57 2 50 0 0 0 0 0 0 0 0 11 30 1 8 18 15 25 22 47 6 3 95 9 2 41 0 0 0 0 0 0 7 89 1 20 16 13 14 0 0 0 0 0 0 0 0 0 0 0 0 0 0 62 1 12 63 2 50 5 3 1 12 19 2 48 0 0 0 0 0 0 0 0 35 34 1 63 37 11 44 6 3 1 9 68 2 50 0 0 0 0 0 0 0 64 16 17 1 13 84 5 39 17 13 1 7 90 0 0 0 0 0 0 0 0 29 1 9 125 2 48 6 3 1 67 26 11 24 0 0 0 0 0 0 0 0 29 1 8 18 2 41 6 3 1 9 68 2 43 0 0 0 0 0 0 0 0 27 145 120 148 97 150 0 0 0 0 0 0 0 0 0 0 0 0 0 0 0 146 11 219 122 20 109 10 23 14 0 0 0 0 0 0 0 0 0 0 0 0 99 124 4 71 4 73 6 4 74 0 0 0 0 0 0 0 0 0 0 0 0 35 34 1 7 102 2 41 6 3 1 8 137 2 52 0 0 0 0 0 0 0 29 1 8 112 37 11 46 6 3 1 9 21 2 48 0 0 0 0 0 0 0 3 94 4 71 10 38 6 4 74 0 0 0 0 0 0 0 0 0 0 0 0 106 130 4 73 4 72 6 4 28 76 0 0 0 0 0 0 0 0 0 0 0 27 55 28 76 4 28 6 4 77 0 0 0 0 0 0 0 0 0 0 0 0 4 32 31 1 12 18 2 52 5 3 1 12 21 2 53 0 0 0 0 0 0 33 1 21 2 54 6 3 1 9 57 2 43 0 0 0 0 0 0 0 0 0 27 158 91 144 183 110 172 0 0 0 0 0 0 0 0 0 0 0 0 0 0 3 55 4 70 4 75 6 4 28 0 0 0 0 0 0 0 0 0 0 0 0 3 94 4 70 4 28 6 4 74 0 0 0 0 0 0 0 0 0 0 0 0 29 1 9 66 2 48 5 3 1 9 125 2 44 0 0 0 0 0 0 0 0 11 30 1 12 60 2 51 6 3 1 8 18 26 11 24 0 0 0 0 0 0 3 118 113 144 200 110 133 0 0 0 0 0 0 0 0 0 0 0 0 0 0 99 124 4 78 4 77 6 4 74 0 0 0 0 0 0 0 0 0 0 0 0 40 16 17 13 1 7 83 5 61 13 17 1 7 80 0 0 0 0 0 0 0 62 1 8 104 26 98 5 3 1 60 2 45 0 0 0 0 0 0 0 0 0 20 16 17 1 7 88 5 40 93 1 7 87 0 0 0 0 0 0 0 0 0 27 158 91 7 151 97 153 0 0 0 0 0 0 0 0 0 0 0 0 0 0 36 1 8 66 2 50 6 3 1 12 19 15 42 0 0 0 0 0 0 0 0 7 33 1 10 81 2 43 5 3 1 59 2 47 0 0 0 0 0 0 0 0 39 16 17 1 7 83 5 20 93 1 7 88 0 0 0 0 0 0 0 0 0 4 32 31 1 9 60 15 25 22 51 5 3 1 9 21 2 45 0 0 0 0 101 1 8 18 15 25 22 47 5 3 95 69 2 52 0 0 0 0 0 0 0 7 33 1 8 63 2 48 5 3 1 8 57 2 52 0 0 0 0 0 0 0 107 132 4 71 6 4 28 0 0 0 0 0 0 0 0 0 0 0 0 0 0 11 30 1 9 22 102 2 45 6 3 1 8 18 15 42 0 0 0 0 0 0 27 55 121 148 97 150 0 0 0 0 0 0 0 0 0 0 0 0 0 0 0 4 32 31 1 12 66 2 53 6 3 1 9 58 2 41 0 0 0 0 0 0 10 85 1 64 16 17 13 5 7 89 1 40 17 13 0 0 0 0 0 0 0 35 34 1 9 65 2 48 6 3 1 8 66 15 42 0 0 0 0 0 0 0 7 33 1 9 19 2 45 5 9 108 177 2 43 0 0 0 0 0 0 0 0 35 34 1 18 2 41 6 3 1 8 59 2 54 0 0 0 0 0 0 0 0 27 55 120 97 155 174 0 0 0 0 0 0 0 0 0 0 0 0 0 0 0 4 32 31 1 12 92 37 11 24 5 3 1 9 19 2 53 0 0 0 0 0 4 32 31 1 8 19 37 11 44 6 3 1 8 65 2 49 0 0 0 0 0 29 1 12 92 2 48 6 3 1 21 26 11 24 0 0 0 0 0 0 0 0 4 32 31 1 12 18 2 41 6 3 1 8 66 2 24 0 0 0 0 0 0 61 16 17 1 10 38 5 40 93 1 10 82 0 0 0 0 0 0 0 0 0 4 32 31 1 9 104 26 98 6 3 1 8 57 2 50 0 0 0 0 0 0 263 179 209 141 4 13 175 0 0 0 0 0 0 0 0 0 0 0 0 0 0 7 33 1 8 58 2 41 5 3 1 69 21 2 54 0 0 0 0 0 0 0 36 1 8 137 2 54 5 3 1 12 59 2 49 0 0 0 0 0 0 0 0 106 128 91 4 28 4 78 6 4 77 0 0 0 0 0 0 0 0 0 0 0 40 16 10 23 14 1 10 38 5 39 23 14 1 7 83 0 0 0 0 0 0 62 1 8 67 2 49 5 9 59 2 54 0 0 0 0 0 0 0 0 0 0 7 33 1 8 92 2 50 6 3 1 8 57 2 46 0 0 0 0 0 0 0 4 32 31 1 9 21 15 25 79 54 5 3 1 67 2 53 0 0 0 0 0 29 1 8 18 15 25 79 56 5 3 1 12 19 2 53 0 0 0 0 0 0 7 36 1 8 92 2 54 6 3 1 9 57 2 41 0 0 0 0 0 0 0 11 30 1 12 18 2 24 5 3 1 9 57 2 46 0 0 0 0 0 0 0 11 30 1 19 2 54 5 3 1 12 18 2 56 0 0 0 0 0 0 0 0 106 130 4 73 4 28 6 4 77 0 0 0 0 0 0 0 0 0 0 0 0 235 1 115 290 180 10 277 0 0 0 0 0 0 0 0 0 0 0 0 0 0 35 34 1 10 81 69 26 98 6 3 1 8 59 2 49 0 0 0 0 0 0 36 1 9 10 81 37 11 24 6 3 1 12 18 2 52 0 0 0 0 0 0 61 16 1 13 14 10 85 5 27 1 13 14 7 80 0 0 0 0 0 0 0 62 1 9 7 102 2 52 6 3 1 9 68 2 47 0 0 0 0 0 0 0 101 1 9 195 37 11 44 6 3 1 8 18 26 11 24 0 0 0 0 0 0 40 13 14 1 10 16 22 38 5 39 13 14 1 7 80 0 0 0 0 0 0 29 1 12 67 15 111 22 11 24 6 3 1 21 2 54 0 0 0 0 0 0 35 34 1 8 67 15 42 5 3 1 9 68 2 56 0 0 0 0 0 0 0 20 16 1 13 14 7 80 5 39 13 14 1 7 87 0 0 0 0 0 0 0 3 55 4 70 4 28 76 6 4 78 0 0 0 0 0 0 0 0 0 0 0 7 33 1 9 104 26 98 6 3 1 67 2 41 0 0 0 0 0 0 0 0 27 55 121 151 97 153 0 0 0 0 0 0 0 0 0 0 0 0 0 0 0 7 33 1 12 68 15 42 6 3 1 8 57 2 54 0 0 0 0 0 0 0 62 1 8 60 2 54 6 3 1 8 137 2 51 0 0 0 0 0 0 0 0 7 33 1 9 104 15 42 6 3 1 9 65 2 46 0 0 0 0 0 0 0 4 32 31 1 10 81 69 2 53 5 3 1 9 18 15 42 0 0 0 0 0 10 38 1 64 16 17 13 5 7 80 1 61 13 17 0 0 0 0 0 0 0 106 130 4 73 4 72 6 4 70 0 0 0 0 0 0 0 0 0 0 0 0 129 96 13 14 1 7 86 5 20 13 14 1 84 0 0 0 0 0 0 0 0 4 32 31 1 8 59 2 49 5 3 1 8 65 26 11 24 0 0 0 0 0 106 130 4 28 4 71 6 10 38 0 0 0 0 0 0 0 0 0 0 0 0 84 1 13 39 16 17 5 7 88 1 20 13 17 0 0 0 0 0 0 0 0 27 204 123 15 35 34 0 0 0 0 0 0 0 0 0 0 0 0 0 0 0 27 118 149 121 97 166 154 0 0 0 0 0 0 0 0 0 0 0 0 0 0 7 62 1 10 81 69 2 45 6 3 1 12 92 2 56 0 0 0 0 0 0 20 16 1 13 14 10 85 5 40 13 14 1 7 88 0 0 0 0 0 0 0 7 201 1 20 109 17 13 0 0 0 0 0 0 0 0 0 0 0 0 0 0 29 1 21 15 25 22 47 6 3 103 19 15 42 0 0 0 0 0 0 0 0 35 34 1 60 15 25 22 45 5 3 1 65 26 11 24 0 0 0 0 0 0 11 30 1 63 15 111 22 11 24 6 3 1 8 67 2 54 0 0 0 0 0 3 55 91 4 73 4 28 76 6 72 0 0 0 0 0 0 0 0 0 0 0 40 16 10 23 14 1 7 86 5 20 23 14 1 7 87 0 0 0 0 0 0 29 1 8 18 15 42 6 3 1 8 21 2 43 0 0 0 0 0 0 0 0 10 85 1 20 16 17 13 5 10 82 1 64 13 17 0 0 0 0 0 0 0 4 32 31 1 8 65 2 41 6 3 103 19 2 49 0 0 0 0 0 0 0 11 30 1 9 60 26 98 5 3 1 12 63 2 50 0 0 0 0 0 0 0 61 13 14 16 1 10 82 5 39 13 14 1 7 80 0 0 0 0 0 0 0 106 128 91 4 78 4 28 76 6 4 71 0 0 0 0 0 0 0 0 0 0 7 90 1 20 16 13 14 5 10 38 253 1 13 14 0 0 0 0 0 0 0 36 1 9 138 2 51 6 3 1 12 63 2 49 0 0 0 0 0 0 0 0 64 16 17 1 13 7 86 0 0 0 0 0 0 0 0 0 0 0 0 0 0 7 86 1 20 16 17 13 5 7 88 1 64 13 140 0 0 0 0 0 0 0 4 32 31 1 58 8 15 25 22 45 6 3 1 67 2 54 0 0 0 0 0 29 1 8 21 15 25 22 51 6 3 1 60 2 41 0 0 0 0 0 0 0 35 34 1 12 63 2 51 6 3 103 19 2 44 0 0 0 0 0 0 0 0 29 1 9 67 15 25 79 56 5 3 1 9 125 2 52 0 0 0 0 0 0 101 1 8 67 2 53 5 3 1 19 2 51 0 0 0 0 0 0 0 0 0 20 16 17 13 1 7 80 5 39 17 1 10 13 38 0 0 0 0 0 0 0 61 16 17 1 7 83 5 20 93 1 7 88 0 0 0 0 0 0 0 0 0 35 34 1 8 63 37 11 46 5 3 1 12 60 2 49 0 0 0 0 0 0 35 34 1 9 58 26 98 5 3 1 9 18 2 53 0 0 0 0 0 0 0 3 113 121 168 97 133 0 0 0 0 0 0 0 0 0 0 0 0 0 0 0 11 30 1 8 59 2 49 5 3 1 21 2 44 0 0 0 0 0 0 0 0 3 100 4 75 4 72 4 28 6 4 0 0 0 0 0 0 0 0 0 0 0 7 87 1 64 16 13 14 5 7 90 1 20 13 14 0 0 0 0 0 0 0 7 80 1 40 16 10 23 14 5 7 90 1 64 23 14 0 0 0 0 0 0 36 1 7 102 15 42 6 3 1 12 19 2 53 0 0 0 0 0 0 0 0 29 1 12 18 2 45 5 3 1 12 60 2 48 0 0 0 0 0 0 0 0 29 1 12 63 37 11 44 5 3 1 9 18 2 52 0 0 0 0 0 0 0 29 1 60 15 111 285 42 6 3 1 8 21 2 45 0 0 0 0 0 0 0 62 1 8 19 15 25 79 56 6 3 1 8 92 15 42 0 0 0 0 0 0 116 160 171 1 196 22 164 161 186 6 189 0 0 0 0 0 0 0 0 0 0 4 32 31 1 8 66 2 41 5 3 1 18 2 48 0 0 0 0 0 0 0 36 1 8 67 2 41 5 3 1 21 2 53 0 0 0 0 0 0 0 0 0 27 55 4 71 4 74 6 4 77 0 0 0 0 0 0 0 0 0 0 0 0 36 1 9 22 102 37 11 46 6 3 1 68 2 53 0 0 0 0 0 0 0 36 1 12 67 2 54 5 3 1 68 2 41 0 0 0 0 0 0 0 0 0 3 55 146 11 193 150 165 0 0 0 0 0 0 0 0 0 0 0 0 0 0 3 55 91 28 76 4 77 6 4 75 0 0 0 0 0 0 0 0 0 0 0 7 90 1 61 16 17 13 5 7 89 1 20 13 17 0 0 0 0 0 0 0 29 1 8 19 2 54 5 3 1 57 2 49 0 0 0 0 0 0 0 0 0 7 33 1 8 18 2 48 5 3 1 9 57 2 47 0 0 0 0 0 0 0 4 32 31 1 12 18 15 111 22 11 24 6 3 1 58 8 2 45 0 0 0 170 141 131 108 258 4 23 206 0 0 0 0 0 0 0 0 0 0 0 0 0 107 126 4 28 4 74 6 4 72 0 0 0 0 0 0 0 0 0 0 0 0 107 132 4 28 4 77 6 4 74 0 0 0 0 0 0 0 0 0 0 0 0 39 16 10 23 14 1 7 83 5 20 23 14 1 10 38 0 0 0 0 0 0 36 1 60 15 25 79 56 6 3 1 9 21 2 53 0 0 0 0 0 0 0 3 113 121 151 97 133 0 0 0 0 0 0 0 0 0 0 0 0 0 0 0 4 32 31 1 10 81 69 15 25 22 45 5 3 1 12 60 2 43 0 0 0 29 1 9 104 37 11 44 6 3 95 69 2 51 0 0 0 0 0 0 0 0 29 1 58 69 15 25 22 51 5 3 1 9 117 15 42 0 0 0 0 0 0 4 32 31 1 9 18 15 25 22 47 5 3 1 8 65 2 44 0 0 0 0 62 1 8 92 2 24 6 3 1 8 65 2 49 0 0 0 0 0 0 0 0 101 1 19 37 11 44 5 3 1 65 2 51 0 0 0 0 0 0 0 0 0 20 109 10 23 14 122 146 7 201 0 0 0 0 0 0 0 0 0 0 0 0 7 86 1 64 16 10 23 119 5 10 82 1 61 23 14 0 0 0 0 0 0 11 30 1 9 67 15 25 22 47 5 3 1 21 2 50 0 0 0 0 0 0 7 33 1 8 60 15 25 22 45 5 3 1 9 57 2 54 0 0 0 0 0 7 87 1 10 16 10 23 119 5 10 85 27 1 10 23 14 0 0 0 0 0 39 16 17 1 13 7 89 5 64 13 17 1 10 38 0 0 0 0 0 0 0 3 55 10 38 4 73 6 4 28 0 0 0 0 0 0 0 0 0 0 0 0 4 32 31 1 9 66 37 11 44 6 3 1 8 65 2 41 0 0 0 0 0 35 34 1 10 81 2 51 5 3 1 67 2 45 0 0 0 0 0 0 0 0 99 124 4 71 4 28 6 4 74 0 0 0 0 0 0 0 0 0 0 0 0 7 89 1 20 16 13 14 5 7 86 27 1 13 14 0 0 0 0 0 0 0 62 1 57 2 48 6 3 1 8 67 2 53 0 0 0 0 0 0 0 0 0 7 33 1 9 65 2 41 6 3 1 8 18 2 44 0 0 0 0 0 0 0 62 105 103 9 19 2 53 5 3 1 8 18 2 48 0 0 0 0 0 0 0 99 124 4 70 4 74 6 4 71 0 0 0 0 0 0 0 0 0 0 0 0 40 109 10 23 14 122 121 201 0 0 0 0 0 0 0 0 0 0 0 0 0 7 36 1 12 59 15 25 22 47 5 3 1 12 57 2 24 0 0 0 0 0 27 55 4 70 10 38 6 4 73 0 0 0 0 0 0 0 0 0 0 0 0 35 34 1 12 18 2 43 5 3 1 63 2 48 0 0 0 0 0 0 0 0 4 32 31 1 12 92 37 11 46 5 3 1 12 68 2 49 0 0 0 0 0 106 130 4 73 6 4 77 0 0 0 0 0 0 0 0 0 0 0 0 0 0 62 1 12 19 2 45 6 3 1 18 2 49 0 0 0 0 0 0 0 0 0 3 55 4 73 4 71 6 4 77 0 0 0 0 0 0 0 0 0 0 0 0 3 100 4 75 28 76 6 10 38 0 0 0 0 0 0 0 0 0 0 0 0 101 1 60 15 25 22 47 6 3 1 9 18 2 52 0 0 0 0 0 0 0 135 4 74 4 78 6 4 28 0 0 0 0 0 0 0 0 0 0 0 0 0 33 1 59 15 25 22 47 6 3 1 63 26 11 24 0 0 0 0 0 0 0 29 1 65 37 11 44 5 3 1 9 57 15 42 0 0 0 0 0 0 0 0 33 105 103 9 19 37 11 44 6 3 1 65 2 49 0 0 0 0 0 0 0 29 1 9 65 37 11 46 5 3 1 12 18 2 48 0 0 0 0 0 0 0 107 208 120 254 2 36 2 51 0 0 0 0 0 0 0 0 0 0 0 0 0 7 86 1 20 16 17 5 7 80 1 39 17 0 0 0 0 0 0 0 0 0 152 96 10 23 14 1 84 5 39 23 14 1 7 89 0 0 0 0 0 0 0 152 96 10 23 14 1 7 86 5 39 23 14 1 7 89 0 0 0 0 0 0 39 16 1 13 14 7 80 5 64 13 14 1 7 88 0 0 0 0 0 0 0 11 30 1 8 18 2 43 6 3 1 8 10 81 2 52 0 0 0 0 0 0 10 38 1 20 13 14 108 96 5 7 80 1 40 13 14 0 0 0 0 0 0 40 16 10 23 14 1 7 86 0 0 0 0 0 0 0 0 0 0 0 0 0 107 132 4 78 4 71 6 4 28 0 0 0 0 0 0 0 0 0 0 0 0 7 36 1 8 57 15 25 79 56 5 3 1 58 69 2 43 0 0 0 0 0 27 118 113 121 168 97 134 0 0 0 0 0 0 0 0 0 0 0 0 0 0 27 118 113 121 168 97 162 0 0 0 0 0 0 0 0 0 0 0 0 0 0 62 1 12 57 2 54 6 3 1 12 60 2 48 0 0 0 0 0 0 0 0 11 30 1 69 65 15 25 22 47 6 3 1 12 21 15 42 0 0 0 0 0 29 1 8 19 15 42 6 3 1 12 18 2 45 0 0 0 0 0 0 0 0 3 55 91 4 75 4 78 6 28 0 0 0 0 0 0 0 0 0 0 0 0 7 33 1 8 58 37 11 44 6 3 1 12 65 2 56 0 0 0 0 0 0 11 30 1 249 15 25 79 56 5 3 1 12 21 26 11 24 0 0 0 0 0 35 34 1 12 19 15 42 5 3 1 9 18 2 45 0 0 0 0 0 0 0 7 88 1 61 16 13 14 5 7 86 27 1 13 14 0 0 0 0 0 0 0 29 1 66 2 49 5 3 1 12 65 2 44 0 0 0 0 0 0 0 0 0 99 127 4 73 4 74 6 4 28 76 0 0 0 0 0 0 0 0 0 0 0 33 1 58 37 11 44 5 3 1 68 2 53 0 0 0 0 0 0 0 0 0 27 158 91 7 151 97 153 0 0 0 0 0 0 0 0 0 0 0 0 0 0 7 90 1 20 16 17 5 10 82 1 39 17 0 0 0 0 0 0 0 0 0 205 229 99 10 277 0 0 0 0 0 0 0 0 0 0 0 0 0 0 0 0 20 16 17 1 7 89 5 20 17 1 10 85 0 0 0 0 0 0 0 0 0 7 33 1 12 63 15 42 6 3 1 8 60 2 54 0 0 0 0 0 0 0 62 1 9 19 2 43 5 3 1 60 2 41 0 0 0 0 0 0 0 0 0 10 85 1 39 16 17 13 5 7 87 1 7 13 140 0 0 0 0 0 0 0 7 33 1 12 67 2 43 5 3 1 8 59 2 51 0 0 0 0 0 0 0 7 80 1 39 16 17 5 7 83 1 20 93 0 0 0 0 0 0 0 0 0 10 85 1 61 16 10 23 14 5 10 82 1 7 23 242 0 0 0 0 0 0 7 90 1 13 39 16 17 5 10 82 1 20 13 17 0 0 0 0 0 0 0 29 1 19 2 49 5 3 1 18 2 46 0 0 0 0 0 0 0 0 0 0 20 16 17 13 1 7 89 5 40 13 17 1 7 83 0 0 0 0 0 0 0 40 16 10 23 14 1 7 88 5 39 23 14 1 7 80 0 0 0 0 0 0 29 1 12 19 2 48 6 3 1 8 139 2 50 0 0 0 0 0 0 0 0 84 1 13 39 16 17 5 7 87 1 7 13 140 0 0 0 0 0 0 0 0 27 55 4 28 6 4 159 0 0 0 0 0 0 0 0 0 0 0 0 0 0 29 1 8 66 15 25 22 47 5 3 1 67 2 46 0 0 0 0 0 0 0 3 143 120 97 134 165 0 0 0 0 0 0 0 0 0 0 0 0 0 0 0 36 1 8 63 37 11 24 6 3 1 12 65 2 53 0 0 0 0 0 0 0 116 100 91 4 71 4 70 6 4 28 76 0 0 0 0 0 0 0 0 0 0 62 1 12 18 2 41 5 3 1 8 57 2 52 0 0 0 0 0 0 0 0 7 33 1 104 15 25 22 47 6 3 1 60 2 48 0 0 0 0 0 0 0 62 1 8 59 2 43 5 3 1 66 2 53 0 0 0 0 0 0 0 0 0 7 33 1 8 104 2 53 6 3 1 57 9 26 11 24 0 0 0 0 0 0 35 34 1 8 18 2 49 5 3 1 8 57 2 24 0 0 0 0 0 0 0 7 33 1 12 92 2 50 5 3 95 69 2 51 0 0 0 0 0 0 0 0 106 130 4 74 6 4 72 0 0 0 0 0 0 0 0 0 0 0 0 0 0 4 32 31 1 8 60 2 54 5 3 1 12 18 2 53 0 0 0 0 0 0 4 32 31 1 112 2 54 6 3 1 68 2 51 0 0 0 0 0 0 0 0 27 94 4 73 4 28 76 6 72 0 0 0 0 0 0 0 0 0 0 0 0 29 1 8 18 2 53 6 3 103 19 2 47 0 0 0 0 0 0 0 0 0 99 240 123 2 36 2 52 114 0 0 0 0 0 0 0 0 0 0 0 0 0 39 16 17 1 84 5 20 17 1 7 87 0 0 0 0 0 0 0 0 0 0 7 62 1 8 10 81 2 43 6 3 1 12 68 2 46 0 0 0 0 0 0 29 1 12 68 15 42 5 3 1 65 2 46 0 0 0 0 0 0 0 0 0 101 1 58 69 26 98 6 3 1 9 19 2 49 0 0 0 0 0 0 0 0 20 109 10 23 156 122 10 221 0 0 0 0 0 0 0 0 0 0 0 0 0 27 94 115 110 182 169 0 0 0 0 0 0 0 0 0 0 0 0 0 0 0 7 62 1 9 58 15 42 5 3 1 8 66 2 41 0 0 0 0 0 0 0 35 34 1 9 10 81 37 11 44 5 3 1 112 2 47 0 0 0 0 0 0 7 87 1 61 16 13 14 5 10 82 1 40 13 14 0 0 0 0 0 0 0 35 34 1 10 81 37 11 24 6 3 1 63 2 46 0 0 0 0 0 0 0 62 1 63 15 25 79 56 6 3 1 12 21 2 50 0 0 0 0 0 0 0 135 4 73 4 159 6 4 71 0 0 0 0 0 0 0 0 0 0 0 0 0 11 30 1 10 81 69 2 50 6 3 1 9 57 2 56 0 0 0 0 0 0 7 87 1 7 13 14 108 96 5 7 90 1 40 13 14 0 0 0 0 0 0 116 100 91 4 75 4 78 6 28 0 0 0 0 0 0 0 0 0 0 0 0 27 55 4 77 4 71 6 4 78 0 0 0 0 0 0 0 0 0 0 0 0 106 128 91 4 77 4 78 6 4 74 0 0 0 0 0 0 0 0 0 0 0 7 33 1 8 18 15 42 6 3 1 59 2 54 0 0 0 0 0 0 0 0 35 34 1 8 66 2 54 5 3 1 12 18 2 51 0 0 0 0 0 0 0 7 86 1 61 16 17 13 5 7 87 1 64 13 140 0 0 0 0 0 0 0 20 16 17 1 13 10 82 5 40 13 17 1 10 38 0 0 0 0 0 0 0 4 32 31 1 8 66 2 48 6 3 1 12 21 2 41 0 0 0 0 0 0 62 1 8 21 2 45 6 3 103 19 2 53 0 0 0 0 0 0 0 0 0 3 158 91 144 110 166 154 0 0 0 0 0 0 0 0 0 0 0 0 0 0 3 178 22 136 29 15 42 0 0 0 0 0 0 0 0 0 0 0 0 0 0 10 82 1 40 16 10 23 14 5 7 87 1 7 23 242 0 0 0 0 0 0 40 16 17 1 13 7 88 5 64 13 17 1 7 80 0 0 0 0 0 0 0 62 1 9 104 26 98 6 3 1 19 2 44 0 0 0 0 0 0 0 0 0 29 1 12 63 2 45 6 3 1 8 21 2 52 0 0 0 0 0 0 0 0 152 96 10 23 14 1 10 38 5 40 23 14 1 84 0 0 0 0 0 0 0 39 109 17 1 13 10 221 0 0 0 0 0 0 0 0 0 0 0 0 0 0 7 87 1 10 16 10 23 14 64 5 10 82 1 39 23 14 0 0 0 0 0 4 32 31 1 8 66 2 49 6 3 1 12 68 2 51 0 0 0 0 0 0 11 30 1 12 19 37 11 24 6 3 1 9 65 2 54 0 0 0 0 0 0 62 1 66 2 50 6 3 1 9 57 2 45 0 0 0 0 0 0 0 0 0 4 32 31 1 67 26 98 6 3 1 12 18 2 43 0 0 0 0 0 0 0 27 55 10 184 110 133 0 0 0 0 0 0 0 0 0 0 0 0 0 0 0 7 33 1 12 67 2 49 5 3 1 65 2 46 0 0 0 0 0 0 0 0 7 87 1 40 13 14 108 96 5 84 27 1 13 14 0 0 0 0 0 0 0 20 16 1 13 14 10 85 5 39 13 14 1 10 38 0 0 0 0 0 0 0 3 94 4 28 4 74 6 4 70 0 0 0 0 0 0 0 0 0 0 0 0 27 1 234 2 48 142 2 62 0 0 0 0 0 0 0 0 0 0 0 0 0 7 33 1 8 59 2 52 5 3 1 9 117 2 41 0 0 0 0 0 0 0 35 34 1 10 81 69 15 25 22 51 6 3 1 9 68 2 56 0 0 0 0 11 30 1 12 60 2 50 6 3 1 57 2 43 0 0 0 0 0 0 0 0 11 30 1 9 26 63 15 42 5 3 1 19 2 43 0 0 0 0 0 0 0 61 16 17 1 7 83 5 20 17 1 10 38 0 0 0 0 0 0 0 0 0 152 96 10 23 14 1 10 85 5 64 23 14 1 7 90 0 0 0 0 0 0 101 1 12 59 2 51 5 3 1 18 2 49 0 0 0 0 0 0 0 0 0 29 1 66 15 42 5 3 1 58 2 45 0 0 0 0 0 0 0 0 0 0 101 1 9 60 2 43 5 9 22 102 26 11 24 0 0 0 0 0 0 0 0 7 33 1 12 59 2 51 6 3 1 9 104 26 11 24 0 0 0 0 0 0 29 1 21 26 98 6 3 1 8 67 2 48 0 0 0 0 0 0 0 0 0 7 33 1 8 18 2 46 6 3 1 8 60 2 50 0 0 0 0 0 0 0 29 1 9 22 102 2 52 6 3 1 8 68 15 42 0 0 0 0 0 0 0 64 16 17 1 7 90 5 39 17 1 10 82 0 0 0 0 0 0 0 0 0 27 55 4 77 4 71 6 4 72 0 0 0 0 0 0 0 0 0 0 0 0 3 55 91 6 28 76 298 0 0 0 0 0 0 0 0 0 0 0 0 0 0 35 34 1 9 60 2 54 5 3 1 9 117 2 49 0 0 0 0 0 0 0 29 1 12 65 2 45 6 3 1 12 57 26 11 24 0 0 0 0 0 0 0 4 32 31 1 65 2 51 6 3 1 8 58 2 41 0 0 0 0 0 0 0 7 33 1 12 19 2 50 6 3 1 12 57 2 24 0 0 0 0 0 0 0 3 158 91 121 97 134 154 0 0 0 0 0 0 0 0 0 0 0 0 0 0 4 32 31 1 9 63 2 48 6 3 1 12 60 2 49 0 0 0 0 0 0 10 85 1 39 16 13 14 5 7 80 27 1 13 14 0 0 0 0 0 0 0 20 109 10 23 14 122 146 218 0 0 0 0 0 0 0 0 0 0 0 0 0 4 32 31 1 9 21 15 25 22 51 6 3 1 12 57 2 56 0 0 0 0 3 94 4 28 28 76 6 4 75 0 0 0 0 0 0 0 0 0 0 0 0 64 16 17 1 7 86 0 0 0 0 0 0 0 0 0 0 0 0 0 0 0 10 82 1 20 16 17 13 5 10 85 1 40 17 13 0 0 0 0 0 0 0 7 62 1 9 10 81 15 42 5 3 157 26 11 24 0 0 0 0 0 0 0 106 130 4 74 4 72 6 4 73 0 0 0 0 0 0 0 0 0 0 0 0 29 1 8 19 2 51 5 9 108 177 2 50 0 0 0 0 0 0 0 0 0 29 1 8 21 15 25 22 51 5 3 1 19 26 11 24 0 0 0 0 0 0 4 32 31 1 18 15 25 22 47 6 3 1 57 2 51 0 0 0 0 0 0 135 4 74 4 71 6 4 72 0 0 0 0 0 0 0 0 0 0 0 0 0 35 34 1 8 66 2 52 5 3 1 57 2 45 0 0 0 0 0 0 0 0 20 16 10 23 14 1 10 85 5 64 23 14 1 84 0 0 0 0 0 0 0 7 33 1 8 21 37 11 24 5 3 1 9 21 2 50 0 0 0 0 0 0 33 1 59 2 51 6 3 1 9 21 2 53 0 0 0 0 0 0 0 0 0 29 1 10 81 69 2 41 6 3 1 8 19 2 56 0 0 0 0 0 0 0 35 34 1 18 26 98 5 3 1 9 18 2 48 0 0 0 0 0 0 0 0 33 1 63 2 48 5 3 1 112 15 25 79 56 0 0 0 0 0 0 0 0 10 85 1 61 16 10 23 119 5 10 38 1 10 23 14 0 0 0 0 0 0 99 127 38 28 76 6 4 28 0 0 0 0 0 0 0 0 0 0 0 0 0 29 1 67 37 11 46 5 3 1 8 21 26 11 24 0 0 0 0 0 0 0 29 1 8 63 37 11 24 5 3 1 12 60 15 42 0 0 0 0 0 0 0 7 36 1 58 69 37 11 44 5 3 1 8 63 26 11 24 0 0 0 0 0 152 96 10 23 14 1 84 5 39 23 14 1 7 83 0 0 0 0 0 0 0 27 55 4 73 4 72 6 4 74 0 0 0 0 0 0 0 0 0 0 0 0 29 1 9 59 26 98 5 3 1 9 19 2 48 0 0 0 0 0 0 0 0 40 16 17 1 7 86 5 20 93 1 7 88 0 0 0 0 0 0 0 0 0 29 1 9 65 2 49 6 3 1 8 137 2 48 0 0 0 0 0 0 0 0 64 16 17 1 13 7 80 5 20 13 17 1 7 89 0 0 0 0 0 0 0 4 32 31 1 19 37 11 24 5 3 1 12 57 2 45 0 0 0 0 0 0 3 160 171 1 198 22 164 189 250 11 185 0 0 0 0 0 0 0 0 0 0 11 30 1 10 81 69 37 11 46 6 3 1 63 2 43 0 0 0 0 0 0 7 33 1 9 68 2 54 5 3 1 19 2 46 0 0 0 0 0 0 0 0 235 294 116 26 29 0 0 0 0 0 0 0 0 0 0 0 0 0 0 0 0 7 33 1 12 68 15 25 22 51 5 3 95 2 48 0 0 0 0 0 0 0 27 160 146 303 197 22 164 189 15 186 0 0 0 0 0 0 0 0 0 0 0 99 124 4 77 4 74 6 4 78 0 0 0 0 0 0 0 0 0 0 0 0 29 1 8 92 2 54 5 3 1 8 65 26 11 24 0 0 0 0 0 0 0 62 1 65 2 51 6 3 1 58 69 2 50 0 0 0 0 0 0 0 0 0 11 30 1 9 104 26 98 6 3 1 9 66 2 51 0 0 0 0 0 0 0 101 1 9 59 37 11 46 6 3 157 2 52 0 0 0 0 0 0 0 0 0 7 36 1 10 81 69 37 11 46 5 3 1 58 2 49 0 0 0 0 0 0 61 13 14 16 1 7 86 5 39 13 14 1 7 89 0 0 0 0 0 0 0 11 30 1 9 60 2 48 6 3 95 9 2 44 0 0 0 0 0 0 0 0 11 30 1 8 137 15 25 79 56 6 3 1 12 21 2 49 0 0 0 0 0 36 1 9 58 37 11 44 6 3 1 63 26 11 24 0 0 0 0 0 0 0 10 38 1 64 16 13 14 5 7 90 27 1 13 14 0 0 0 0 0 0 0 33 1 67 15 42 5 3 1 12 19 2 54 0 0 0 0 0 0 0 0 0 10 38 1 20 16 10 23 14 5 7 90 27 1 10 23 14 0 0 0 0 0 27 55 10 38 4 78 6 4 28 0 0 0 0 0 0 0 0 0 0 0 0 27 145 120 151 97 150 0 0 0 0 0 0 0 0 0 0 0 0 0 0 0 3 55 4 70 4 77 6 10 38 0 0 0 0 0 0 0 0 0 0 0 0 11 30 1 8 18 2 45 6 3 1 9 63 2 50 0 0 0 0 0 0 0 129 96 10 23 14 1 10 38 5 40 23 14 1 7 90 0 0 0 0 0 0 61 16 17 1 13 10 85 5 64 13 93 1 7 90 0 0 0 0 0 0 0 36 1 21 15 25 22 45 6 3 1 9 57 2 49 0 0 0 0 0 0 0 29 1 8 92 2 50 5 3 1 12 68 2 48 0 0 0 0 0 0 0 0 20 16 17 13 1 7 90 5 39 17 13 1 7 80 0 0 0 0 0 0 0 27 55 4 70 4 78 6 4 28 0 0 0 0 0 0 0 0 0 0 0 0 35 34 1 9 117 2 52 5 3 1 59 15 42 0 0 0 0 0 0 0 0 36 1 21 15 25 22 45 5 3 1 9 21 2 43 0 0 0 0 0 0 0 7 33 1 9 58 37 11 44 5 3 1 12 18 2 54 0 0 0 0 0 0 40 16 17 1 10 85 5 64 93 1 7 80 0 0 0 0 0 0 0 0 0 4 32 31 1 9 21 2 52 5 3 1 65 2 44 0 0 0 0 0 0 0 152 96 10 23 14 1 10 85 5 39 23 14 1 7 86 0 0 0 0 0 0 27 94 4 70 6 4 78 0 0 0 0 0 0 0 0 0 0 0 0 0 0 35 34 1 12 67 2 48 5 3 1 18 15 42 0 0 0 0 0 0 0 0 7 86 1 20 13 14 108 96 5 7 90 1 64 13 14 0 0 0 0 0 0 11 30 1 8 57 15 25 22 45 5 3 1 9 125 2 52 0 0 0 0 0 4 257 131 170 141 4 13 175 0 0 0 0 0 0 0 0 0 0 0 0 0 7 90 1 39 13 14 108 96 5 7 83 1 20 13 14 0 0 0 0 0 0 10 85 1 7 13 14 108 96 5 7 90 1 40 13 14 0 0 0 0 0 0 4 32 31 1 58 8 2 53 6 3 1 12 67 2 52 0 0 0 0 0 0 7 33 1 12 18 15 42 6 3 1 12 92 26 11 24 0 0 0 0 0 0 116 160 146 7 194 161 10 187 6 10 186 1 196 0 0 0 0 0 0 0 0 99 127 4 71 28 76 6 4 77 0 0 0 0 0 0 0 0 0 0 0 0 115 217 122 40 109 10 23 14 0 0 0 0 0 0 0 0 0 0 0 0 0 27 94 10 110 133 169 0 0 0 0 0 0 0 0 0 0 0 0 0 0 0 36 1 9 10 81 37 11 44 6 3 1 69 21 2 51 0 0 0 0 0 0 20 16 17 1 7 89 0 0 0 0 0 0 0 0 0 0 0 0 0 0 0 10 82 1 39 16 17 13 5 7 89 1 61 13 17 0 0 0 0 0 0 0 29 1 8 18 2 49 5 3 1 8 65 2 53 0 0 0 0 0 0 0 0 29 1 12 65 2 52 5 3 1 12 19 2 47 0 0 0 0 0 0 0 0 20 16 17 1 7 87 5 40 93 1 7 89 0 0 0 0 0 0 0 0 0 61 16 17 1 7 90 5 20 17 1 7 80 0 0 0 0 0 0 0 0 0 36 1 8 67 2 49 5 3 1 12 60 15 42 0 0 0 0 0 0 0 0 7 33 1 60 2 53 5 3 1 8 19 2 43 0 0 0 0 0 0 0 0 29 1 9 10 81 2 53 6 3 1 8 18 2 48 0 0 0 0 0 0 0 35 34 1 9 63 2 52 6 3 1 9 68 2 53 0 0 0 0 0 0 0 27 55 120 147 97 162 0 0 0 0 0 0 0 0 0 0 0 0 0 0 0 3 100 4 72 4 74 6 4 28 76 0 0 0 0 0 0 0 0 0 0 0 4 32 31 1 249 26 98 5 3 1 8 66 2 47 0 0 0 0 0 0 0 11 30 1 249 15 25 22 48 5 3 1 12 63 26 11 24 0 0 0 0 0 7 80 1 20 16 17 13 5 7 89 1 39 17 13 0 0 0 0 0 0 0 36 1 9 22 225 26 98 6 3 1 8 21 15 42 0 0 0 0 0 0 0 29 1 63 37 11 46 6 3 1 21 26 11 24 0 0 0 0 0 0 0 0 20 16 17 1 13 10 82 5 20 13 17 1 7 83 0 0 0 0 0 0 0 11 30 1 69 65 15 25 22 47 6 3 1 9 60 2 53 0 0 0 0 0 29 1 8 57 2 53 5 3 1 9 26 63 2 54 0 0 0 0 0 0 0 27 94 4 28 28 76 6 4 77 0 0 0 0 0 0 0 0 0 0 0 0 3 55 4 28 4 71 6 4 75 0 0 0 0 0 0 0 0 0 0 0 0 11 30 1 9 67 37 11 46 5 3 1 8 57 2 54 0 0 0 0 0 0 4 32 31 1 12 59 26 98 5 3 1 8 67 2 54 0 0 0 0 0 0 62 1 8 63 2 50 6 3 1 9 18 15 42 0 0 0 0 0 0 0 0 27 55 91 28 76 4 75 6 4 78 0 0 0 0 0 0 0 0 0 0 0 35 34 1 57 2 54 6 3 1 9 22 102 2 53 0 0 0 0 0 0 0 4 32 31 105 131 9 190 2 49 6 3 1 9 19 2 44 0 0 0 0 0 99 124 4 28 4 78 6 4 70 0 0 0 0 0 0 0 0 0 0 0 0 3 55 91 120 168 97 150 0 0 0 0 0 0 0 0 0 0 0 0 0 0 62 1 8 68 2 41 5 3 1 8 65 2 51 0 0 0 0 0 0 0 0 27 94 4 28 38 6 4 70 0 0 0 0 0 0 0 0 0 0 0 0 0 27 94 4 78 4 72 6 10 38 0 0 0 0 0 0 0 0 0 0 0 0 29 1 9 21 15 25 22 51 6 3 1 57 9 2 44 0 0 0 0 0 0 35 34 1 104 2 48 6 3 1 65 2 52 0 0 0 0 0 0 0 0 0 7 87 1 40 16 10 23 14 5 10 85 27 1 10 23 14 0 0 0 0 0 39 13 14 108 96 1 7 87 5 61 13 14 1 7 90 0 0 0 0 0 0 27 55 7 168 97 155 0 0 0 0 0 0 0 0 0 0 0 0 0 0 0 20 16 1 13 14 10 82 5 27 1 13 14 7 86 0 0 0 0 0 0 0 101 1 9 60 2 53 5 3 1 9 19 15 42 0 0 0 0 0 0 0 0 35 34 1 12 57 2 41 5 3 1 8 58 2 53 0 0 0 0 0 0 0 4 32 31 1 12 18 26 98 6 3 1 8 10 81 2 48 0 0 0 0 0 7 89 1 64 16 17 5 10 38 1 40 93 0 0 0 0 0 0 0 0 0 106 130 10 38 6 4 74 0 0 0 0 0 0 0 0 0 0 0 0 0 0 27 180 173 32 31 2 43 114 0 0 0 0 0 0 0 0 0 0 0 0 0 205 131 99 91 123 2 33 0 0 0 0 0 0 0 0 0 0 0 0 0 0 35 34 1 8 65 2 53 5 3 1 67 15 42 0 0 0 0 0 0 0 0 7 36 1 8 19 37 11 44 5 3 1 9 57 2 51 0 0 0 0 0 0 101 1 60 15 25 22 45 5 3 1 8 65 15 42 0 0 0 0 0 0 0 29 1 8 65 37 11 44 6 3 1 9 21 26 11 24 0 0 0 0 0 0 33 1 66 37 11 44 6 3 1 9 63 2 48 0 0 0 0 0 0 0 0 29 1 8 18 2 45 6 3 1 67 2 52 0 0 0 0 0 0 0 0 0 20 16 17 13 1 7 80 5 20 13 17 1 10 82 0 0 0 0 0 0 0 255 122 40 254 26 29 2 51 142 0 0 0 0 0 0 0 0 0 0 0 0 101 1 8 67 15 25 22 47 5 3 1 12 18 2 45 0 0 0 0 0 0 29 1 12 19 15 111 285 42 6 3 1 8 21 2 48 0 0 0 0 0 0 11 30 1 9 66 37 11 44 6 3 1 12 57 2 51 0 0 0 0 0 0 7 33 1 8 63 37 11 24 6 3 1 8 10 81 2 52 0 0 0 0 0 27 143 120 148 97 150 0 0 0 0 0 0 0 0 0 0 0 0 0 0 0 36 1 9 66 15 25 22 51 5 3 1 12 92 26 11 24 0 0 0 0 0 20 16 17 13 1 7 80 5 39 17 13 1 7 87 0 0 0 0 0 0 0 27 94 4 71 4 73 6 4 77 0 0 0 0 0 0 0 0 0 0 0 0 116 100 91 4 77 10 38 6 4 70 0 0 0 0 0 0 0 0 0 0 0 7 33 1 8 92 26 98 6 3 1 8 10 81 2 50 0 0 0 0 0 0 3 94 4 71 4 78 6 4 70 0 0 0 0 0 0 0 0 0 0 0 0 35 34 1 12 18 2 24 5 3 1 58 69 2 46 0 0 0 0 0 0 0 35 34 1 19 15 25 22 47 6 3 1 9 58 2 54 0 0 0 0 0 0 4 32 31 1 58 8 2 50 5 3 1 9 60 26 11 24 0 0 0 0 0 3 143 115 184 110 182 0 0 0 0 0 0 0 0 0 0 0 0 0 0 0 106 130 4 70 4 77 6 4 28 0 0 0 0 0 0 0 0 0 0 0 0 11 30 1 9 117 2 53 6 3 1 8 19 2 43 0 0 0 0 0 0 0 62 1 63 37 11 46 5 3 1 9 18 2 49 0 0 0 0 0 0 0 0 3 94 4 28 4 74 6 4 72 0 0 0 0 0 0 0 0 0 0 0 0 106 128 91 4 72 4 73 6 10 38 0 0 0 0 0 0 0 0 0 0 0 4 32 31 1 12 63 37 11 24 5 3 1 12 18 2 51 0 0 0 0 0 84 1 64 16 17 5 7 83 1 39 17 0 0 0 0 0 0 0 0 0 0 7 80 1 20 16 17 13 5 7 90 1 64 13 140 0 0 0 0 0 0 0 11 30 1 9 7 102 2 50 5 3 1 8 19 2 46 0 0 0 0 0 0 7 86 1 64 16 17 13 5 7 89 1 40 17 13 0 0 0 0 0 0 0 27 55 4 71 4 73 6 4 74 0 0 0 0 0 0 0 0 0 0 0 0 3 55 91 10 200 110 176 0 0 0 0 0 0 0 0 0 0 0 0 0 0 4 32 31 1 12 66 2 49 6 3 1 9 68 2 45 0 0 0 0 0 0 36 1 9 60 2 45 6 3 1 18 2 46 0 0 0 0 0 0 0 0 0 10 82 1 40 16 10 23 14 5 7 87 1 64 23 14 0 0 0 0 0 0 10 82 1 39 13 14 108 96 5 10 38 1 20 13 14 0 0 0 0 0 0 29 1 12 18 15 25 79 56 6 3 1 12 18 2 45 0 0 0 0 0 0 106 130 10 38 4 73 6 4 74 0 0 0 0 0 0 0 0 0 0 0 0 11 30 1 58 2 24 6 3 1 9 66 2 56 0 0 0 0 0 0 0 0 99 124 4 73 10 38 6 4 70 0 0 0 0 0 0 0 0 0 0 0 0 7 83 1 7 13 14 108 96 5 7 80 1 39 13 14 0 0 0 0 0 0 35 34 1 9 63 15 111 22 11 24 5 3 1 8 66 2 46 0 0 0 0 29 1 8 18 2 50 6 3 1 60 2 54 0 0 0 0 0 0 0 0 0 11 30 1 12 57 2 45 6 3 1 8 67 2 48 0 0 0 0 0 0 0 20 16 10 23 14 1 10 85 5 64 23 14 1 84 0 0 0 0 0 0 0 35 34 1 8 18 2 46 5 3 1 12 19 2 45 0 0 0 0 0 0 0 7 80 1 39 13 14 108 96 5 7 88 1 64 13 14 0 0 0 0 0 0 7 33 1 9 104 26 98 6 3 1 69 21 2 50 0 0 0 0 0 0 0 11 30 1 8 18 2 51 6 3 1 8 60 2 56 0 0 0 0 0 0 0 3 143 121 147 97 153 0 0 0 0 0 0 0 0 0 0 0 0 0 0 0 3 100 4 74 4 72 6 10 38 0 0 0 0 0 0 0 0 0 0 0 0 11 30 1 12 19 2 53 5 3 1 9 125 2 41 0 0 0 0 0 0 0 7 86 1 61 16 17 5 7 83 1 39 17 0 0 0 0 0 0 0 0 0 61 16 17 1 7 90 5 39 17 1 84 0 0 0 0 0 0 0 0 0 0 36 1 8 18 2 52 5 3 1 9 63 2 51 0 0 0 0 0 0 0 0 7 33 1 8 137 2 52 5 3 1 19 15 42 0 0 0 0 0 0 0 0 3 55 4 74 4 77 6 4 70 0 0 0 0 0 0 0 0 0 0 0 0 4 32 31 1 8 19 37 11 24 5 3 1 8 18 26 11 24 0 0 0 0 3 145 120 97 134 174 0 0 0 0 0 0 0 0 0 0 0 0 0 0 0 7 36 1 58 12 15 25 22 47 5 3 1 12 59 2 56 0 0 0 0 0 35 34 1 8 19 15 25 79 56 5 3 1 18 2 54 0 0 0 0 0 0 27 94 4 28 4 74 6 4 73 0 0 0 0 0 0 0 0 0 0 0 0 7 89 1 20 16 17 5 10 85 1 61 17 0 0 0 0 0 0 0 0 0 39 16 10 23 14 1 10 82 5 40 23 14 1 7 90 0 0 0 0 0 0 38 131 191 96 4 23 206 0 0 0 0 0 0 0 0 0 0 0 0 0 0 27 247 121 147 97 153 0 0 0 0 0 0 0 0 0 0 0 0 0 0 0 4 32 31 1 8 104 15 111 22 11 24 6 3 95 9 2 46 0 0 0 0 27 94 4 75 4 74 6 4 78 0 0 0 0 0 0 0 0 0 0 0 0 62 1 21 2 49 6 3 1 8 67 2 46 0 0 0 0 0 0 0 0 0 36 1 8 66 2 48 5 9 22 102 2 56 0 0 0 0 0 0 0 0 0 35 34 1 12 92 2 50 6 3 95 69 15 42 0 0 0 0 0 0 0 0 39 16 17 1 7 86 5 20 93 1 84 0 0 0 0 0 0 0 0 0 0 11 30 1 9 104 37 11 44 6 3 1 12 60 2 50 0 0 0 0 0 0 27 55 4 74 4 73 6 4 72 0 0 0 0 0 0 0 0 0 0 0 0 4 32 31 1 60 15 25 22 47 6 3 1 8 65 2 45 0 0 0 0 0 36 1 9 22 102 2 45 6 3 1 9 68 26 11 24 0 0 0 0 0 0 27 55 4 77 6 4 74 0 0 0 0 0 0 0 0 0 0 0 0 0 0 3 55 4 78 4 74 6 4 71 0 0 0 0 0 0 0 0 0 0 0 0 3 55 4 77 4 75 6 4 28 76 0 0 0 0 0 0 0 0 0 0 0 7 36 1 8 10 81 37 11 24 5 3 1 8 68 15 42 0 0 0 0 0 11 30 1 67 2 52 5 3 1 8 19 2 49 0 0 0 0 0 0 0 0 35 34 1 9 58 2 49 6 3 1 65 2 52 0 0 0 0 0 0 0 0 129 96 10 23 14 1 10 82 5 39 23 14 1 7 83 0 0 0 0 0 0 4 32 31 1 58 15 25 22 48 5 3 1 12 65 2 46 0 0 0 0 0 20 16 17 13 1 7 90 5 61 13 17 1 84 0 0 0 0 0 0 0 0 106 128 91 4 78 4 70 6 10 38 0 0 0 0 0 0 0 0 0 0 0 84 1 40 16 13 14 5 7 86 27 1 13 14 0 0 0 0 0 0 0 0 3 100 4 73 4 159 6 4 75 0 0 0 0 0 0 0 0 0 0 0 0 3 1 198 22 164 2 186 187 0 0 0 0 0 0 0 0 0 0 0 0 0 4 32 31 1 9 22 102 15 25 22 47 5 3 1 8 66 15 42 0 0 0\n\t [[{{node loss_10/time_distributed_22_loss/sparse_categorical_crossentropy/SparseSoftmaxCrossEntropyWithLogits/SparseSoftmaxCrossEntropyWithLogits}}]]"
     ]
    }
   ],
   "source": [
    "def simple_model(input_shape, output_sequence_length, english_vocab_size, french_vocab_size):\n",
    "    \"\"\"\n",
    "    Build and train a basic RNN on x and y\n",
    "    :param input_shape: Tuple of input shape\n",
    "    :param output_sequence_length: Length of output sequence\n",
    "    :param english_vocab_size: Number of unique English words in the dataset\n",
    "    :param french_vocab_size: Number of unique French words in the dataset\n",
    "    :return: Keras model built, but not trained\n",
    "    \"\"\"\n",
    "    # Hyperparameters\n",
    "    learning_rate = 0.005\n",
    "    \n",
    "    # TODO: Build the layers\n",
    "    model = Sequential()\n",
    "    model.add(GRU(256, input_shape=input_shape[1:], return_sequences=True))\n",
    "    model.add(TimeDistributed(Dense(1024, activation='relu')))\n",
    "    model.add(Dropout(0.5))\n",
    "    model.add(TimeDistributed(Dense(french_vocab_size, activation='softmax'))) \n",
    "\n",
    "    # Compile model\n",
    "    \n",
    "    model.compile(loss=sparse_categorical_crossentropy,\n",
    "                  optimizer=Adam(learning_rate),\n",
    "                  metrics=['accuracy'])\n",
    "    return model\n",
    "\n",
    "\n",
    "#tests.test_simple_model(simple_model)\n",
    "\n",
    "# Reshaping the input to work with a basic RNN\n",
    "tmp_x = pad(preproc_english_sentences, max_french_sequence_length)\n",
    "tmp_x = tmp_x.reshape((-1, preproc_french_sentences.shape[-2], 1))\n",
    "\n",
    "print(preproc_french_sentences.shape)\n",
    "print(tmp_x.shape)\n",
    "print(max_french_sequence_length)\n",
    "print(english_vocab_size)\n",
    "print(french_vocab_size)\n",
    "# Train the neural network\n",
    "simple_rnn_model = simple_model(\n",
    "    tmp_x.shape,\n",
    "    max_french_sequence_length,\n",
    "    english_vocab_size,\n",
    "    french_vocab_size)\n",
    "\n",
    "print(simple_rnn_model.summary())\n",
    "\n",
    "simple_rnn_model.fit(tmp_x, preproc_french_sentences, batch_size=1024, epochs=10, validation_split=0.2)\n",
    "\n",
    "# Print prediction(s)\n",
    "print(logits_to_text(simple_rnn_model.predict(tmp_x[:1])[0], french_tokenizer))"
   ]
  },
  {
   "cell_type": "code",
   "execution_count": 12,
   "metadata": {},
   "outputs": [
    {
     "name": "stdout",
     "output_type": "stream",
     "text": [
      "Prediction:\n",
      "new jersey est parfois calme en mois de mai et il est neigeux en <PAD> <PAD> <PAD> <PAD> <PAD> <PAD> <PAD>\n",
      "\n",
      "Correct Translation:\n",
      "[\"new jersey est parfois calme pendant l' automne , et il est neigeux en avril .\"]\n",
      "\n",
      "Original text:\n",
      "['new jersey is sometimes quiet during autumn , and it is snowy in april .']\n"
     ]
    }
   ],
   "source": [
    "# Print prediction(s)\n",
    "print(\"Prediction:\")\n",
    "print(logits_to_text(simple_rnn_model.predict(tmp_x[:1])[0], french_tokenizer))\n",
    "\n",
    "print(\"\\nCorrect Translation:\")\n",
    "print(french_sentences[:1])\n",
    "\n",
    "print(\"\\nOriginal text:\")\n",
    "print(english_sentences[:1])"
   ]
  },
  {
   "cell_type": "markdown",
   "metadata": {},
   "source": [
    "### Model 2: Embedding (IMPLEMENTATION)\n",
    "![RNN](images/embedding.png)\n",
    "You've turned the words into ids, but there's a better representation of a word.  This is called word embeddings.  An embedding is a vector representation of the word that is close to similar words in n-dimensional space, where the n represents the size of the embedding vectors.\n",
    "\n",
    "In this model, you'll create a RNN model using embedding."
   ]
  },
  {
   "cell_type": "code",
   "execution_count": 13,
   "metadata": {},
   "outputs": [
    {
     "name": "stdout",
     "output_type": "stream",
     "text": [
      "_________________________________________________________________\n",
      "Layer (type)                 Output Shape              Param #   \n",
      "=================================================================\n",
      "embedding_2 (Embedding)      (None, 21, 256)           51200     \n",
      "_________________________________________________________________\n",
      "gru_4 (GRU)                  (None, 21, 256)           393984    \n",
      "_________________________________________________________________\n",
      "time_distributed_7 (TimeDist (None, 21, 1024)          263168    \n",
      "_________________________________________________________________\n",
      "dropout_4 (Dropout)          (None, 21, 1024)          0         \n",
      "_________________________________________________________________\n",
      "time_distributed_8 (TimeDist (None, 21, 345)           353625    \n",
      "=================================================================\n",
      "Total params: 1,061,977\n",
      "Trainable params: 1,061,977\n",
      "Non-trainable params: 0\n",
      "_________________________________________________________________\n",
      "Train on 110288 samples, validate on 27573 samples\n",
      "Epoch 1/10\n",
      "110288/110288 [==============================] - 20s 178us/step - loss: 1.4683 - acc: 0.6636 - val_loss: 0.5285 - val_acc: 0.8312\n",
      "Epoch 2/10\n",
      "110288/110288 [==============================] - 19s 175us/step - loss: 0.4413 - acc: 0.8563 - val_loss: 0.3256 - val_acc: 0.8903\n",
      "Epoch 3/10\n",
      "110288/110288 [==============================] - 19s 175us/step - loss: 0.3123 - acc: 0.8955 - val_loss: 0.2554 - val_acc: 0.9134\n",
      "Epoch 4/10\n",
      "110288/110288 [==============================] - 19s 175us/step - loss: 0.2573 - acc: 0.9132 - val_loss: 0.2263 - val_acc: 0.9217\n",
      "Epoch 5/10\n",
      "110288/110288 [==============================] - 19s 175us/step - loss: 0.2279 - acc: 0.9221 - val_loss: 0.2084 - val_acc: 0.9284\n",
      "Epoch 6/10\n",
      "110288/110288 [==============================] - 19s 174us/step - loss: 0.2119 - acc: 0.9270 - val_loss: 0.1967 - val_acc: 0.9320\n",
      "Epoch 7/10\n",
      "110288/110288 [==============================] - 19s 174us/step - loss: 0.2009 - acc: 0.9300 - val_loss: 0.1923 - val_acc: 0.9332\n",
      "Epoch 8/10\n",
      "110288/110288 [==============================] - 19s 174us/step - loss: 0.1924 - acc: 0.9326 - val_loss: 0.1916 - val_acc: 0.9328\n",
      "Epoch 9/10\n",
      "110288/110288 [==============================] - 19s 174us/step - loss: 0.1891 - acc: 0.9334 - val_loss: 0.1864 - val_acc: 0.9345\n",
      "Epoch 10/10\n",
      "110288/110288 [==============================] - 19s 174us/step - loss: 0.1835 - acc: 0.9349 - val_loss: 0.1808 - val_acc: 0.9365\n",
      "new jersey est parfois calme en l' automne et il est neigeux en avril <PAD> <PAD> <PAD> <PAD> <PAD> <PAD> <PAD>\n"
     ]
    }
   ],
   "source": [
    "def embed_model(input_shape, output_sequence_length, english_vocab_size, french_vocab_size):\n",
    "    \"\"\"\n",
    "    Build and train a RNN model using word embedding on x and y\n",
    "    :param input_shape: Tuple of input shape\n",
    "    :param output_sequence_length: Length of output sequence\n",
    "    :param english_vocab_size: Number of unique English words in the dataset\n",
    "    :param french_vocab_size: Number of unique French words in the dataset\n",
    "    :return: Keras model built, but not trained\n",
    "    \"\"\"\n",
    "    # TODO: Implement\n",
    "\n",
    "    # Hyperparameters\n",
    "    learning_rate = 0.005\n",
    "    \n",
    "    # TODO: Build the layers\n",
    "    model = Sequential()\n",
    "    model.add(Embedding(english_vocab_size, 256, input_length=input_shape[1], input_shape=input_shape[1:]))\n",
    "    model.add(GRU(256, return_sequences=True))    \n",
    "    model.add(TimeDistributed(Dense(1024, activation='relu')))\n",
    "    model.add(Dropout(0.5))\n",
    "    model.add(TimeDistributed(Dense(french_vocab_size, activation='softmax'))) \n",
    "\n",
    "    # Compile model\n",
    "    model.compile(loss=sparse_categorical_crossentropy,\n",
    "                  optimizer=Adam(learning_rate),\n",
    "                  metrics=['accuracy'])\n",
    "    return model\n",
    "\n",
    "tests.test_embed_model(embed_model)\n",
    "\n",
    "# TODO: Reshape the input\n",
    "tmp_x = pad(preproc_english_sentences, preproc_french_sentences.shape[1])\n",
    "tmp_x = tmp_x.reshape((-1, preproc_french_sentences.shape[-2]))\n",
    "\n",
    "# TODO: Train the neural network\n",
    "embed_rnn_model = embed_model(\n",
    "    tmp_x.shape,\n",
    "    preproc_french_sentences.shape[1],\n",
    "    len(english_tokenizer.word_index)+1,\n",
    "    len(french_tokenizer.word_index)+1)\n",
    "\n",
    "embed_rnn_model.summary()\n",
    "\n",
    "embed_rnn_model.fit(tmp_x, preproc_french_sentences, batch_size=1024, epochs=10, validation_split=0.2)\n",
    "\n",
    "# TODO: Print prediction(s)\n",
    "print(logits_to_text(embed_rnn_model.predict(tmp_x[:1])[0], french_tokenizer))"
   ]
  },
  {
   "cell_type": "code",
   "execution_count": 14,
   "metadata": {},
   "outputs": [
    {
     "name": "stdout",
     "output_type": "stream",
     "text": [
      "Prediction:\n",
      "new jersey est parfois calme en l' automne et il est neigeux en avril <PAD> <PAD> <PAD> <PAD> <PAD> <PAD> <PAD>\n",
      "\n",
      "Correct Translation:\n",
      "[\"new jersey est parfois calme pendant l' automne , et il est neigeux en avril .\"]\n",
      "\n",
      "Original text:\n",
      "['new jersey is sometimes quiet during autumn , and it is snowy in april .']\n"
     ]
    }
   ],
   "source": [
    "# Print prediction(s)\n",
    "print(\"Prediction:\")\n",
    "print(logits_to_text(embed_rnn_model.predict(tmp_x[:1])[0], french_tokenizer))\n",
    "\n",
    "print(\"\\nCorrect Translation:\")\n",
    "print(french_sentences[:1])\n",
    "\n",
    "print(\"\\nOriginal text:\")\n",
    "print(english_sentences[:1])"
   ]
  },
  {
   "cell_type": "markdown",
   "metadata": {},
   "source": [
    "### Model 3: Bidirectional RNNs (IMPLEMENTATION)\n",
    "![RNN](images/bidirectional.png)\n",
    "One restriction of a RNN is that it can't see the future input, only the past.  This is where bidirectional recurrent neural networks come in.  They are able to see the future data."
   ]
  },
  {
   "cell_type": "code",
   "execution_count": 15,
   "metadata": {},
   "outputs": [
    {
     "name": "stdout",
     "output_type": "stream",
     "text": [
      "_________________________________________________________________\n",
      "Layer (type)                 Output Shape              Param #   \n",
      "=================================================================\n",
      "embedding_3 (Embedding)      (None, 21, 256)           51200     \n",
      "_________________________________________________________________\n",
      "gru_6 (GRU)                  (None, 21, 256)           393984    \n",
      "_________________________________________________________________\n",
      "time_distributed_11 (TimeDis (None, 21, 1024)          263168    \n",
      "_________________________________________________________________\n",
      "dropout_6 (Dropout)          (None, 21, 1024)          0         \n",
      "_________________________________________________________________\n",
      "time_distributed_12 (TimeDis (None, 21, 345)           353625    \n",
      "=================================================================\n",
      "Total params: 1,061,977\n",
      "Trainable params: 1,061,977\n",
      "Non-trainable params: 0\n",
      "_________________________________________________________________\n",
      "Train on 110288 samples, validate on 27573 samples\n",
      "Epoch 1/10\n",
      "110288/110288 [==============================] - 20s 179us/step - loss: 1.4631 - acc: 0.6646 - val_loss: 0.5201 - val_acc: 0.8348\n",
      "Epoch 2/10\n",
      "110288/110288 [==============================] - 19s 175us/step - loss: 0.4366 - acc: 0.8579 - val_loss: 0.3183 - val_acc: 0.8946\n",
      "Epoch 3/10\n",
      "110288/110288 [==============================] - 19s 175us/step - loss: 0.3064 - acc: 0.8986 - val_loss: 0.2558 - val_acc: 0.9141\n",
      "Epoch 4/10\n",
      "110288/110288 [==============================] - 19s 175us/step - loss: 0.2555 - acc: 0.9144 - val_loss: 0.2284 - val_acc: 0.9214\n",
      "Epoch 5/10\n",
      "110288/110288 [==============================] - 19s 175us/step - loss: 0.2280 - acc: 0.9224 - val_loss: 0.2102 - val_acc: 0.9267\n",
      "Epoch 6/10\n",
      "110288/110288 [==============================] - 19s 174us/step - loss: 0.2140 - acc: 0.9265 - val_loss: 0.2024 - val_acc: 0.9310\n",
      "Epoch 7/10\n",
      "110288/110288 [==============================] - 19s 175us/step - loss: 0.2014 - acc: 0.9300 - val_loss: 0.1979 - val_acc: 0.9316\n",
      "Epoch 8/10\n",
      "110288/110288 [==============================] - 19s 174us/step - loss: 0.1945 - acc: 0.9320 - val_loss: 0.1908 - val_acc: 0.9335\n",
      "Epoch 9/10\n",
      "110288/110288 [==============================] - 19s 175us/step - loss: 0.1877 - acc: 0.9341 - val_loss: 0.1875 - val_acc: 0.9355\n",
      "Epoch 10/10\n",
      "110288/110288 [==============================] - 19s 174us/step - loss: 0.1839 - acc: 0.9351 - val_loss: 0.1853 - val_acc: 0.9351\n",
      "new jersey est parfois calme en l' automne et il est neigeux en avril <PAD> <PAD> <PAD> <PAD> <PAD> <PAD> <PAD>\n"
     ]
    }
   ],
   "source": [
    "def bd_model(input_shape, output_sequence_length, english_vocab_size, french_vocab_size):\n",
    "    \"\"\"\n",
    "    Build and train a bidirectional RNN model on x and y\n",
    "    :param input_shape: Tuple of input shape\n",
    "    :param output_sequence_length: Length of output sequence\n",
    "    :param english_vocab_size: Number of unique English words in the dataset\n",
    "    :param french_vocab_size: Number of unique French words in the dataset\n",
    "    :return: Keras model built, but not trained\n",
    "    \"\"\"\n",
    "    # TODO: Implement\n",
    "\n",
    "    # Hyperparameters\n",
    "    learning_rate = 0.003\n",
    "    \n",
    "    # TODO: Build the layers\n",
    "    model = Sequential()\n",
    "    model.add(Bidirectional(GRU(128, return_sequences=True), input_shape=input_shape[1:]))\n",
    "    model.add(TimeDistributed(Dense(1024, activation='relu')))\n",
    "    model.add(Dropout(0.5))\n",
    "    model.add(TimeDistributed(Dense(french_vocab_size, activation='softmax'))) \n",
    "\n",
    "    # Compile model\n",
    "    model.compile(loss=sparse_categorical_crossentropy,\n",
    "                  optimizer=Adam(learning_rate),\n",
    "                  metrics=['accuracy'])\n",
    "    return model\n",
    "\n",
    "tests.test_bd_model(bd_model)\n",
    "\n",
    "# TODO: Reshape the input\n",
    "tmp_x = pad(preproc_english_sentences, preproc_french_sentences.shape[1])\n",
    "tmp_x = tmp_x.reshape((-1, preproc_french_sentences.shape[-2]))\n",
    "\n",
    "# TODO: Train and Print prediction(s)\n",
    "embed_rnn_model = embed_model(\n",
    "    tmp_x.shape,\n",
    "    preproc_french_sentences.shape[1],\n",
    "    len(english_tokenizer.word_index)+1,\n",
    "    len(french_tokenizer.word_index)+1)\n",
    "\n",
    "embed_rnn_model.summary()\n",
    "\n",
    "embed_rnn_model.fit(tmp_x, preproc_french_sentences, batch_size=1024, epochs=10, validation_split=0.2)\n",
    "\n",
    "print(logits_to_text(embed_rnn_model.predict(tmp_x[:1])[0], french_tokenizer))"
   ]
  },
  {
   "cell_type": "code",
   "execution_count": 16,
   "metadata": {},
   "outputs": [
    {
     "name": "stdout",
     "output_type": "stream",
     "text": [
      "Prediction:\n",
      "new jersey est parfois calme en l' automne et il est neigeux en avril <PAD> <PAD> <PAD> <PAD> <PAD> <PAD> <PAD>\n",
      "\n",
      "Correct Translation:\n",
      "[\"new jersey est parfois calme pendant l' automne , et il est neigeux en avril .\"]\n",
      "\n",
      "Original text:\n",
      "['new jersey is sometimes quiet during autumn , and it is snowy in april .']\n"
     ]
    }
   ],
   "source": [
    "# Print prediction(s)\n",
    "print(\"Prediction:\")\n",
    "print(logits_to_text(embed_rnn_model.predict(tmp_x[:1])[0], french_tokenizer))\n",
    "\n",
    "print(\"\\nCorrect Translation:\")\n",
    "print(french_sentences[:1])\n",
    "\n",
    "print(\"\\nOriginal text:\")\n",
    "print(english_sentences[:1])"
   ]
  },
  {
   "cell_type": "markdown",
   "metadata": {},
   "source": [
    "### Model 4: Encoder-Decoder (OPTIONAL)\n",
    "Time to look at encoder-decoder models.  This model is made up of an encoder and decoder. The encoder creates a matrix representation of the sentence.  The decoder takes this matrix as input and predicts the translation as output.\n",
    "\n",
    "Create an encoder-decoder model in the cell below."
   ]
  },
  {
   "cell_type": "code",
   "execution_count": 17,
   "metadata": {},
   "outputs": [
    {
     "name": "stdout",
     "output_type": "stream",
     "text": [
      "_________________________________________________________________\n",
      "Layer (type)                 Output Shape              Param #   \n",
      "=================================================================\n",
      "gru_9 (GRU)                  (None, 256)               198144    \n",
      "_________________________________________________________________\n",
      "repeat_vector_2 (RepeatVecto (None, 21, 256)           0         \n",
      "_________________________________________________________________\n",
      "gru_10 (GRU)                 (None, 21, 256)           393984    \n",
      "_________________________________________________________________\n",
      "time_distributed_15 (TimeDis (None, 21, 1024)          263168    \n",
      "_________________________________________________________________\n",
      "dropout_8 (Dropout)          (None, 21, 1024)          0         \n",
      "_________________________________________________________________\n",
      "time_distributed_16 (TimeDis (None, 21, 345)           353625    \n",
      "=================================================================\n",
      "Total params: 1,208,921\n",
      "Trainable params: 1,208,921\n",
      "Non-trainable params: 0\n",
      "_________________________________________________________________\n",
      "Train on 110288 samples, validate on 27573 samples\n",
      "Epoch 1/10\n",
      "110288/110288 [==============================] - 26s 234us/step - loss: 2.4930 - acc: 0.4710 - val_loss: 1.7839 - val_acc: 0.5645\n",
      "Epoch 2/10\n",
      "110288/110288 [==============================] - 25s 227us/step - loss: 1.6361 - acc: 0.5765 - val_loss: 1.4294 - val_acc: 0.6144\n",
      "Epoch 3/10\n",
      "110288/110288 [==============================] - 25s 228us/step - loss: 1.4338 - acc: 0.6076 - val_loss: 1.3340 - val_acc: 0.6338\n",
      "Epoch 4/10\n",
      "110288/110288 [==============================] - 25s 228us/step - loss: 1.3377 - acc: 0.6287 - val_loss: 1.2601 - val_acc: 0.6497\n",
      "Epoch 5/10\n",
      "110288/110288 [==============================] - 25s 228us/step - loss: 1.2738 - acc: 0.6440 - val_loss: 1.2016 - val_acc: 0.6616\n",
      "Epoch 6/10\n",
      "110288/110288 [==============================] - 25s 228us/step - loss: 1.2218 - acc: 0.6536 - val_loss: 1.1437 - val_acc: 0.6703\n",
      "Epoch 7/10\n",
      "110288/110288 [==============================] - 25s 228us/step - loss: 1.1717 - acc: 0.6631 - val_loss: 1.1550 - val_acc: 0.6617\n",
      "Epoch 8/10\n",
      "110288/110288 [==============================] - 25s 228us/step - loss: 1.1286 - acc: 0.6721 - val_loss: 1.0781 - val_acc: 0.6819\n",
      "Epoch 9/10\n",
      "110288/110288 [==============================] - 25s 228us/step - loss: 1.1025 - acc: 0.6777 - val_loss: 1.0549 - val_acc: 0.6896\n",
      "Epoch 10/10\n",
      "110288/110288 [==============================] - 25s 228us/step - loss: 1.0869 - acc: 0.6805 - val_loss: 1.0342 - val_acc: 0.6938\n"
     ]
    },
    {
     "data": {
      "text/plain": [
       "<keras.callbacks.History at 0x7f74230eb5f8>"
      ]
     },
     "execution_count": 17,
     "metadata": {},
     "output_type": "execute_result"
    }
   ],
   "source": [
    "def encdec_model(input_shape, output_sequence_length, english_vocab_size, french_vocab_size):\n",
    "    \"\"\"\n",
    "    Build and train an encoder-decoder model on x and y\n",
    "    :param input_shape: Tuple of input shape\n",
    "    :param output_sequence_length: Length of output sequence\n",
    "    :param english_vocab_size: Number of unique English words in the dataset\n",
    "    :param french_vocab_size: Number of unique French words in the dataset\n",
    "    :return: Keras model built, but not trained\n",
    "    \"\"\"\n",
    "    # OPTIONAL: Implement\n",
    "    \n",
    "    # Hyperparameters\n",
    "    learning_rate = 0.001\n",
    "    \n",
    "    # Build the layers    \n",
    "    model = Sequential()\n",
    "    # Encoder\n",
    "    model.add(GRU(256, input_shape=input_shape[1:], go_backwards=True))\n",
    "    model.add(RepeatVector(output_sequence_length))\n",
    "    # Decoder\n",
    "    model.add(GRU(256, return_sequences=True))\n",
    "    model.add(TimeDistributed(Dense(1024, activation='relu')))\n",
    "    model.add(Dropout(0.5))\n",
    "    model.add(TimeDistributed(Dense(french_vocab_size, activation='softmax')))\n",
    "\n",
    "    # Compile model\n",
    "    model.compile(loss=sparse_categorical_crossentropy,\n",
    "                  optimizer=Adam(learning_rate),\n",
    "                  metrics=['accuracy'])\n",
    "    \n",
    "    return model\n",
    "\n",
    "tests.test_encdec_model(encdec_model)\n",
    "\n",
    "# Reshape the input\n",
    "tmp_x = pad(preproc_english_sentences, preproc_french_sentences.shape[1])\n",
    "tmp_x = tmp_x.reshape((-1, preproc_french_sentences.shape[-2], 1))\n",
    "\n",
    "# Train and Print prediction(s)\n",
    "encdec_rnn_model = encdec_model(\n",
    "    tmp_x.shape,\n",
    "    preproc_french_sentences.shape[1],\n",
    "    len(english_tokenizer.word_index)+1,\n",
    "    len(french_tokenizer.word_index)+1)\n",
    "\n",
    "encdec_rnn_model.summary()\n",
    "\n",
    "encdec_rnn_model.fit(tmp_x, preproc_french_sentences, batch_size=1024, epochs=10, validation_split=0.2)"
   ]
  },
  {
   "cell_type": "code",
   "execution_count": 18,
   "metadata": {},
   "outputs": [
    {
     "name": "stdout",
     "output_type": "stream",
     "text": [
      "Prediction:\n",
      "new jersey est parfois chaud en l' et il est est en en <PAD> <PAD> <PAD> <PAD> <PAD> <PAD> <PAD> <PAD>\n",
      "\n",
      "Correct Translation:\n",
      "[\"new jersey est parfois calme pendant l' automne , et il est neigeux en avril .\"]\n",
      "\n",
      "Original text:\n",
      "['new jersey is sometimes quiet during autumn , and it is snowy in april .']\n"
     ]
    }
   ],
   "source": [
    "# Print prediction(s)\n",
    "print(\"Prediction:\")\n",
    "print(logits_to_text(encdec_rnn_model.predict(tmp_x[:1])[0], french_tokenizer))\n",
    "\n",
    "print(\"\\nCorrect Translation:\")\n",
    "print(french_sentences[:1])\n",
    "\n",
    "print(\"\\nOriginal text:\")\n",
    "print(english_sentences[:1])"
   ]
  },
  {
   "cell_type": "markdown",
   "metadata": {},
   "source": [
    "### Model 5: Custom (IMPLEMENTATION)\n",
    "Use everything you learned from the previous models to create a model that incorporates embedding and a bidirectional rnn into one model."
   ]
  },
  {
   "cell_type": "code",
   "execution_count": 19,
   "metadata": {},
   "outputs": [
    {
     "name": "stdout",
     "output_type": "stream",
     "text": [
      "Final Model Loaded\n"
     ]
    }
   ],
   "source": [
    "def model_final(input_shape, output_sequence_length, english_vocab_size, french_vocab_size):\n",
    "    \"\"\"\n",
    "    Build and train a model that incorporates embedding, encoder-decoder, and bidirectional RNN on x and y\n",
    "    :param input_shape: Tuple of input shape\n",
    "    :param output_sequence_length: Length of output sequence\n",
    "    :param english_vocab_size: Number of unique English words in the dataset\n",
    "    :param french_vocab_size: Number of unique French words in the dataset\n",
    "    :return: Keras model built, but not trained\n",
    "    \"\"\"\n",
    "    # TODO: Implement\n",
    "\n",
    "    # Hyperparameters\n",
    "    learning_rate = 0.003\n",
    "    \n",
    "    # Build the layers    \n",
    "    model = Sequential()\n",
    "    # Embedding\n",
    "    model.add(Embedding(english_vocab_size, 128, input_length=input_shape[1],\n",
    "                         input_shape=input_shape[1:]))\n",
    "    # Encoder\n",
    "    model.add(Bidirectional(GRU(128)))\n",
    "    model.add(RepeatVector(output_sequence_length))\n",
    "    # Decoder\n",
    "    model.add(Bidirectional(GRU(128, return_sequences=True)))\n",
    "    model.add(TimeDistributed(Dense(512, activation='relu')))\n",
    "    model.add(Dropout(0.5))\n",
    "    model.add(TimeDistributed(Dense(french_vocab_size, activation='softmax')))\n",
    "    model.compile(loss=sparse_categorical_crossentropy,\n",
    "                  optimizer=Adam(learning_rate),\n",
    "                  metrics=['accuracy'])\n",
    "    return model\n",
    "\n",
    "tests.test_model_final(model_final)\n",
    "\n",
    "print('Final Model Loaded')"
   ]
  },
  {
   "cell_type": "markdown",
   "metadata": {},
   "source": [
    "## Prediction (IMPLEMENTATION)"
   ]
  },
  {
   "cell_type": "code",
   "execution_count": 20,
   "metadata": {},
   "outputs": [
    {
     "name": "stdout",
     "output_type": "stream",
     "text": [
      "_________________________________________________________________\n",
      "Layer (type)                 Output Shape              Param #   \n",
      "=================================================================\n",
      "embedding_5 (Embedding)      (None, 15, 128)           25600     \n",
      "_________________________________________________________________\n",
      "bidirectional_4 (Bidirection (None, 256)               197376    \n",
      "_________________________________________________________________\n",
      "repeat_vector_4 (RepeatVecto (None, 21, 256)           0         \n",
      "_________________________________________________________________\n",
      "bidirectional_5 (Bidirection (None, 21, 256)           295680    \n",
      "_________________________________________________________________\n",
      "time_distributed_19 (TimeDis (None, 21, 512)           131584    \n",
      "_________________________________________________________________\n",
      "dropout_10 (Dropout)         (None, 21, 512)           0         \n",
      "_________________________________________________________________\n",
      "time_distributed_20 (TimeDis (None, 21, 345)           176985    \n",
      "=================================================================\n",
      "Total params: 827,225\n",
      "Trainable params: 827,225\n",
      "Non-trainable params: 0\n",
      "_________________________________________________________________\n",
      "Train on 110288 samples, validate on 27573 samples\n",
      "Epoch 1/25\n",
      "110288/110288 [==============================] - 26s 240us/step - loss: 2.3767 - acc: 0.4869 - val_loss: 1.6101 - val_acc: 0.5805\n",
      "Epoch 2/25\n",
      "110288/110288 [==============================] - 25s 229us/step - loss: 1.4426 - acc: 0.6169 - val_loss: 1.2069 - val_acc: 0.6733\n",
      "Epoch 3/25\n",
      "110288/110288 [==============================] - 25s 229us/step - loss: 1.1652 - acc: 0.6749 - val_loss: 1.0104 - val_acc: 0.7148\n",
      "Epoch 4/25\n",
      "110288/110288 [==============================] - 25s 227us/step - loss: 1.0312 - acc: 0.7028 - val_loss: 0.8671 - val_acc: 0.7403\n",
      "Epoch 5/25\n",
      "110288/110288 [==============================] - 25s 229us/step - loss: 0.8792 - acc: 0.7353 - val_loss: 0.7295 - val_acc: 0.7727\n",
      "Epoch 6/25\n",
      "110288/110288 [==============================] - 25s 229us/step - loss: 0.7611 - acc: 0.7647 - val_loss: 0.6033 - val_acc: 0.8118\n",
      "Epoch 7/25\n",
      "110288/110288 [==============================] - 25s 229us/step - loss: 0.6655 - acc: 0.7905 - val_loss: 0.5105 - val_acc: 0.8414\n",
      "Epoch 8/25\n",
      "110288/110288 [==============================] - 25s 229us/step - loss: 0.5366 - acc: 0.8301 - val_loss: 0.4155 - val_acc: 0.8703\n",
      "Epoch 9/25\n",
      "110288/110288 [==============================] - 25s 229us/step - loss: 0.4506 - acc: 0.8574 - val_loss: 0.3298 - val_acc: 0.9017\n",
      "Epoch 10/25\n",
      "110288/110288 [==============================] - 25s 229us/step - loss: 0.3838 - acc: 0.8802 - val_loss: 0.2805 - val_acc: 0.9198\n",
      "Epoch 11/25\n",
      "110288/110288 [==============================] - 25s 229us/step - loss: 0.3236 - acc: 0.9008 - val_loss: 0.2133 - val_acc: 0.9422\n",
      "Epoch 12/25\n",
      "110288/110288 [==============================] - 25s 229us/step - loss: 0.2707 - acc: 0.9185 - val_loss: 0.1839 - val_acc: 0.9496\n",
      "Epoch 13/25\n",
      "110288/110288 [==============================] - 25s 229us/step - loss: 0.2311 - acc: 0.9311 - val_loss: 0.1610 - val_acc: 0.9554\n",
      "Epoch 14/25\n",
      "110288/110288 [==============================] - 25s 229us/step - loss: 0.2061 - acc: 0.9389 - val_loss: 0.1486 - val_acc: 0.9587\n",
      "Epoch 15/25\n",
      "110288/110288 [==============================] - 25s 229us/step - loss: 0.1806 - acc: 0.9462 - val_loss: 0.1400 - val_acc: 0.9608\n",
      "Epoch 16/25\n",
      "110288/110288 [==============================] - 25s 228us/step - loss: 0.1653 - acc: 0.9508 - val_loss: 0.1220 - val_acc: 0.9647\n",
      "Epoch 17/25\n",
      "110288/110288 [==============================] - 25s 228us/step - loss: 0.1978 - acc: 0.9393 - val_loss: 0.1268 - val_acc: 0.9633\n",
      "Epoch 18/25\n",
      "110288/110288 [==============================] - 25s 229us/step - loss: 0.1445 - acc: 0.9569 - val_loss: 0.1098 - val_acc: 0.9688\n",
      "Epoch 19/25\n",
      "110288/110288 [==============================] - 25s 229us/step - loss: 0.1284 - acc: 0.9619 - val_loss: 0.1026 - val_acc: 0.9704\n",
      "Epoch 20/25\n",
      "110288/110288 [==============================] - 25s 229us/step - loss: 0.1229 - acc: 0.9631 - val_loss: 0.1036 - val_acc: 0.9701\n",
      "Epoch 21/25\n",
      "110288/110288 [==============================] - 25s 229us/step - loss: 0.1178 - acc: 0.9649 - val_loss: 0.0947 - val_acc: 0.9731\n",
      "Epoch 22/25\n",
      "110288/110288 [==============================] - 25s 229us/step - loss: 0.1059 - acc: 0.9683 - val_loss: 0.0956 - val_acc: 0.9742\n",
      "Epoch 23/25\n",
      "110288/110288 [==============================] - 25s 229us/step - loss: 0.1007 - acc: 0.9696 - val_loss: 0.0875 - val_acc: 0.9750\n",
      "Epoch 24/25\n",
      "110288/110288 [==============================] - 25s 229us/step - loss: 0.6314 - acc: 0.8175 - val_loss: 0.3761 - val_acc: 0.8839\n",
      "Epoch 25/25\n",
      "110288/110288 [==============================] - 25s 229us/step - loss: 0.4125 - acc: 0.8758 - val_loss: 0.1613 - val_acc: 0.9634\n",
      "Sample 1:\n",
      "il a vu un vieux camion jaune <PAD> <PAD> <PAD> <PAD> <PAD> <PAD> <PAD> <PAD> <PAD> <PAD> <PAD> <PAD> <PAD> <PAD>\n",
      "Il a vu un vieux camion jaune\n",
      "Sample 2:\n",
      "new jersey est parfois calme pendant l' automne et il est neigeux en avril <PAD> <PAD> <PAD> <PAD> <PAD> <PAD> <PAD>\n",
      "new jersey est parfois calme pendant l' automne et il est neigeux en avril <PAD> <PAD> <PAD> <PAD> <PAD> <PAD> <PAD>\n"
     ]
    }
   ],
   "source": [
    "def final_predictions(x, y, x_tk, y_tk):\n",
    "    \"\"\"\n",
    "    Gets predictions using the final model\n",
    "    :param x: Preprocessed English data\n",
    "    :param y: Preprocessed French data\n",
    "    :param x_tk: English tokenizer\n",
    "    :param y_tk: French tokenizer\n",
    "    \"\"\"\n",
    "    # TODO: Train neural network using model_final\n",
    "    model = model_final(x.shape,y.shape[1],\n",
    "                        len(x_tk.word_index)+1,\n",
    "                        len(y_tk.word_index)+1)\n",
    "    model.summary()\n",
    "    model.fit(x, y, batch_size=1024, epochs=25, validation_split=0.2)\n",
    "\n",
    "    \n",
    "    ## DON'T EDIT ANYTHING BELOW THIS LINE\n",
    "    y_id_to_word = {value: key for key, value in y_tk.word_index.items()}\n",
    "    y_id_to_word[0] = '<PAD>'\n",
    "\n",
    "    sentence = 'he saw a old yellow truck'\n",
    "    sentence = [x_tk.word_index[word] for word in sentence.split()]\n",
    "    sentence = pad_sequences([sentence], maxlen=x.shape[-1], padding='post')\n",
    "    sentences = np.array([sentence[0], x[0]])\n",
    "    predictions = model.predict(sentences, len(sentences))\n",
    "\n",
    "    print('Sample 1:')\n",
    "    print(' '.join([y_id_to_word[np.argmax(x)] for x in predictions[0]]))\n",
    "    print('Il a vu un vieux camion jaune')\n",
    "    print('Sample 2:')\n",
    "    print(' '.join([y_id_to_word[np.argmax(x)] for x in predictions[1]]))\n",
    "    print(' '.join([y_id_to_word[np.max(x)] for x in y[0]]))\n",
    "\n",
    "\n",
    "final_predictions(preproc_english_sentences, preproc_french_sentences, english_tokenizer, french_tokenizer)"
   ]
  },
  {
   "cell_type": "markdown",
   "metadata": {},
   "source": [
    "## Submission\n",
    "When you're ready to submit, complete the following steps:\n",
    "1. Review the [rubric](https://review.udacity.com/#!/rubrics/1004/view) to ensure your submission meets all requirements to pass\n",
    "2. Generate an HTML version of this notebook\n",
    "\n",
    "  - Run the next cell to attempt automatic generation (this is the recommended method in Workspaces)\n",
    "  - Navigate to **FILE -> Download as -> HTML (.html)**\n",
    "  - Manually generate a copy using `nbconvert` from your shell terminal\n",
    "```\n",
    "$ pip install nbconvert\n",
    "$ python -m nbconvert machine_translation.ipynb\n",
    "```\n",
    "  \n",
    "3. Submit the project\n",
    "\n",
    "  - If you are in a Workspace, simply click the \"Submit Project\" button (bottom towards the right)\n",
    "  \n",
    "  - Otherwise, add the following files into a zip archive and submit them \n",
    "  - `helper.py`\n",
    "  - `machine_translation.ipynb`\n",
    "  - `machine_translation.html`\n",
    "    - You can export the notebook by navigating to **File -> Download as -> HTML (.html)**."
   ]
  },
  {
   "cell_type": "markdown",
   "metadata": {},
   "source": [
    "### Generate the html\n",
    "\n",
    "**Save your notebook before running the next cell to generate the HTML output.** Then submit your project."
   ]
  },
  {
   "cell_type": "code",
   "execution_count": 21,
   "metadata": {},
   "outputs": [
    {
     "data": {
      "text/plain": [
       "['[NbConvertApp] Converting notebook machine_translation.ipynb to html',\n",
       " '[NbConvertApp] Writing 360541 bytes to machine_translation.html',\n",
       " '[NbConvertApp] Converting notebook machine_translation_template.ipynb to html',\n",
       " '[NbConvertApp] Writing 306476 bytes to machine_translation_template.html']"
      ]
     },
     "execution_count": 21,
     "metadata": {},
     "output_type": "execute_result"
    }
   ],
   "source": [
    "# Save before you run this cell!\n",
    "!!jupyter nbconvert *.ipynb"
   ]
  },
  {
   "cell_type": "markdown",
   "metadata": {},
   "source": [
    "## Optional Enhancements\n",
    "\n",
    "This project focuses on learning various network architectures for machine translation, but we don't evaluate the models according to best practices by splitting the data into separate test & training sets -- so the model accuracy is overstated. Use the [`sklearn.model_selection.train_test_split()`](http://scikit-learn.org/stable/modules/generated/sklearn.model_selection.train_test_split.html) function to create separate training & test datasets, then retrain each of the models using only the training set and evaluate the prediction accuracy using the hold out test set. Does the \"best\" model change?"
   ]
  }
 ],
 "metadata": {
  "kernelspec": {
   "display_name": "Python 3",
   "language": "python",
   "name": "python3"
  },
  "language_info": {
   "codemirror_mode": {
    "name": "ipython",
    "version": 3
   },
   "file_extension": ".py",
   "mimetype": "text/x-python",
   "name": "python",
   "nbconvert_exporter": "python",
   "pygments_lexer": "ipython3",
   "version": "3.7.3"
  }
 },
 "nbformat": 4,
 "nbformat_minor": 1
}
