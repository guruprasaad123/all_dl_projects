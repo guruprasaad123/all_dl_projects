{
 "cells": [
  {
   "cell_type": "markdown",
   "metadata": {},
   "source": [
    "## Topic Modelling using LDA Model"
   ]
  },
  {
   "cell_type": "markdown",
   "metadata": {},
   "source": [
    "we are using getting `json` response from the api and storing the response in a json file - `result.json`"
   ]
  },
  {
   "cell_type": "code",
   "execution_count": 4,
   "metadata": {},
   "outputs": [
    {
     "name": "stdout",
     "output_type": "stream",
     "text": [
      "  % Total    % Received % Xferd  Average Speed   Time    Time     Time  Current\n",
      "                                 Dload  Upload   Total   Spent    Left  Speed\n",
      "100 69469  100 69469    0     0  23319      0  0:00:02  0:00:02 --:--:-- 23311\n"
     ]
    }
   ],
   "source": [
    "! curl -L -o result.json https://twitter-covid-app.herokuapp.com/api/corona/0/9999"
   ]
  },
  {
   "cell_type": "markdown",
   "metadata": {},
   "source": [
    "import the `result.json` file that we previously outputed to visualize the inputs"
   ]
  },
  {
   "cell_type": "code",
   "execution_count": 7,
   "metadata": {},
   "outputs": [
    {
     "name": "stdout",
     "output_type": "stream",
     "text": [
      "0 .  RT @srivatsayb: 5 Things that @RahulGandhi was 200% right about\n",
      "\n",
      "🔸Rafale Scam\n",
      "🔸Demonetization\n",
      "🔸Corona &amp; Vaccination \n",
      "🔸GST: Gabbar Singh Tax…\n",
      "1 .  @mona_qau German Bundeswehr (army) helped with vaccination during corona and also helping right this moment with flooding in German states.\n",
      "2 .  RT @RShivshankar: Foreign press, assorted Lutyens left lashkars, linked Kumbh to Covid but silent on Kerala appeasement model despite clear…\n",
      "3 .  @gerhard_zeiler @ORF Since the anchorman of ZiB2 has been sitting in court, at least Corona skeptics have been saying and not \"Co… https://t.co/HtgPOvhpP0\n",
      "4 .  RT @BrexitBin: The view from Germany:\n",
      "\"Bitter news for British agriculture. All over Great Britain, farmers are being forced to watch as th…\n",
      "5 .  RT @RShivshankar: Foreign press, assorted Lutyens left lashkars, linked Kumbh to Covid but silent on Kerala appeasement model despite clear…\n",
      "6 .  #Aiwanger criticizes in @DLF that quota for # COVID19 herd immunity is increasing and hides the reason: # Delta.… Https://t.co/zODEAlZalO\n",
      "7 .  RT @ItsKs_official: @ugc_india @OfficialIGNOU @ndtvindia @aajtak @AH_Helpline @ANI  please support the students of #IGNOU  in favour of onl…\n",
      "8 .  Modiji, Corona ki 3rd laher, ek ZOLE,pagar nahi dene ka. @narenarendramodi @ithasitharaman @PMOIndia… https://t.co/p56ub1io5g\n",
      "9 .  RT @OlafGersemann: 😮\n",
      "\n",
      "The number of # Corona cases reported to the RKI in 🇩🇪 was 2,768 yesterday.\n",
      "\n",
      "➡️ plus 26% on the previous week\n",
      "\n",
      "➡️ highest day ...\n"
     ]
    }
   ],
   "source": [
    "import json\n",
    "\n",
    "tweetJSON = {}\n",
    "\n",
    "with open('./result.json' , encoding='utf-8') as J:\n",
    "    tweetJSON = json.loads(J.read())\n",
    "    \n",
    "tweets = json.loads(tweetJSON['response']['tweets'])\n",
    "\n",
    "tweet_texts = []\n",
    "\n",
    "for index,tweet in enumerate(tweets):\n",
    "    print( index ,\". \" , tweet['text'] )\n",
    "    tweet_texts.append(tweet['text'])"
   ]
  },
  {
   "cell_type": "markdown",
   "metadata": {},
   "source": [
    "## data pre-processing\n",
    "\n",
    "- importing the nltk library\n",
    "- removing the stopwords"
   ]
  },
  {
   "cell_type": "code",
   "execution_count": 19,
   "metadata": {},
   "outputs": [
    {
     "data": {
      "text/plain": [
       "['this',\n",
       " 's',\n",
       " 'them',\n",
       " 'didn',\n",
       " 'be',\n",
       " 'the',\n",
       " \"aren't\",\n",
       " \"don't\",\n",
       " 'of',\n",
       " 'don',\n",
       " 'haven',\n",
       " 'because',\n",
       " 'ours',\n",
       " 'through',\n",
       " 'any',\n",
       " 'and',\n",
       " 'i',\n",
       " \"should've\",\n",
       " 'out',\n",
       " 'again']"
      ]
     },
     "execution_count": 19,
     "metadata": {},
     "output_type": "execute_result"
    }
   ],
   "source": [
    "from nltk.corpus import stopwords\n",
    "en_stop_words = set(stopwords.words('english'))\n",
    "list(en_stop_words)[:20]"
   ]
  },
  {
   "cell_type": "markdown",
   "metadata": {},
   "source": [
    "converting the list of tweets into `dataframe`"
   ]
  },
  {
   "cell_type": "code",
   "execution_count": 20,
   "metadata": {},
   "outputs": [
    {
     "data": {
      "text/html": [
       "<div>\n",
       "<style scoped>\n",
       "    .dataframe tbody tr th:only-of-type {\n",
       "        vertical-align: middle;\n",
       "    }\n",
       "\n",
       "    .dataframe tbody tr th {\n",
       "        vertical-align: top;\n",
       "    }\n",
       "\n",
       "    .dataframe thead th {\n",
       "        text-align: right;\n",
       "    }\n",
       "</style>\n",
       "<table border=\"1\" class=\"dataframe\">\n",
       "  <thead>\n",
       "    <tr style=\"text-align: right;\">\n",
       "      <th></th>\n",
       "      <th>text</th>\n",
       "    </tr>\n",
       "  </thead>\n",
       "  <tbody>\n",
       "    <tr>\n",
       "      <th>0</th>\n",
       "      <td>RT @Nehr_who: IMF projects India's GDP growth ...</td>\n",
       "    </tr>\n",
       "    <tr>\n",
       "      <th>1</th>\n",
       "      <td>RT @EnggalPMT: The public was deceived and del...</td>\n",
       "    </tr>\n",
       "    <tr>\n",
       "      <th>2</th>\n",
       "      <td>Go Corona Go 😠\\n\\n#Sidhearts  want to be see !...</td>\n",
       "    </tr>\n",
       "    <tr>\n",
       "      <th>3</th>\n",
       "      <td>the world has come to an end\\n #cernobil #depr...</td>\n",
       "    </tr>\n",
       "    <tr>\n",
       "      <th>4</th>\n",
       "      <td>RT @shristi111: A caller at Call Kantipur ment...</td>\n",
       "    </tr>\n",
       "    <tr>\n",
       "      <th>5</th>\n",
       "      <td>RT @ nirmal26182697: @VapiAshram Drs, nurses, ...</td>\n",
       "    </tr>\n",
       "    <tr>\n",
       "      <th>6</th>\n",
       "      <td>RT @KantyBoii: GF: Baby I need to tell you som...</td>\n",
       "    </tr>\n",
       "    <tr>\n",
       "      <th>7</th>\n",
       "      <td>If the corona is finished, I want to beach the...</td>\n",
       "    </tr>\n",
       "    <tr>\n",
       "      <th>8</th>\n",
       "      <td>RT @ hectorpolo3: Claudia López aka la guachar...</td>\n",
       "    </tr>\n",
       "    <tr>\n",
       "      <th>9</th>\n",
       "      <td>RT @ankitsinha0880: What are you cribbing abou...</td>\n",
       "    </tr>\n",
       "  </tbody>\n",
       "</table>\n",
       "</div>"
      ],
      "text/plain": [
       "                                                text\n",
       "0  RT @Nehr_who: IMF projects India's GDP growth ...\n",
       "1  RT @EnggalPMT: The public was deceived and del...\n",
       "2  Go Corona Go 😠\\n\\n#Sidhearts  want to be see !...\n",
       "3  the world has come to an end\\n #cernobil #depr...\n",
       "4  RT @shristi111: A caller at Call Kantipur ment...\n",
       "5  RT @ nirmal26182697: @VapiAshram Drs, nurses, ...\n",
       "6  RT @KantyBoii: GF: Baby I need to tell you som...\n",
       "7  If the corona is finished, I want to beach the...\n",
       "8  RT @ hectorpolo3: Claudia López aka la guachar...\n",
       "9  RT @ankitsinha0880: What are you cribbing abou..."
      ]
     },
     "execution_count": 20,
     "metadata": {},
     "output_type": "execute_result"
    }
   ],
   "source": [
    "import pandas as pd\n",
    "\n",
    "data = { 'text' : tweet_texts }\n",
    "\n",
    "df_tweets = pd.DataFrame(data=data)\n",
    "\n",
    "df_tweets"
   ]
  },
  {
   "cell_type": "markdown",
   "metadata": {},
   "source": [
    "## Neccessary imports"
   ]
  },
  {
   "cell_type": "code",
   "execution_count": 32,
   "metadata": {},
   "outputs": [],
   "source": [
    "from sklearn.feature_extraction.text import CountVectorizer\n",
    "from gensim.corpora import Dictionary\n",
    "from gensim.models.ldamodel import LdaModel\n",
    "from gensim.models import CoherenceModel\n",
    "from nltk.corpus import stopwords\n",
    "from nltk.tokenize import RegexpTokenizer\n",
    "from datetime import datetime\n",
    "import nltk\n",
    "# nltk.download('stopwords')\n",
    "from matplotlib import pyplot as plt\n",
    "import re\n",
    "import math"
   ]
  },
  {
   "cell_type": "markdown",
   "metadata": {},
   "source": [
    "## data cleaning\n",
    "\n",
    "- removing the hyper-links , web addresses in the tweets\n",
    "- tokenize the tweets using regexTokenizier"
   ]
  },
  {
   "cell_type": "code",
   "execution_count": 26,
   "metadata": {},
   "outputs": [],
   "source": [
    "def clean_tweets(df=df_tweets, \n",
    "                 tweet_col='text', \n",
    "                 date_col='created_at',\n",
    "                 start_datetime=datetime(2017,1,20, 0, 0, 0)\n",
    "                ):\n",
    "    \n",
    "    df_copy = df.copy()\n",
    "    \n",
    "    # drop rows with empty values\n",
    "    df_copy.dropna(inplace=True)\n",
    "    \n",
    "    # format the date\n",
    "    # df_copy[date_col] = df_copy[date_col].apply(lambda row: datetime.strptime(row, '%m-%d-%Y %H:%M:%S'))\n",
    "    \n",
    "    # filter rows older than a given date\n",
    "    # df_copy = df_copy[df_copy[date_col] >=start_datetime]\n",
    "    \n",
    "    # lower the tweets\n",
    "    df_copy['preprocessed_' + tweet_col] = df_copy[tweet_col].str.lower()\n",
    "    \n",
    "    # filter out stop words and URLs\n",
    "    stop_words = set(stopwords.words('english'))\n",
    " \n",
    "    url_re = '(https?:\\/\\/(?:www\\.|(?!www))[a-zA-Z0-9][a-zA-Z0-9-]+[a-zA-Z0-9]\\.[^\\s]{2,}|www\\.[a-zA-Z0-9][a-zA-Z0-9-]+[a-zA-Z0-9]\\.[^\\s]{2,}|https?:\\/\\/(?:www\\.|(?!www))[a-zA-Z0-9]+\\.[^\\s]{2,}|www\\.[a-zA-Z0-9]+\\.[^\\s]{2,})'        \n",
    "    df_copy['preprocessed_' + tweet_col] = df_copy['preprocessed_' + tweet_col].apply(lambda row: ' '.join([word for word in row.split() if (not word in stop_words) and (not re.match(url_re, word))]))\n",
    "    \n",
    "    # tokenize the tweets\n",
    "    tokenizer = RegexpTokenizer('[a-zA-Z]\\w+\\'?\\w*')\n",
    "    df_copy['tokenized_' + tweet_col] = df_copy['preprocessed_' + tweet_col].apply(lambda row: tokenizer.tokenize(row))\n",
    "    \n",
    "    return df_copy"
   ]
  },
  {
   "cell_type": "markdown",
   "metadata": {},
   "source": [
    "visualizing the tweets after cleaning"
   ]
  },
  {
   "cell_type": "code",
   "execution_count": 28,
   "metadata": {},
   "outputs": [
    {
     "data": {
      "text/html": [
       "<div>\n",
       "<style scoped>\n",
       "    .dataframe tbody tr th:only-of-type {\n",
       "        vertical-align: middle;\n",
       "    }\n",
       "\n",
       "    .dataframe tbody tr th {\n",
       "        vertical-align: top;\n",
       "    }\n",
       "\n",
       "    .dataframe thead th {\n",
       "        text-align: right;\n",
       "    }\n",
       "</style>\n",
       "<table border=\"1\" class=\"dataframe\">\n",
       "  <thead>\n",
       "    <tr style=\"text-align: right;\">\n",
       "      <th></th>\n",
       "      <th>text</th>\n",
       "      <th>preprocessed_text</th>\n",
       "      <th>tokenized_text</th>\n",
       "    </tr>\n",
       "  </thead>\n",
       "  <tbody>\n",
       "    <tr>\n",
       "      <th>0</th>\n",
       "      <td>RT @Nehr_who: IMF projects India's GDP growth ...</td>\n",
       "      <td>rt @nehr_who: imf projects india's gdp growth ...</td>\n",
       "      <td>[rt, nehr_who, imf, projects, india's, gdp, gr...</td>\n",
       "    </tr>\n",
       "    <tr>\n",
       "      <th>1</th>\n",
       "      <td>RT @EnggalPMT: The public was deceived and del...</td>\n",
       "      <td>rt @enggalpmt: public deceived deliberately ca...</td>\n",
       "      <td>[rt, enggalpmt, public, deceived, deliberately...</td>\n",
       "    </tr>\n",
       "    <tr>\n",
       "      <th>2</th>\n",
       "      <td>Go Corona Go 😠\\n\\n#Sidhearts  want to be see !...</td>\n",
       "      <td>go corona go 😠 #sidhearts want see !! @sidhart...</td>\n",
       "      <td>[go, corona, go, sidhearts, want, see, sidhart...</td>\n",
       "    </tr>\n",
       "    <tr>\n",
       "      <th>3</th>\n",
       "      <td>the world has come to an end\\n #cernobil #depr...</td>\n",
       "      <td>world come end #cernobil #deprem #corona etc. ...</td>\n",
       "      <td>[world, come, end, cernobil, deprem, corona, e...</td>\n",
       "    </tr>\n",
       "    <tr>\n",
       "      <th>4</th>\n",
       "      <td>RT @shristi111: A caller at Call Kantipur ment...</td>\n",
       "      <td>rt @shristi111: caller call kantipur mentioned...</td>\n",
       "      <td>[rt, shristi111, caller, call, kantipur, menti...</td>\n",
       "    </tr>\n",
       "    <tr>\n",
       "      <th>5</th>\n",
       "      <td>RT @ nirmal26182697: @VapiAshram Drs, nurses, ...</td>\n",
       "      <td>rt @ nirmal26182697: @vapiashram drs, nurses, ...</td>\n",
       "      <td>[rt, nirmal26182697, vapiashram, drs, nurses, ...</td>\n",
       "    </tr>\n",
       "    <tr>\n",
       "      <th>6</th>\n",
       "      <td>RT @KantyBoii: GF: Baby I need to tell you som...</td>\n",
       "      <td>rt @kantyboii: gf: baby need tell something bf...</td>\n",
       "      <td>[rt, kantyboii, gf, baby, need, tell, somethin...</td>\n",
       "    </tr>\n",
       "    <tr>\n",
       "      <th>7</th>\n",
       "      <td>If the corona is finished, I want to beach the...</td>\n",
       "      <td>corona finished, want beach bodo much: (((</td>\n",
       "      <td>[corona, finished, want, beach, bodo, much]</td>\n",
       "    </tr>\n",
       "    <tr>\n",
       "      <th>8</th>\n",
       "      <td>RT @ hectorpolo3: Claudia López aka la guachar...</td>\n",
       "      <td>rt @ hectorpolo3: claudia lópez aka la guachar...</td>\n",
       "      <td>[rt, hectorpolo3, claudia, lópez, aka, la, gua...</td>\n",
       "    </tr>\n",
       "    <tr>\n",
       "      <th>9</th>\n",
       "      <td>RT @ankitsinha0880: What are you cribbing abou...</td>\n",
       "      <td>rt @ankitsinha0880: cribbing about? want much ...</td>\n",
       "      <td>[rt, ankitsinha0880, cribbing, about, want, mu...</td>\n",
       "    </tr>\n",
       "  </tbody>\n",
       "</table>\n",
       "</div>"
      ],
      "text/plain": [
       "                                                text  \\\n",
       "0  RT @Nehr_who: IMF projects India's GDP growth ...   \n",
       "1  RT @EnggalPMT: The public was deceived and del...   \n",
       "2  Go Corona Go 😠\\n\\n#Sidhearts  want to be see !...   \n",
       "3  the world has come to an end\\n #cernobil #depr...   \n",
       "4  RT @shristi111: A caller at Call Kantipur ment...   \n",
       "5  RT @ nirmal26182697: @VapiAshram Drs, nurses, ...   \n",
       "6  RT @KantyBoii: GF: Baby I need to tell you som...   \n",
       "7  If the corona is finished, I want to beach the...   \n",
       "8  RT @ hectorpolo3: Claudia López aka la guachar...   \n",
       "9  RT @ankitsinha0880: What are you cribbing abou...   \n",
       "\n",
       "                                   preprocessed_text  \\\n",
       "0  rt @nehr_who: imf projects india's gdp growth ...   \n",
       "1  rt @enggalpmt: public deceived deliberately ca...   \n",
       "2  go corona go 😠 #sidhearts want see !! @sidhart...   \n",
       "3  world come end #cernobil #deprem #corona etc. ...   \n",
       "4  rt @shristi111: caller call kantipur mentioned...   \n",
       "5  rt @ nirmal26182697: @vapiashram drs, nurses, ...   \n",
       "6  rt @kantyboii: gf: baby need tell something bf...   \n",
       "7         corona finished, want beach bodo much: (((   \n",
       "8  rt @ hectorpolo3: claudia lópez aka la guachar...   \n",
       "9  rt @ankitsinha0880: cribbing about? want much ...   \n",
       "\n",
       "                                      tokenized_text  \n",
       "0  [rt, nehr_who, imf, projects, india's, gdp, gr...  \n",
       "1  [rt, enggalpmt, public, deceived, deliberately...  \n",
       "2  [go, corona, go, sidhearts, want, see, sidhart...  \n",
       "3  [world, come, end, cernobil, deprem, corona, e...  \n",
       "4  [rt, shristi111, caller, call, kantipur, menti...  \n",
       "5  [rt, nirmal26182697, vapiashram, drs, nurses, ...  \n",
       "6  [rt, kantyboii, gf, baby, need, tell, somethin...  \n",
       "7        [corona, finished, want, beach, bodo, much]  \n",
       "8  [rt, hectorpolo3, claudia, lópez, aka, la, gua...  \n",
       "9  [rt, ankitsinha0880, cribbing, about, want, mu...  "
      ]
     },
     "execution_count": 28,
     "metadata": {},
     "output_type": "execute_result"
    }
   ],
   "source": [
    "df_tweets_clean = clean_tweets(df_tweets)\n",
    "df_tweets_clean.head(10)"
   ]
  },
  {
   "cell_type": "markdown",
   "metadata": {},
   "source": [
    "utility function to retreive the common words in the string using bag-of-words"
   ]
  },
  {
   "cell_type": "code",
   "execution_count": 29,
   "metadata": {},
   "outputs": [],
   "source": [
    "def get_most_freq_words(str, n=None):\n",
    "    vect = CountVectorizer().fit(str)\n",
    "    bag_of_words = vect.transform(str)\n",
    "    sum_words = bag_of_words.sum(axis=0) \n",
    "    freq = [(word, sum_words[0, idx]) for word, idx in vect.vocabulary_.items()]\n",
    "    freq =sorted(freq, key = lambda x: x[1], reverse=True)\n",
    "    return freq[:n]"
   ]
  },
  {
   "cell_type": "markdown",
   "metadata": {},
   "source": [
    "we are retrieving the most frequently used words in the tweets using this utility `get_most_freq_words`"
   ]
  },
  {
   "cell_type": "code",
   "execution_count": 30,
   "metadata": {},
   "outputs": [
    {
     "data": {
      "text/plain": [
       "[('rt', 7),\n",
       " ('corona', 7),\n",
       " ('want', 3),\n",
       " ('india', 2),\n",
       " ('go', 2),\n",
       " ('gf', 2),\n",
       " ('bf', 2),\n",
       " ('much', 2),\n",
       " ('nehr_who', 1),\n",
       " ('imf', 1)]"
      ]
     },
     "execution_count": 30,
     "metadata": {},
     "output_type": "execute_result"
    }
   ],
   "source": [
    "get_most_freq_words([ word for tweet in df_tweets_clean.tokenized_text for word in tweet],10)"
   ]
  },
  {
   "cell_type": "markdown",
   "metadata": {},
   "source": [
    "visualizing the number of topics that our model has predicted vs the coherence score"
   ]
  },
  {
   "cell_type": "code",
   "execution_count": 33,
   "metadata": {},
   "outputs": [
    {
     "data": {
      "image/png": "[encoded data removed]",
      "text/plain": [
       "<Figure size 720x360 with 1 Axes>"
      ]
     },
     "metadata": {
      "needs_background": "light"
     },
     "output_type": "display_data"
    }
   ],
   "source": [
    "# build a dictionary where for each tweet, each word has its own id.\n",
    "# We have 6882 tweets and 10893 words in the dictionary.\n",
    "tweets_dictionary = Dictionary(df_tweets_clean.tokenized_text)\n",
    "\n",
    "# build the corpus i.e. vectors with the number of occurence of each word per tweet\n",
    "tweets_corpus = [tweets_dictionary.doc2bow(tweet) for tweet in df_tweets_clean.tokenized_text]\n",
    "\n",
    "# compute coherence\n",
    "tweets_coherence = []\n",
    "for nb_topics in range(1,36):\n",
    "    lda = LdaModel(tweets_corpus, num_topics = nb_topics, id2word = tweets_dictionary, passes=10)\n",
    "    cohm = CoherenceModel(model=lda, corpus=tweets_corpus, dictionary=tweets_dictionary, coherence='u_mass')\n",
    "    coh = cohm.get_coherence()\n",
    "    tweets_coherence.append(coh)\n",
    "\n",
    "# visualize coherence\n",
    "plt.figure(figsize=(10,5))\n",
    "plt.plot(range(1,36),tweets_coherence)\n",
    "plt.xlabel(\"Number of Topics\")\n",
    "plt.ylabel(\"Coherence Score\");"
   ]
  },
  {
   "cell_type": "markdown",
   "metadata": {},
   "source": [
    "testing the lda-model with `num_topics=10` to test our hypothesis"
   ]
  },
  {
   "cell_type": "code",
   "execution_count": 38,
   "metadata": {},
   "outputs": [
    {
     "name": "stdout",
     "output_type": "stream",
     "text": [
      "10\n"
     ]
    }
   ],
   "source": [
    "k = 10\n",
    "tweets_lda = LdaModel(tweets_corpus, num_topics = k, id2word = tweets_dictionary, passes=10)\n",
    "\n",
    "topics = tweets_lda.show_topics()\n",
    "\n",
    "print(len(topics))"
   ]
  },
  {
   "cell_type": "code",
   "execution_count": null,
   "metadata": {},
   "outputs": [],
   "source": []
  }
 ],
 "metadata": {
  "kernelspec": {
   "display_name": "Python 3",
   "language": "python",
   "name": "python3"
  },
  "language_info": {
   "codemirror_mode": {
    "name": "ipython",
    "version": 3
   },
   "file_extension": ".py",
   "mimetype": "text/x-python",
   "name": "python",
   "nbconvert_exporter": "python",
   "pygments_lexer": "ipython3",
   "version": "3.7.10"
  }
 },
 "nbformat": 4,
 "nbformat_minor": 4
}
