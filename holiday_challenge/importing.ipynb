{
 "cells": [
  {
   "cell_type": "code",
   "execution_count": 24,
   "metadata": {},
   "outputs": [],
   "source": [
    "import numpy as np\n",
    "import pandas as pd\n",
    "import os\n",
    "# for reading and displaying images\n",
    "from skimage.io import imread\n",
    "from skimage.transform import resize\n",
    "# for reading the csv\n",
    "import csv\n",
    "# for creating datasets\n",
    "import h5py\n",
    "from matplotlib import pyplot as plt\n"
   ]
  },
  {
   "cell_type": "code",
   "execution_count": 25,
   "metadata": {},
   "outputs": [
    {
     "name": "stdout",
     "output_type": "stream",
     "text": [
      "train_x  (6469, 28, 28, 3)\n",
      "train_y  (6469,)\n",
      "list_class  [b'Airplane' b'Candle' b'Christmas_Tree' b'Jacket' b'Miscellaneous'\n",
      " b'Snowman']\n",
      "train_array  [b'image3476.jpg' b'image5198.jpg' b'image4183.jpg' ... b'image4124.jpg'\n",
      " b'image7695.jpg' b'image3428.jpg']\n"
     ]
    }
   ],
   "source": [
    "# import training dataset\n",
    "train_dataset_path = os.path.join('train.h5')\n",
    "\n",
    "# reading the contents from the train.h5 file\n",
    "train_dataset = h5py.File(train_dataset_path,'r')\n",
    "\n",
    "# training data features\n",
    "train_x = train_dataset['train_x'][:]\n",
    "train_y = train_dataset['train_y'][:]\n",
    "train_array = train_dataset['train_array'][:]\n",
    "list_class = train_dataset['classes'][:]\n",
    "\n",
    "# wrap the values with numpy array\n",
    "train_x = np.array(train_x)\n",
    "train_y = np.array(train_y)\n",
    "list_class = np.array(list_class)\n",
    "train_images = np.array(train_array)\n",
    "\n",
    "print('train_x ' , train_x.shape)\n",
    "print('train_y ' , train_y.shape)\n",
    "print('list_class ',list_class)\n",
    "print('train_array ',train_array)"
   ]
  },
  {
   "cell_type": "code",
   "execution_count": 26,
   "metadata": {},
   "outputs": [
    {
     "name": "stdout",
     "output_type": "stream",
     "text": [
      "test_x  (3489, 28, 28, 3)\n",
      "list_class  [b'Airplane', b'Candle', b'Christmas_Tree', b'Jacket', b'Miscellaneous', b'Snowman']\n",
      "test_images  [b'image10.jpg' b'image100.jpg' b'image1013.jpg' ... b'image9958.jpg'\n",
      " b'image9960.jpg' b'image997.jpg']\n"
     ]
    }
   ],
   "source": [
    "# import testing dataset\n",
    "test_dataset_path = os.path.join('test.h5')\n",
    "\n",
    "# reading the contents from the test.h5 file\n",
    "test_dataset = h5py.File(test_dataset_path,'r')\n",
    "\n",
    "# training data features\n",
    "test_x = test_dataset['test_x'][:]\n",
    "list_class = test_dataset['classes'][:]\n",
    "test_array = test_dataset['test_array'][:]\n",
    "\n",
    "# wrap the values with numpy array\n",
    "test_x = np.array(test_x)\n",
    "list_class = np.array(list_class)\n",
    "test_images = np.array(test_array)\n",
    "\n",
    "array_list = list_class.tolist()\n",
    "\n",
    "print('test_x ',test_x.shape)\n",
    "print('list_class ',array_list)\n",
    "print('test_images ',test_images)"
   ]
  },
  {
   "cell_type": "code",
   "execution_count": 28,
   "metadata": {},
   "outputs": [
    {
     "name": "stdout",
     "output_type": "stream",
     "text": [
      "index =>  613\n",
      "image ->  b'image1448.jpg'\n",
      "label :  2 b'Christmas_Tree'\n",
      "sample ->  (1, 28, 28, 3)\n"
     ]
    },
    {
     "data": {
      "text/plain": [
       "Text(0.5, 1.0, \"b'Christmas_Tree'\")"
      ]
     },
     "execution_count": 28,
     "metadata": {},
     "output_type": "execute_result"
    },
    {
     "data": {
      "image/png": "[encoded data removed]",
      "text/plain": [
       "<Figure size 432x288 with 1 Axes>"
      ]
     },
     "metadata": {
      "needs_background": "light"
     },
     "output_type": "display_data"
    }
   ],
   "source": [
    "permutation = list(np.random.permutation(6469))\n",
    "\n",
    "index = permutation[0]\n",
    "\n",
    "print('index => ',index)\n",
    "\n",
    "sample = train_x[index:index+1]\n",
    "\n",
    "label = train_y[index]\n",
    "\n",
    "image = train_array[index]\n",
    "\n",
    "print('image -> ',image)\n",
    "\n",
    "title = array_list[label]\n",
    "\n",
    "print('label : ', label, title )\n",
    "\n",
    "print('sample -> ',sample.shape)\n",
    "\n",
    "resized_sample = sample.reshape(28,28,3)\n",
    "\n",
    "resized_sample.shape\n",
    "\n",
    "# fig, axs = plt.subplots(2)\n",
    "\n",
    "# axs[0].imshow( resized_sample )\n",
    "\n",
    "plt.imshow( resized_sample )\n",
    "plt.title(title)"
   ]
  },
  {
   "cell_type": "code",
   "execution_count": null,
   "metadata": {},
   "outputs": [],
   "source": []
  },
  {
   "cell_type": "code",
   "execution_count": null,
   "metadata": {},
   "outputs": [],
   "source": []
  }
 ],
 "metadata": {
  "kernelspec": {
   "display_name": "Python 3",
   "language": "python",
   "name": "python3"
  },
  "language_info": {
   "codemirror_mode": {
    "name": "ipython",
    "version": 3
   },
   "file_extension": ".py",
   "mimetype": "text/x-python",
   "name": "python",
   "nbconvert_exporter": "python",
   "pygments_lexer": "ipython3",
   "version": "3.7.10"
  }
 },
 "nbformat": 4,
 "nbformat_minor": 4
}
