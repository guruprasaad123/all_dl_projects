{
 "cells": [
  {
   "cell_type": "code",
   "execution_count": 5,
   "metadata": {},
   "outputs": [
    {
     "name": "stdout",
     "output_type": "stream",
     "text": [
      "Resized Successfully\n",
      "Test Image Shape (64, 64, 3)\n"
     ]
    },
    {
     "data": {
      "image/png": "[encoded data removed]",
      "text/plain": [
       "<Figure size 432x288 with 1 Axes>"
      ]
     },
     "metadata": {
      "needs_background": "light"
     },
     "output_type": "display_data"
    }
   ],
   "source": [
    "import tensorflow as tf\n",
    "import numpy as np\n",
    "from PIL import Image\n",
    "import os\n",
    "from matplotlib import image as mpimg\n",
    "from matplotlib import pyplot as plt\n",
    "\n",
    "'''\n",
    "\n",
    "When saving the model, you'll notice that it takes 4 types of files to save it:\n",
    "\n",
    "\".meta\" files: containing the graph structure\n",
    "\".data\" files: containing the values of variables\n",
    "\".index\" files: identifying the checkpoint\n",
    "\"checkpoint\" file: a protocol buffer with a list of recent checkpoints\n",
    "\n",
    "'''\n",
    "\n",
    "height = width = 64\n",
    "channels = 3\n",
    "\n",
    "#read the image\n",
    "im = Image.open(os.path.join(\"model_test\",\"hand_sign_1.jpg\") )\n",
    "\n",
    "#image size\n",
    "size=(height,width)\n",
    "#resize image\n",
    "out = im.resize(size)\n",
    "\n",
    "test_image =  np.array(out.getdata())\n",
    "\n",
    "test_image = test_image.reshape((height,width,channels))\n",
    "\n",
    "# print(  )\n",
    "\n",
    "#save resized image\n",
    "out.save(os.path.join(\"model_test\",\"resize_hand_sign_1.jpg\") )\n",
    "\n",
    "print('Resized Successfully')\n",
    "\n",
    "# test_image = mpimg.imread(os.path.join(\"model_test\",\"resize_hand_sign_1.jpg\"))[:, :, :channels]\n",
    "\n",
    "print('Test Image Shape',test_image.shape)\n",
    "\n",
    "plt.imshow(test_image) \n",
    "plt.axis(\"off\")\n",
    "plt.show()\n",
    "\n",
    "test_image = test_image.reshape((-1,height,width,channels))"
   ]
  },
  {
   "cell_type": "code",
   "execution_count": null,
   "metadata": {},
   "outputs": [],
   "source": []
  }
 ],
 "metadata": {
  "kernelspec": {
   "display_name": "Python 3.7 (tensorflow-legacy)",
   "language": "python",
   "name": "tensorflow-legacy"
  },
  "language_info": {
   "codemirror_mode": {
    "name": "ipython",
    "version": 3
   },
   "file_extension": ".py",
   "mimetype": "text/x-python",
   "name": "python",
   "nbconvert_exporter": "python",
   "pygments_lexer": "ipython3",
   "version": "3.7.9"
  }
 },
 "nbformat": 4,
 "nbformat_minor": 4
}
